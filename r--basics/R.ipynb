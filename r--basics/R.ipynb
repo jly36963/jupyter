{
 "cells": [
  {
   "cell_type": "code",
   "execution_count": null,
   "metadata": {},
   "outputs": [],
   "source": [
    "# R\n",
    "\n",
    "# run r script\n",
    "# Rscript my_file.R\n",
    "\n",
    "# start R\n",
    "# sudo -i R\n",
    "\n",
    "# install package (from CRAN)\n",
    "# install.packages(\"stringr\")\n",
    "\n",
    "# list packages installed\n",
    "# library()"
   ]
  },
  {
   "cell_type": "code",
   "execution_count": 26,
   "metadata": {
    "scrolled": true
   },
   "outputs": [
    {
     "name": "stdout",
     "output_type": "stream",
     "text": [
      "[1] \"hello\"\n",
      "hello there!"
     ]
    }
   ],
   "source": [
    "# variable assignment\n",
    "\n",
    "# assignment\n",
    "var1 <- \"hello\"\n",
    "var1 <<- \"hello\"\n",
    "\"hello\" -> var1\n",
    "\"hello\" ->> var1\n",
    "var1 = \"hello\"\n",
    "\n",
    "# print\n",
    "print(var1)\n",
    "cat(var1, \" there!\", sep=\"\")"
   ]
  },
  {
   "cell_type": "code",
   "execution_count": 1,
   "metadata": {},
   "outputs": [
    {
     "name": "stderr",
     "output_type": "stream",
     "text": [
      "Loading required package: stringr\n"
     ]
    },
    {
     "data": {
      "text/html": [
       "'Name: Itachi Uchiha'"
      ],
      "text/latex": [
       "'Name: Itachi Uchiha'"
      ],
      "text/markdown": [
       "'Name: Itachi Uchiha'"
      ],
      "text/plain": [
       "[1] \"Name: Itachi Uchiha\""
      ]
     },
     "metadata": {},
     "output_type": "display_data"
    }
   ],
   "source": [
    "# string interpolation\n",
    "\n",
    "# requires package\n",
    "if (!require('stringr')) install.packages('stringr')\n",
    "library('stringr')\n",
    "\n",
    "# interpolation\n",
    "name <- 'Itachi Uchiha'\n",
    "str_interp(\"Name: ${name}\")"
   ]
  },
  {
   "cell_type": "code",
   "execution_count": 2,
   "metadata": {},
   "outputs": [
    {
     "name": "stdout",
     "output_type": "stream",
     "text": [
      "[1] \"logical\"\n",
      "[1] \"numeric\"\n",
      "[1] \"integer\"\n",
      "[1] \"complex\"\n",
      "[1] \"character\"\n",
      "[1] \"raw\"\n"
     ]
    }
   ],
   "source": [
    "# vector objects (types)\n",
    "    # logical\n",
    "    # numeric\n",
    "    # integer\n",
    "    # complex\n",
    "    # character\n",
    "    # raw\n",
    "\n",
    "# atomic vectors -- linear vectors of a single primitive type.\n",
    "\n",
    "v <- TRUE \n",
    "print(class(v))\n",
    "\n",
    "v <- 23.5\n",
    "print(class(v))\n",
    "\n",
    "v <- 2L\n",
    "print(class(v))\n",
    "\n",
    "v <- 2+5i\n",
    "print(class(v))\n",
    "\n",
    "v <- \"TRUE\"\n",
    "print(class(v))\n",
    "\n",
    "v <- charToRaw(\"Hello\")\n",
    "print(class(v))"
   ]
  },
  {
   "cell_type": "code",
   "execution_count": null,
   "metadata": {
    "scrolled": true
   },
   "outputs": [],
   "source": []
  },
  {
   "cell_type": "code",
   "execution_count": null,
   "metadata": {},
   "outputs": [],
   "source": []
  },
  {
   "cell_type": "code",
   "execution_count": null,
   "metadata": {},
   "outputs": [],
   "source": []
  },
  {
   "cell_type": "code",
   "execution_count": null,
   "metadata": {},
   "outputs": [],
   "source": []
  },
  {
   "cell_type": "code",
   "execution_count": null,
   "metadata": {},
   "outputs": [],
   "source": []
  },
  {
   "cell_type": "code",
   "execution_count": null,
   "metadata": {},
   "outputs": [],
   "source": []
  },
  {
   "cell_type": "code",
   "execution_count": null,
   "metadata": {},
   "outputs": [],
   "source": []
  },
  {
   "cell_type": "code",
   "execution_count": 21,
   "metadata": {},
   "outputs": [
    {
     "name": "stdout",
     "output_type": "stream",
     "text": [
      "[1] \"a\"            \"A\"            \"apple\"        \"apple_colors\" \"BMI\"         \n",
      "[6] \"factor_apple\" \"list1\"        \"v\"            \"var1\"        \n",
      "[1] \"var1\"\n",
      " [1] \".pbd_env\"     \"a\"            \"A\"            \"apple\"        \"apple_colors\"\n",
      " [6] \"BMI\"          \"factor_apple\" \"list1\"        \"v\"            \"var1\"        \n"
     ]
    }
   ],
   "source": [
    "# list variables\n",
    "\n",
    "print(ls()) # print all (non-hidden) variables\n",
    "print(ls(pattern = \"var\")) # filter\n",
    "print(ls(all.name = TRUE)) # include hidden variables\n",
    "\n",
    "# remove variables\n",
    "var.2 <- 'Hello!!!'\n",
    "rm(var.2)\n",
    "\n",
    "# remove all variables\n",
    "# rm(list = ls())"
   ]
  },
  {
   "cell_type": "code",
   "execution_count": 23,
   "metadata": {},
   "outputs": [
    {
     "name": "stdout",
     "output_type": "stream",
     "text": [
      "[1] 10.0  8.5 10.0\n",
      "[1] -6.0  2.5  2.0\n",
      "[1] 16.0 16.5 24.0\n",
      "[1] 0.250000 1.833333 1.500000\n",
      "[1] 2.0 2.5 2.0\n",
      "[1] 0 1 1\n",
      "[1]  256.000  166.375 1296.000\n"
     ]
    }
   ],
   "source": [
    "# vector arithmetic operators\n",
    "    # if vectors are of unequal length -- short vector's elements are recycled to create matching length\n",
    "\n",
    "v <- c( 2, 5.5, 6)\n",
    "t <- c(8, 3, 4)\n",
    "\n",
    "print(v+t) # element-wise addition\n",
    "print(v-t) # element-wise subtraction\n",
    "print(v*t) # element-wise multiplication\n",
    "print(v/t) # element-wise division\n",
    "print(v%%t) # element-wise remainder (like modulus)\n",
    "print(v%/%t) # element-wise floor division\n",
    "print(v^t) # element-wise exponent"
   ]
  },
  {
   "cell_type": "code",
   "execution_count": 24,
   "metadata": {},
   "outputs": [
    {
     "name": "stdout",
     "output_type": "stream",
     "text": [
      "[1] FALSE  TRUE FALSE FALSE\n",
      "[1]  TRUE FALSE  TRUE FALSE\n",
      "[1] FALSE FALSE FALSE  TRUE\n",
      "[1]  TRUE FALSE  TRUE  TRUE\n",
      "[1] FALSE  TRUE FALSE  TRUE\n",
      "[1]  TRUE  TRUE  TRUE FALSE\n"
     ]
    }
   ],
   "source": [
    "# relational operators \n",
    "\n",
    "v <- c(2, 5.5, 6, 9)\n",
    "t <- c(8, 2.5, 14, 9)\n",
    "\n",
    "# element-wise comparison\n",
    "print(v > t)\n",
    "print(v < t)\n",
    "print(v == t)\n",
    "print(v <= t)\n",
    "print(v >= t)\n",
    "print(v != t)"
   ]
  },
  {
   "cell_type": "code",
   "execution_count": 25,
   "metadata": {},
   "outputs": [
    {
     "name": "stdout",
     "output_type": "stream",
     "text": [
      "[1]  TRUE  TRUE FALSE  TRUE\n",
      "[1] TRUE TRUE TRUE TRUE\n",
      "[1] FALSE FALSE FALSE FALSE\n",
      "[1] TRUE\n",
      "[1] TRUE\n"
     ]
    }
   ],
   "source": [
    "# logical operators\n",
    "\n",
    "v <- c(3,1,TRUE,2+3i)\n",
    "t <- c(4,1,FALSE,2+3i)\n",
    "\n",
    "# element-wise comparison\n",
    "print(v & t)\n",
    "print(v | t)\n",
    "print(!v)\n",
    "\n",
    "# consider only first elements\n",
    "print(v && t)\n",
    "print(v || t)\n"
   ]
  },
  {
   "cell_type": "code",
   "execution_count": 27,
   "metadata": {},
   "outputs": [
    {
     "name": "stdout",
     "output_type": "stream",
     "text": [
      "[1] 2 3 4 5 6 7 8\n",
      "[1] TRUE\n",
      "[1] FALSE\n",
      "     [,1] [,2]\n",
      "[1,]   65   82\n",
      "[2,]   82  117\n"
     ]
    }
   ],
   "source": [
    "# other operators\n",
    "\n",
    "# range/sequence\n",
    "print(2:8)\n",
    "\n",
    "# membership testing \n",
    "v1 <- 8\n",
    "v2 <- 12\n",
    "t <- 1:10\n",
    "print(v1 %in% t) \n",
    "print(v2 %in% t) \n",
    "\n",
    "# A @ A_t\n",
    "M = matrix( c(2,6,5,1,10,4), nrow = 2,ncol = 3,byrow = TRUE)\n",
    "t = M %*% t(M)\n",
    "print(t)\n"
   ]
  },
  {
   "cell_type": "code",
   "execution_count": 42,
   "metadata": {},
   "outputs": [
    {
     "name": "stdout",
     "output_type": "stream",
     "text": [
      "[1] \"X is an Integer\"\n",
      "[1] \"no match found\"\n",
      "[1] 0\n",
      "[1] 1\n",
      "[1] 2\n",
      "[1] 3\n",
      "[1] 0\n",
      "[1] 1\n",
      "[1] 2\n",
      "[1] 3\n",
      "[1] 0\n",
      "[1] 1\n",
      "[1] 2\n",
      "[1] 3\n",
      "[1] 0\n",
      "[1] 1\n",
      "[1] 2\n",
      "[1] 4\n",
      "[1] 5\n"
     ]
    }
   ],
   "source": [
    "# control flow\n",
    "\n",
    "# if\n",
    "x <- 30L\n",
    "if(is.integer(x)) {\n",
    "   print(\"X is an Integer\")\n",
    "}\n",
    "\n",
    "# if, else if, else\n",
    "v1 <- c(1:10)\n",
    "num1 <- 12\n",
    "num2 <- 8.3\n",
    "if(num1 %in% v1) {\n",
    "   print(\"num1 is in v1 \")\n",
    "} else if (num2 %in% v1) {\n",
    "   print(\"num2 is in v1\")\n",
    "} else {\n",
    "   print(\"no match found\")\n",
    "}\n",
    "\n",
    "# switch\n",
    "\n",
    "# repeat loop\n",
    "cnt <- 0\n",
    "repeat {\n",
    "   print(cnt)\n",
    "   cnt <- cnt+1\n",
    "   if(cnt > 3) {\n",
    "      break\n",
    "   }\n",
    "}\n",
    "\n",
    "# while loop\n",
    "cnt <- 0\n",
    "while (cnt < 4) {\n",
    "   print(cnt)\n",
    "   cnt = cnt + 1\n",
    "}\n",
    "\n",
    "# for loop\n",
    "for (i in 0:3) {\n",
    "    print(i)\n",
    "}\n",
    "\n",
    "\n",
    "# break, next\n",
    "for (i in 0:8) {\n",
    "    if(i == 3) next\n",
    "    print(i)\n",
    "    if(i == 5) break\n",
    "}"
   ]
  },
  {
   "cell_type": "code",
   "execution_count": 4,
   "metadata": {},
   "outputs": [
    {
     "name": "stdout",
     "output_type": "stream",
     "text": [
      "[1] \"hello there!\"\n",
      "[1] \"Hello, Kakashi!\"\n",
      "[1] 6\n",
      "[1] 7\n"
     ]
    }
   ],
   "source": [
    "# functions\n",
    "\n",
    "# requires package\n",
    "if (!require('stringr')) install.packages('stringr')\n",
    "library('stringr')\n",
    "\n",
    "# no param\n",
    "func1 <- function() {\n",
    "    print('hello there!')\n",
    "}\n",
    "# with arg\n",
    "func2 <- function(name) {\n",
    "    print(str_interp(\"Hello, ${name}!\"))\n",
    "}\n",
    "# variable number of args\n",
    "func3 <- function(...) {\n",
    "    print(sum(...))\n",
    "}\n",
    "# default arguments\n",
    "func4 <- function(a=3, b=4) {\n",
    "    print(a + b)\n",
    "}\n",
    "\n",
    "# execute\n",
    "func1()\n",
    "func2('Kakashi')\n",
    "func3(c(1,2,3))\n",
    "func4()"
   ]
  },
  {
   "cell_type": "code",
   "execution_count": 43,
   "metadata": {},
   "outputs": [
    {
     "name": "stdout",
     "output_type": "stream",
     "text": [
      " [1] 32 33 34 35 36 37 38 39 40 41 42 43 44\n",
      "[1] 38\n",
      "[1] 494\n"
     ]
    }
   ],
   "source": [
    "# useful built-in functions\n",
    "print(seq(32,44))\n",
    "print(mean(32:44))\n",
    "print(sum(32:44))"
   ]
  },
  {
   "cell_type": "code",
   "execution_count": 5,
   "metadata": {},
   "outputs": [
    {
     "name": "stdout",
     "output_type": "stream",
     "text": [
      " [1]  1  2  3  4  5  6  7  8  9 10\n",
      " [1]  1.1  2.1  3.1  4.1  5.1  6.1  7.1  8.1  9.1 10.1\n",
      " [1] 1.0 1.1 1.2 1.3 1.4 1.5 1.6 1.7 1.8 1.9 2.0\n"
     ]
    }
   ],
   "source": [
    "# sequence\n",
    "print(seq(1,10))\n",
    "print(seq(1.1, 10.1))\n",
    "print(seq(1,2, by= .1))"
   ]
  },
  {
   "cell_type": "code",
   "execution_count": 6,
   "metadata": {},
   "outputs": [
    {
     "name": "stdout",
     "output_type": "stream",
     "text": [
      "[1] \"a\" \"b\" \"c\"\n",
      "[1] \"1\" \"2\" \"3\" \"a\" \"b\" \"c\"\n"
     ]
    }
   ],
   "source": [
    "# c\n",
    "print(c('a','b','c'))\n",
    "print(c(1, 2, 3, 'a', 'b', 'c')) # coerced to characters"
   ]
  },
  {
   "cell_type": "code",
   "execution_count": null,
   "metadata": {},
   "outputs": [],
   "source": [
    "# vectors\n",
    "    # supports single type\n",
    "\n",
    "# Create a vector.\n",
    "apple <- c('red','green',\"yellow\")\n",
    "print(apple)\n",
    "\n",
    "# Get the class of the vector.\n",
    "print(class(apple))"
   ]
  },
  {
   "cell_type": "code",
   "execution_count": 32,
   "metadata": {},
   "outputs": [],
   "source": [
    "# vectors\n",
    "    # all elements have same type\n",
    "    # R uses 1-based indexing!!!\n",
    "\n",
    "# vector\n",
    "t <- c(\"Sun\",\"Mon\",\"Tue\",\"Wed\",\"Thurs\",\"Fri\",\"Sat\")\n",
    "\n",
    "# position\n",
    "u <- t[c(2,3,6)]\n",
    "\n",
    "# logical (boolean indexing)\n",
    "v <- t[c(TRUE,FALSE,FALSE,FALSE,FALSE,TRUE,FALSE)]\n",
    "\n",
    "# negative indexing\n",
    "x <- t[c(-2,-5)]\n",
    "\n",
    "# binary indexing\n",
    "y <- t[c(0,0,0,0,0,0,1)]\n"
   ]
  },
  {
   "cell_type": "code",
   "execution_count": null,
   "metadata": {},
   "outputs": [],
   "source": [
    "# vector element sorting\n",
    "v <- c(3,8,4,5,0,11, -9, 304)\n",
    "print(sort(v))\n",
    "print(sort(v, decreasing=TRUE))"
   ]
  },
  {
   "cell_type": "code",
   "execution_count": null,
   "metadata": {},
   "outputs": [],
   "source": [
    "# lists\n",
    "    # supports multiple types\n",
    "list1 = list(c('red', 2, TRUE, 2+5i))\n",
    "print(list1)"
   ]
  },
  {
   "cell_type": "code",
   "execution_count": 31,
   "metadata": {
    "scrolled": true
   },
   "outputs": [
    {
     "data": {
      "text/html": [
       "<dl class=dl-horizontal>\n",
       "\t<dt>Sun</dt>\n",
       "\t\t<dd>'Sunday'</dd>\n",
       "\t<dt>Mon</dt>\n",
       "\t\t<dd>'Monday'</dd>\n",
       "\t<dt>Tues</dt>\n",
       "\t\t<dd>'Tuesday'</dd>\n",
       "\t<dt>Wed</dt>\n",
       "\t\t<dd>'Wednesday'</dd>\n",
       "\t<dt>Thur</dt>\n",
       "\t\t<dd>'Thursday'</dd>\n",
       "\t<dt>Fri</dt>\n",
       "\t\t<dd>'Friday'</dd>\n",
       "\t<dt>Sat</dt>\n",
       "\t\t<dd>'Saturday'</dd>\n",
       "</dl>\n"
      ],
      "text/latex": [
       "\\begin{description*}\n",
       "\\item[Sun] 'Sunday'\n",
       "\\item[Mon] 'Monday'\n",
       "\\item[Tues] 'Tuesday'\n",
       "\\item[Wed] 'Wednesday'\n",
       "\\item[Thur] 'Thursday'\n",
       "\\item[Fri] 'Friday'\n",
       "\\item[Sat] 'Saturday'\n",
       "\\end{description*}\n"
      ],
      "text/markdown": [
       "Sun\n",
       ":   'Sunday'Mon\n",
       ":   'Monday'Tues\n",
       ":   'Tuesday'Wed\n",
       ":   'Wednesday'Thur\n",
       ":   'Thursday'Fri\n",
       ":   'Friday'Sat\n",
       ":   'Saturday'\n",
       "\n"
      ],
      "text/plain": [
       "        Sun         Mon        Tues         Wed        Thur         Fri \n",
       "   \"Sunday\"    \"Monday\"   \"Tuesday\" \"Wednesday\"  \"Thursday\"    \"Friday\" \n",
       "        Sat \n",
       " \"Saturday\" "
      ]
     },
     "metadata": {},
     "output_type": "display_data"
    }
   ],
   "source": [
    "# lists\n",
    "    # supports multiple different types\n",
    "\n",
    "# create list\n",
    "l = list('Sunday', 'Monday', 'Tuesday', 'Wednesday', 'Thursday', 'Friday', 'Saturday')\n",
    "# name list elements\n",
    "names(l) = c('Sun', 'Mon', 'Tues', 'Wed', 'Thur', 'Fri', 'Sat')\n",
    "# access by index\n",
    "element = l[1]\n",
    "# access by name\n",
    "element = l['Sun']\n",
    "# add element\n",
    "    # l[8] = 'MadeUpDay'\n",
    "l = append(l,'MadeUpDay') \n",
    "# update element\n",
    "l[8] = 'IShouldNotExistDay'\n",
    "# remove last element\n",
    "l[8] = NULL\n",
    "\n",
    "# merge list\n",
    "merged_list = c(l,l)\n",
    "# list to vector\n",
    "v = unlist(l)\n",
    "\n",
    "\n"
   ]
  },
  {
   "cell_type": "code",
   "execution_count": null,
   "metadata": {},
   "outputs": [],
   "source": [
    "# matrices\n",
    "    # supports multiple types (methods may not)\n",
    "A = matrix( c(1, 2, 3, 4, 5, 6, 7, 8, 9), nrow = 3, ncol = 3, byrow=TRUE)\n",
    "print(A)"
   ]
  },
  {
   "cell_type": "code",
   "execution_count": 64,
   "metadata": {},
   "outputs": [],
   "source": [
    "# matrices\n",
    "\n",
    "# dimension names\n",
    "indices = c(\"row1\", \"row2\", \"row3\", \"row4\")\n",
    "cols = c(\"col1\", \"col2\", \"col3\")\n",
    "\n",
    "A = matrix(\n",
    "    c(1:12), \n",
    "    nrow = 4, \n",
    "    ncol = 3, \n",
    "    byrow = TRUE,\n",
    "    dimnames = list(indices, cols)\n",
    ")\n",
    "\n",
    "# indexing\n",
    "element = A[1,3] # first row, third column\n",
    "row = A[2,] # second row\n",
    "col = A[,3]\n",
    "\n",
    "# math (element-wise)\n",
    "sum = A + A\n",
    "dif = A - A\n",
    "product = A * A\n",
    "quotient = A / A\n",
    "\n",
    "# matrix multiplication (A @ At)\n",
    "matmul = A %*% t(A)\n"
   ]
  },
  {
   "cell_type": "code",
   "execution_count": 102,
   "metadata": {
    "scrolled": true
   },
   "outputs": [
    {
     "name": "stdout",
     "output_type": "stream",
     "text": [
      ", , 1\n",
      "\n",
      "     [,1] [,2] [,3]\n",
      "[1,]    1    4    7\n",
      "[2,]    2    5    8\n",
      "[3,]    3    6    9\n",
      "\n",
      ", , 2\n",
      "\n",
      "     [,1] [,2] [,3]\n",
      "[1,]   10   13   16\n",
      "[2,]   11   14   17\n",
      "[3,]   12   15   18\n",
      "\n",
      ", , 3\n",
      "\n",
      "     [,1] [,2] [,3]\n",
      "[1,]   19   22   25\n",
      "[2,]   20   23   26\n",
      "[3,]   21   24   27\n",
      "\n"
     ]
    }
   ],
   "source": [
    "# arrays\n",
    "    # supports multiple dimensions (matrix is limited to 2)\n",
    "a <- array(c(1:27),dim = c(3,3,3))\n",
    "print(a)"
   ]
  },
  {
   "cell_type": "code",
   "execution_count": 72,
   "metadata": {},
   "outputs": [
    {
     "name": "stdout",
     "output_type": "stream",
     "text": [
      ", , page1\n",
      "\n",
      "     col1 col2 col3\n",
      "row1    1    4    7\n",
      "row2    2    5    8\n",
      "row3    3    6    9\n",
      "\n",
      ", , page2\n",
      "\n",
      "     col1 col2 col3\n",
      "row1    1    4    7\n",
      "row2    2    5    8\n",
      "row3    3    6    9\n",
      "\n"
     ]
    }
   ],
   "source": [
    "# array\n",
    "\n",
    "# create content\n",
    "v = c(1:9)\n",
    "indices = c(\"row1\", \"row2\", \"row3\")\n",
    "cols = c(\"col1\", \"col2\", \"col3\")\n",
    "pages = c('page1', 'page2')\n",
    "# create array\n",
    "ndarray = array(\n",
    "    v,\n",
    "    dim = c(3,3,2),\n",
    "    dimnames = list(indices, cols, pages)\n",
    ")\n",
    "print(ndarray)\n",
    "# indexing\n",
    "element = ndarray[1,1,1]\n",
    "row = ndarray[1,,]\n",
    "col = ndarray[,1,]\n",
    "page = ndarray[,,1]\n"
   ]
  },
  {
   "cell_type": "code",
   "execution_count": 103,
   "metadata": {},
   "outputs": [
    {
     "name": "stdout",
     "output_type": "stream",
     "text": [
      "[1] green  green  yellow red    red    red    green \n",
      "Levels: green red yellow\n",
      "[1] 3\n"
     ]
    }
   ],
   "source": [
    "# factors\n",
    "\n",
    "# Create a vector.\n",
    "apple_colors <- c('green','green','yellow','red','red','red','green')\n",
    "# Create a factor object.\n",
    "factor_apple <- factor(apple_colors)\n",
    "# Print the factor.\n",
    "print(factor_apple) # factor\n",
    "print(nlevels(factor_apple)) # number of distinct values"
   ]
  },
  {
   "cell_type": "code",
   "execution_count": 79,
   "metadata": {},
   "outputs": [
    {
     "name": "stdout",
     "output_type": "stream",
     "text": [
      " [1] East  West  East  North North East  West  West  West  East  North\n",
      "Levels: East North West\n",
      "[1] 3\n"
     ]
    },
    {
     "data": {
      "text/html": [
       "<ol class=list-inline>\n",
       "\t<li>red</li>\n",
       "\t<li>red</li>\n",
       "\t<li>red</li>\n",
       "\t<li>red</li>\n",
       "\t<li>green</li>\n",
       "\t<li>green</li>\n",
       "\t<li>green</li>\n",
       "\t<li>green</li>\n",
       "\t<li>blue</li>\n",
       "\t<li>blue</li>\n",
       "\t<li>blue</li>\n",
       "\t<li>blue</li>\n",
       "</ol>\n",
       "\n",
       "<details>\n",
       "\t<summary style=display:list-item;cursor:pointer>\n",
       "\t\t<strong>Levels</strong>:\n",
       "\t</summary>\n",
       "\t<ol class=list-inline>\n",
       "\t\t<li>'red'</li>\n",
       "\t\t<li>'green'</li>\n",
       "\t\t<li>'blue'</li>\n",
       "\t</ol>\n",
       "</details>"
      ],
      "text/latex": [
       "\\begin{enumerate*}\n",
       "\\item red\n",
       "\\item red\n",
       "\\item red\n",
       "\\item red\n",
       "\\item green\n",
       "\\item green\n",
       "\\item green\n",
       "\\item green\n",
       "\\item blue\n",
       "\\item blue\n",
       "\\item blue\n",
       "\\item blue\n",
       "\\end{enumerate*}\n",
       "\n",
       "\\emph{Levels}: \\begin{enumerate*}\n",
       "\\item 'red'\n",
       "\\item 'green'\n",
       "\\item 'blue'\n",
       "\\end{enumerate*}\n"
      ],
      "text/markdown": [
       "1. red\n",
       "2. red\n",
       "3. red\n",
       "4. red\n",
       "5. green\n",
       "6. green\n",
       "7. green\n",
       "8. green\n",
       "9. blue\n",
       "10. blue\n",
       "11. blue\n",
       "12. blue\n",
       "\n",
       "\n",
       "\n",
       "**Levels**: 1. 'red'\n",
       "2. 'green'\n",
       "3. 'blue'\n",
       "\n",
       "\n"
      ],
      "text/plain": [
       " [1] red   red   red   red   green green green green blue  blue  blue  blue \n",
       "Levels: red green blue"
      ]
     },
     "metadata": {},
     "output_type": "display_data"
    }
   ],
   "source": [
    "# factors (kinda like sets?)\n",
    "\n",
    "# vector\n",
    "v <- c(\"East\",\"West\",\"East\",\"North\",\"North\",\"East\",\"West\",\"West\",\"West\",\"East\",\"North\")\n",
    "# create factor\n",
    "f <- factor(v)\n",
    "# print factor\n",
    "print(f)\n",
    "# print number of levels (number of unique values)\n",
    "print(nlevels(f))\n",
    "# specify level order\n",
    "f <- factor(v, levels = c('East', 'West', 'North'))\n",
    "\n",
    "# generate\n",
    "    # n -- number of levels, k -- replications, labels -- vector of labels\n",
    "f <- gl(n = 3, k = 4, labels = c('red', 'green', 'blue'))"
   ]
  },
  {
   "cell_type": "code",
   "execution_count": null,
   "metadata": {},
   "outputs": [],
   "source": [
    "# csv\n",
    "\n",
    "# read csv\n",
    "df1 = read.csv('data.csv')\n",
    "# get info about df\n",
    "print(is.data.frame(df1))\n",
    "print(ncol(df1))\n",
    "print(nrow(df1))\n",
    "# write csv\n",
    "write.csv(df1, 'data.csv')"
   ]
  },
  {
   "cell_type": "code",
   "execution_count": null,
   "metadata": {},
   "outputs": [],
   "source": [
    "# xlsx\n",
    "\n",
    "# import\n",
    "if (!require('xlsx')) install.packages('xlsx')\n",
    "library('xlsx')\n",
    "\n",
    "# read\n",
    "df1 <- read.xlsx(\"data.xlsx\", sheetIndex = 1)\n",
    "# write\n",
    "write.xlsx(df1, \"data.xlsx\", sheetName=\"Sheet1\", col.names=TRUE, row.names=TRUE)\n"
   ]
  },
  {
   "cell_type": "code",
   "execution_count": null,
   "metadata": {},
   "outputs": [],
   "source": [
    "# json\n",
    "\n",
    "# NOT TESTED!!!\n",
    "\n",
    "# import\n",
    "if (!require('rjson')) install.packages('rjson')\n",
    "library('rjson')\n",
    "\n",
    "if (!require('jsonlite')) install.packages('jsonlite')\n",
    "library('jsonlite')\n",
    "\n",
    "# read\n",
    "data <- fromJSON(file = \"input.json\")\n",
    "df1 = as.data.frame(data)\n",
    "# write (columns)\n",
    "json_data = toJSON(df1, pretty = TRUE)\n",
    "write(json_data, 'data.json')\n",
    "# write (records)\n",
    "json_data <- toJSON(unname(split(res1, 1:nrow(df1))))\n",
    "write(json_data, 'data.json')\n"
   ]
  },
  {
   "cell_type": "code",
   "execution_count": null,
   "metadata": {},
   "outputs": [],
   "source": [
    "# mysql\n",
    "    # https://www.rdocumentation.org/packages/RMySQL/versions/0.10.13\n",
    "\n",
    "# import\n",
    "if (!require('RMySQL')) install.packages('RMySQL')\n",
    "library('RMySQL')\n",
    "\n",
    "# read\n",
    "conn = dbConnect(MySQL(), user = 'root', password = '', dbname = 'sakila', host = 'localhost')\n",
    "alltables = dbListTables(conn)\n",
    "res <- dbSendQuery(conn, \"SELECT * FROM table_name\")\n",
    "df1 = dbFetch(res)\n",
    "\n",
    "# write\n",
    "\n",
    "# disconnect\n",
    "dbDisconnect(conn)"
   ]
  },
  {
   "cell_type": "code",
   "execution_count": null,
   "metadata": {},
   "outputs": [],
   "source": [
    "# sqlite\n",
    "    # https://cran.r-project.org/web/packages/RSQLite/vignettes/RSQLite.html\n",
    "\n",
    "# import\n",
    "if (!require('RSQLite')) install.packages('RSQLite')\n",
    "library('RSQLite')\n",
    "\n",
    "# read\n",
    "conn = dbConnect(drv=\"SQLite\", dbname=\"data.sqlite\")\n",
    "alltables = dbListTables(conn) # list tables\n",
    "df1 = dbGetQuery(conn,'select * from table_name' )\n",
    "\n",
    "# write\n",
    "conn <- dbConnect(RSQLite::SQLite(), \"data.sqlite\")\n",
    "dbWriteTable(conn, \"table_name\", df1)\n"
   ]
  },
  {
   "cell_type": "code",
   "execution_count": null,
   "metadata": {},
   "outputs": [],
   "source": [
    "# postgres\n",
    "\n",
    "# import\n",
    "if (!require('RPostgreSQL')) install.packages('RPostgreSQL')\n",
    "library('RPostgreSQL')\n",
    "\n",
    "# read\n",
    "pg = dbDriver(\"PostgreSQL\")\n",
    "conn = dbConnect(pg, user=\"postgres\", password=\"postgres\", host=\"localhost\", port=5432, dbname=\"postgres\")\n",
    "res = dbGetQuery(conn, \"select * from table_name\")\n",
    "df1 <- as.data.frame(res)\n",
    "# write\n",
    "\n",
    "\n",
    "# disconnect\n",
    "dbDisconnect(con)"
   ]
  },
  {
   "cell_type": "code",
   "execution_count": 104,
   "metadata": {},
   "outputs": [
    {
     "name": "stdout",
     "output_type": "stream",
     "text": [
      "     gender height weight  Age\n",
      "[1,]   TRUE   TRUE   TRUE TRUE\n",
      "[2,]   TRUE   TRUE   TRUE TRUE\n",
      "[3,]   TRUE   TRUE   TRUE TRUE\n"
     ]
    }
   ],
   "source": [
    "# dataframes\n",
    "\n",
    "# create dataframe\n",
    "df1 <- data.frame(\n",
    "    gender = c(\"Male\", \"Male\",\"Female\"), \n",
    "    height = c(152, 171.5, 165), \n",
    "    weight = c(81,93, 78),\n",
    "    Age = c(42,38,26)\n",
    ")\n",
    "\n",
    "# create dataframe using cbind (on vectors)\n",
    "df2 <- cbind(\n",
    "    gender = c(\"Male\", \"Male\",\"Female\"), \n",
    "    height = c(152, 171.5, 165), \n",
    "    weight = c(81,93, 78),\n",
    "    Age = c(42,38,26)\n",
    ")\n",
    "print(df1 == df2)"
   ]
  },
  {
   "cell_type": "code",
   "execution_count": 101,
   "metadata": {},
   "outputs": [
    {
     "data": {
      "text/html": [
       "<table>\n",
       "<caption>A data.frame: 6 × 6</caption>\n",
       "<thead>\n",
       "\t<tr><th scope=col>id</th><th scope=col>name</th><th scope=col>age</th><th scope=col>jonin</th><th scope=col>awesome</th><th scope=col>alive</th></tr>\n",
       "\t<tr><th scope=col>&lt;int&gt;</th><th scope=col>&lt;chr&gt;</th><th scope=col>&lt;chr&gt;</th><th scope=col>&lt;lgl&gt;</th><th scope=col>&lt;lgl&gt;</th><th scope=col>&lt;lgl&gt;</th></tr>\n",
       "</thead>\n",
       "<tbody>\n",
       "\t<tr><td>1</td><td>Kakashi   </td><td>50</td><td> TRUE</td><td>TRUE</td><td> TRUE</td></tr>\n",
       "\t<tr><td>2</td><td>Hiruzen   </td><td>70</td><td> TRUE</td><td>TRUE</td><td>FALSE</td></tr>\n",
       "\t<tr><td>3</td><td>Konohamaru</td><td>30</td><td> TRUE</td><td>TRUE</td><td> TRUE</td></tr>\n",
       "\t<tr><td>4</td><td>Iruka     </td><td>50</td><td>FALSE</td><td>TRUE</td><td> TRUE</td></tr>\n",
       "\t<tr><td>5</td><td>Yamato    </td><td>50</td><td> TRUE</td><td>TRUE</td><td> TRUE</td></tr>\n",
       "\t<tr><td>6</td><td>Itachi    </td><td>50</td><td> TRUE</td><td>TRUE</td><td>FALSE</td></tr>\n",
       "</tbody>\n",
       "</table>\n"
      ],
      "text/latex": [
       "A data.frame: 6 × 6\n",
       "\\begin{tabular}{r|llllll}\n",
       " id & name & age & jonin & awesome & alive\\\\\n",
       " <int> & <chr> & <chr> & <lgl> & <lgl> & <lgl>\\\\\n",
       "\\hline\n",
       "\t 1 & Kakashi    & 50 &  TRUE & TRUE &  TRUE\\\\\n",
       "\t 2 & Hiruzen    & 70 &  TRUE & TRUE & FALSE\\\\\n",
       "\t 3 & Konohamaru & 30 &  TRUE & TRUE &  TRUE\\\\\n",
       "\t 4 & Iruka      & 50 & FALSE & TRUE &  TRUE\\\\\n",
       "\t 5 & Yamato     & 50 &  TRUE & TRUE &  TRUE\\\\\n",
       "\t 6 & Itachi     & 50 &  TRUE & TRUE & FALSE\\\\\n",
       "\\end{tabular}\n"
      ],
      "text/markdown": [
       "\n",
       "A data.frame: 6 × 6\n",
       "\n",
       "| id &lt;int&gt; | name &lt;chr&gt; | age &lt;chr&gt; | jonin &lt;lgl&gt; | awesome &lt;lgl&gt; | alive &lt;lgl&gt; |\n",
       "|---|---|---|---|---|---|\n",
       "| 1 | Kakashi    | 50 |  TRUE | TRUE |  TRUE |\n",
       "| 2 | Hiruzen    | 70 |  TRUE | TRUE | FALSE |\n",
       "| 3 | Konohamaru | 30 |  TRUE | TRUE |  TRUE |\n",
       "| 4 | Iruka      | 50 | FALSE | TRUE |  TRUE |\n",
       "| 5 | Yamato     | 50 |  TRUE | TRUE |  TRUE |\n",
       "| 6 | Itachi     | 50 |  TRUE | TRUE | FALSE |\n",
       "\n"
      ],
      "text/plain": [
       "  id name       age jonin awesome alive\n",
       "1 1  Kakashi    50   TRUE TRUE     TRUE\n",
       "2 2  Hiruzen    70   TRUE TRUE    FALSE\n",
       "3 3  Konohamaru 30   TRUE TRUE     TRUE\n",
       "4 4  Iruka      50  FALSE TRUE     TRUE\n",
       "5 5  Yamato     50   TRUE TRUE     TRUE\n",
       "6 6  Itachi     50   TRUE TRUE    FALSE"
      ]
     },
     "metadata": {},
     "output_type": "display_data"
    }
   ],
   "source": [
    "# dataframes\n",
    "df1 = data.frame(\n",
    "    id = c(1:5),\n",
    "    name = c('Kakashi', 'Hiruzen', 'Konohamaru', 'Iruka', 'Yamato'),\n",
    "    age = c(50L, 70L, 30L, 50L, 50L),\n",
    "    jonin = c(TRUE, TRUE, TRUE, FALSE, TRUE),\n",
    "    stringsAsFactors = FALSE \n",
    ")\n",
    "summary = summary(df1) # summary of df\n",
    "# selection\n",
    "row_selection = df1[1:2,] # first 2 rows\n",
    "col_selection = df1[,1:2] # first 2 cols\n",
    "both_selection = df1[c(1,3), c(2,4)] # rows 1 & 3, cols 2 & 4\n",
    "# new column\n",
    "df1$awesome = TRUE # new column, same value\n",
    "df1$alive = c(TRUE, FALSE, TRUE, TRUE, TRUE) # new column from vector of values\n",
    "# new row\n",
    "itachi = data.frame(\n",
    "    id = 6L,\n",
    "    name = 'Itachi',\n",
    "    age = '50',\n",
    "    jonin = TRUE,\n",
    "    awesome = TRUE,\n",
    "    alive = FALSE\n",
    ")\n",
    "df1 = rbind(df1, itachi)\n",
    "# display\n",
    "df1"
   ]
  },
  {
   "cell_type": "code",
   "execution_count": null,
   "metadata": {},
   "outputs": [],
   "source": [
    "# working with dataframes\n",
    "col1 = df1$col1 # get column\n",
    "max1 = max(df1$col1) # get max value\n",
    "record1 = subset(df1, col1 == max(col1)) # subset of df\n",
    "subset1 = subset(df1, col1 >= 5) # subset of df\n",
    "subset1 = subset(df1, col3 == 'Male' & col4 > 40) # multiple conditions\n",
    "subset1 = subset(df1, as.Date(start_date) > as.Date(\"2014-01-01\")) # compare dates"
   ]
  },
  {
   "cell_type": "code",
   "execution_count": 110,
   "metadata": {},
   "outputs": [
    {
     "ename": "ERROR",
     "evalue": "Error in setwd(\"2*\"): cannot change working directory\n",
     "output_type": "error",
     "traceback": [
      "Error in setwd(\"2*\"): cannot change working directory\nTraceback:\n",
      "1. setwd(\"2*\")"
     ]
    }
   ],
   "source": [
    "# os\n",
    "\n",
    "# cwd\n",
    "    # setwd()\n",
    "print(getwd())\n",
    "\n"
   ]
  },
  {
   "cell_type": "code",
   "execution_count": 2,
   "metadata": {},
   "outputs": [
    {
     "data": {
      "text/html": [
       "<strong>png:</strong> 2"
      ],
      "text/latex": [
       "\\textbf{png:} 2"
      ],
      "text/markdown": [
       "**png:** 2"
      ],
      "text/plain": [
       "png \n",
       "  2 "
      ]
     },
     "metadata": {},
     "output_type": "display_data"
    }
   ],
   "source": [
    "# pie chart\n",
    "\n",
    "# Create data for the graph.\n",
    "v <- c(21, 62, 10, 53)\n",
    "labels <- c(\"London\", \"New York\", \"Singapore\", \"Mumbai\")\n",
    "# Give the chart file a name.\n",
    "png(file = \"city.jpg\")\n",
    "# Plot the chart.\n",
    "pie(v,labels)\n",
    "# Save the file.\n",
    "dev.off()"
   ]
  },
  {
   "cell_type": "code",
   "execution_count": 9,
   "metadata": {},
   "outputs": [
    {
     "data": {
      "text/html": [
       "<strong>png:</strong> 2"
      ],
      "text/latex": [
       "\\textbf{png:} 2"
      ],
      "text/markdown": [
       "**png:** 2"
      ],
      "text/plain": [
       "png \n",
       "  2 "
      ]
     },
     "metadata": {},
     "output_type": "display_data"
    }
   ],
   "source": [
    "# bar chart\n",
    "\n",
    "# Create the data for the chart\n",
    "H <- c(7,12,28,3,41)\n",
    "M <- c(\"Mar\",\"Apr\",\"May\",\"Jun\",\"Jul\")\n",
    "# Give the chart file a name\n",
    "png(file = \"barchart_months_revenue.png\")\n",
    "# Plot the bar chart \n",
    "barplot(H,names.arg=M,xlab=\"Month\",ylab=\"Revenue\",col=\"lavender\",\n",
    "main=\"Revenue chart\",border=\"black\")\n",
    "# Save the file\n",
    "dev.off()"
   ]
  },
  {
   "cell_type": "code",
   "execution_count": 10,
   "metadata": {},
   "outputs": [
    {
     "data": {
      "text/html": [
       "<strong>png:</strong> 2"
      ],
      "text/latex": [
       "\\textbf{png:} 2"
      ],
      "text/markdown": [
       "**png:** 2"
      ],
      "text/plain": [
       "png \n",
       "  2 "
      ]
     },
     "metadata": {},
     "output_type": "display_data"
    }
   ],
   "source": [
    "# box plot\n",
    "\n",
    "# Give the chart file a name.\n",
    "png(file = \"boxplot.png\")\n",
    "# Plot the chart.\n",
    "boxplot(mpg ~ cyl, data = mtcars, xlab = \"Number of Cylinders\",\n",
    "   ylab = \"Miles Per Gallon\", main = \"Mileage Data\")\n",
    "# Save the file.\n",
    "dev.off()"
   ]
  },
  {
   "cell_type": "code",
   "execution_count": 14,
   "metadata": {},
   "outputs": [
    {
     "data": {
      "text/html": [
       "<strong>png:</strong> 2"
      ],
      "text/latex": [
       "\\textbf{png:} 2"
      ],
      "text/markdown": [
       "**png:** 2"
      ],
      "text/plain": [
       "png \n",
       "  2 "
      ]
     },
     "metadata": {},
     "output_type": "display_data"
    }
   ],
   "source": [
    "# histograms\n",
    "\n",
    "# Create data for the graph.\n",
    "v <- c(9,13,21,8,36,22,12,41,31,33,19)\n",
    "# Give the chart file a name.\n",
    "png(file = \"histogram_lim_breaks.png\")\n",
    "# Create the histogram.\n",
    "hist(v,xlab = \"Weight\",col = \"lavender\",border = \"black\", xlim = c(0,50), ylim = c(0,5),\n",
    "   breaks = 5)\n",
    "# Save the file.\n",
    "dev.off()\n"
   ]
  },
  {
   "cell_type": "code",
   "execution_count": 16,
   "metadata": {},
   "outputs": [
    {
     "data": {
      "text/html": [
       "<strong>png:</strong> 2"
      ],
      "text/latex": [
       "\\textbf{png:} 2"
      ],
      "text/markdown": [
       "**png:** 2"
      ],
      "text/plain": [
       "png \n",
       "  2 "
      ]
     },
     "metadata": {},
     "output_type": "display_data"
    }
   ],
   "source": [
    "# line graph\n",
    "\n",
    "# Create the data for the chart.\n",
    "v <- c(7,12,28,3,41)\n",
    "t <- c(14,7,6,19,3)\n",
    "# Give the chart file a name.\n",
    "png(file = \"line_chart_2_lines.jpg\")\n",
    "# Plot the bar chart.\n",
    "plot(v,type = \"o\",col = \"purple\", xlab = \"Month\", ylab = \"Rain fall\", \n",
    "   main = \"Rain fall chart\")\n",
    "lines(t, type = \"o\", col = \"blue\")\n",
    "# Save the file.\n",
    "dev.off()"
   ]
  },
  {
   "cell_type": "code",
   "execution_count": 17,
   "metadata": {},
   "outputs": [
    {
     "data": {
      "text/html": [
       "<strong>png:</strong> 2"
      ],
      "text/latex": [
       "\\textbf{png:} 2"
      ],
      "text/markdown": [
       "**png:** 2"
      ],
      "text/plain": [
       "png \n",
       "  2 "
      ]
     },
     "metadata": {},
     "output_type": "display_data"
    }
   ],
   "source": [
    "# scatter plot\n",
    "\n",
    "# Get the input values.\n",
    "input <- mtcars[,c('wt','mpg')]\n",
    "# Give the chart file a name.\n",
    "png(file = \"scatterplot.png\")\n",
    "# Plot the chart for cars with weight between 2.5 to 5 and mileage between 15 and 30.\n",
    "plot(x = input$wt,y = input$mpg,\n",
    "   xlab = \"Weight\",\n",
    "   ylab = \"Milage\",\n",
    "   xlim = c(2.5,5),\n",
    "   ylim = c(15,30),\t\t \n",
    "   main = \"Weight vs Milage\"\n",
    ")\n",
    "\t \n",
    "# Save the file.\n",
    "dev.off()\n",
    "\n",
    "# -------------------------\n",
    "\n",
    "# pairplot (scatterplot matrices)\n",
    "\n",
    "# Give the chart file a name.\n",
    "png(file = \"scatterplot_matrices.png\")\n",
    "# Plot the matrices between 4 variables giving 12 plots.\n",
    "# One variable with 3 others and total 4 variables.\n",
    "pairs(~wt+mpg+disp+cyl,data = mtcars,\n",
    "   main = \"Scatterplot Matrix\")\n",
    "\n",
    "# Save the file.\n",
    "dev.off()"
   ]
  },
  {
   "cell_type": "code",
   "execution_count": 27,
   "metadata": {},
   "outputs": [
    {
     "data": {
      "text/html": [
       "'numeric'"
      ],
      "text/latex": [
       "'numeric'"
      ],
      "text/markdown": [
       "'numeric'"
      ],
      "text/plain": [
       "[1] \"numeric\""
      ]
     },
     "metadata": {},
     "output_type": "display_data"
    }
   ],
   "source": [
    "# stats\n",
    "v = c(1,2,3,4,5,6,7,8,8)\n",
    "v_mean = mean(v)\n",
    "v_mean = mean(v, trim = .2, na.rm = TRUE) # trim and remove na\n",
    "v_median = median(v, na.rm = FALSE)\n",
    "\n"
   ]
  }
 ],
 "metadata": {
  "kernelspec": {
   "display_name": "R",
   "language": "R",
   "name": "ir"
  },
  "language_info": {
   "codemirror_mode": "r",
   "file_extension": ".r",
   "mimetype": "text/x-r-source",
   "name": "R",
   "pygments_lexer": "r",
   "version": "3.6.1"
  }
 },
 "nbformat": 4,
 "nbformat_minor": 2
}
