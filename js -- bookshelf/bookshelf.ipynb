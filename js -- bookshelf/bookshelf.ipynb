{
 "cells": [
  {
   "cell_type": "code",
   "execution_count": 1,
   "metadata": {
    "scrolled": true
   },
   "outputs": [
    {
     "data": {
      "text/plain": [
       "'\\nnpm i --save pg knex bookshelf\\n'"
      ]
     },
     "execution_count": 1,
     "metadata": {},
     "output_type": "execute_result"
    }
   ],
   "source": [
    "// bookshelf\n",
    "\n",
    "\n",
    "// install\n",
    "`\n",
    "npm i --save pg knex bookshelf\n",
    "`"
   ]
  },
  {
   "cell_type": "code",
   "execution_count": 2,
   "metadata": {},
   "outputs": [],
   "source": [
    "// ------------\n",
    "// initialize knex\n",
    "// ------------\n",
    "\n",
    "// initialize knex\n",
    "  // only initialize knex once (initialization creates connection pool)\n",
    "\n",
    "const knex = require('knex')({\n",
    "  // debug: true,\n",
    "  client: 'pg',\n",
    "  connection: {\n",
    "    host: '127.0.0.1',\n",
    "    user: 'postgres',\n",
    "    password: 'postgres',\n",
    "    database: 'db1'\n",
    "  },\n",
    "  migrations: {\n",
    "    tableName: 'migrations'\n",
    "  }\n",
    "});\n",
    "\n",
    "// initialize bookshelf (using knex)\n",
    "const bookshelf = require('bookshelf')(knex);\n",
    "\n",
    "const moment = require('moment');"
   ]
  },
  {
   "cell_type": "code",
   "execution_count": 3,
   "metadata": {},
   "outputs": [],
   "source": [
    "// ----------\n",
    "// create table\n",
    "// ----------\n",
    "\n",
    "(async (knex) => {\n",
    "  await knex.schema.createTable('people', (table) => {\n",
    "    table.increments(); // id (primary key)\n",
    "    table.string('first_name'); // first name (string)\n",
    "    table.string('last_name'); // first name (string)\n",
    "    table.timestamps(); // created_at & updated_at (?????)\n",
    "  })\n",
    "})(knex)\n",
    "\n",
    "// CREATE TABLE `users` (\n",
    "// `id` int unsigned not null auto_increment primary key, \n",
    "// `first_name` varchar(255), \n",
    "// `last_name` varchar(255), \n",
    "// `created_at` datetime, \n",
    "// `updated_at` datetime\n",
    "// );"
   ]
  },
  {
   "cell_type": "code",
   "execution_count": 4,
   "metadata": {},
   "outputs": [],
   "source": [
    "// ------------\n",
    "// create model\n",
    "// ------------\n",
    "\n",
    "// bookshelf doesn't handle the schema\n",
    "// create table first, then create model\n",
    "\n",
    "const Person = bookshelf.model('Person', {\n",
    "  tableName: 'people'\n",
    "});\n",
    "\n",
    "\n",
    "// retrieve a previously registered model\n",
    "// const Person = bookshelf.model('Customer')"
   ]
  },
  {
   "cell_type": "code",
   "execution_count": 5,
   "metadata": {},
   "outputs": [
    {
     "name": "stdout",
     "output_type": "stream",
     "text": [
      "[Function (anonymous)] {\n",
      "  extend: [Function: extend],\n",
      "  extended: [Function: extended],\n",
      "  fetchPage: [Function: fetchPage],\n",
      "  __super__: ModelBase {\n",
      "    _builder: [Function: builderFn],\n",
      "    _relation: [Function: _relation],\n",
      "    morphTo: [Function: morphTo],\n",
      "    through: [Function: through],\n",
      "    Collection: [Function (anonymous)] {\n",
      "      extend: [Function: extend],\n",
      "      extended: [Function: extended],\n",
      "      __super__: [CollectionBase],\n",
      "      EmptyError: [Function: ErrorCtor],\n",
      "      forge: [Function: forge],\n",
      "      where: [Function (anonymous)],\n",
      "      query: [Function (anonymous)]\n",
      "    }\n",
      "  },\n",
      "  NotFoundError: [Function: ErrorCtor],\n",
      "  NoRowsUpdatedError: [Function: ErrorCtor],\n",
      "  NoRowsDeletedError: [Function: ErrorCtor],\n",
      "  forge: [Function: forge],\n",
      "  collection: [Function: collection],\n",
      "  count: [Function: count],\n",
      "  fetchAll: [Function: fetchAll],\n",
      "  where: [Function (anonymous)],\n",
      "  query: [Function (anonymous)]\n",
      "}\n"
     ]
    }
   ],
   "source": [
    "console.log(Person)"
   ]
  },
  {
   "cell_type": "code",
   "execution_count": 6,
   "metadata": {},
   "outputs": [],
   "source": [
    "// ------------\n",
    "// insert\n",
    "// ------------\n",
    "\n",
    "// objects to add to db\n",
    "const kakashi = {\n",
    "  firstName: \"Kakashi\",\n",
    "  lastName: \"Hatake\"\n",
    "}\n",
    "const yamato = {\n",
    "  firstName: \"Tenzo\",\n",
    "  lastName: \"Yamato\"\n",
    "}\n",
    "\n",
    "// function to insert records (and return)\n",
    "const createNewPerson = async (Person, person) => {\n",
    "  const newPerson = await Person.forge({\n",
    "    first_name: person.firstName,\n",
    "    last_name: person.lastName,\n",
    "    created_at: moment(),\n",
    "    updated_at: moment()\n",
    "  }).save()\n",
    "  console.log(newPerson)\n",
    "  return newPerson;\n",
    "}\n",
    "\n",
    "// add to db\n",
    "const kakashiRecord = createNewPerson(Person, kakashi)\n",
    "const yamatoRecord = createNewPerson(Person, yamato)"
   ]
  },
  {
   "cell_type": "code",
   "execution_count": 7,
   "metadata": {},
   "outputs": [
    {
     "name": "stdout",
     "output_type": "stream",
     "text": [
      "ModelBase {\n",
      "  attributes: [Object: null prototype] {\n",
      "    first_name: 'Kakashi',\n",
      "    last_name: 'Hatake',\n",
      "    created_at: 2020-04-18T05:38:17.520Z,\n",
      "    updated_at: 2020-04-18T05:38:17.522Z,\n",
      "    id: 1\n",
      "  },\n",
      "  _previousAttributes: {},\n",
      "  changed: [Object: null prototype] {},\n",
      "  relations: {},\n",
      "  cid: 'c2',\n",
      "  _knex: null,\n",
      "  id: 1\n",
      "}\n",
      "ModelBase {\n",
      "  attributes: [Object: null prototype] {\n",
      "    first_name: 'Tenzo',\n",
      "    last_name: 'Yamato',\n",
      "    created_at: 2020-04-18T05:38:17.528Z,\n",
      "    updated_at: 2020-04-18T05:38:17.528Z,\n",
      "    id: 2\n",
      "  },\n",
      "  _previousAttributes: {},\n",
      "  changed: [Object: null prototype] {},\n",
      "  relations: {},\n",
      "  cid: 'c3',\n",
      "  _knex: null,\n",
      "  id: 2\n",
      "}\n",
      "ModelBase {\n",
      "  attributes: [Object: null prototype] {\n",
      "    id: 1,\n",
      "    first_name: 'Kakashi',\n",
      "    last_name: 'Hatake',\n",
      "    created_at: 2020-04-18T05:38:17.520Z,\n",
      "    updated_at: 2020-04-18T05:38:17.522Z\n",
      "  },\n",
      "  _previousAttributes: {\n",
      "    id: 1,\n",
      "    first_name: 'Kakashi',\n",
      "    last_name: 'Hatake',\n",
      "    created_at: 2020-04-18T05:38:17.520Z,\n",
      "    updated_at: 2020-04-18T05:38:17.522Z\n",
      "  },\n",
      "  changed: [Object: null prototype] {},\n",
      "  relations: {},\n",
      "  cid: 'c4',\n",
      "  _knex: null,\n",
      "  id: 1\n",
      "}\n"
     ]
    },
    {
     "data": {
      "text/plain": [
       "ModelBase {\n",
       "  attributes: [Object: null prototype] {\n",
       "    id: 1,\n",
       "    first_name: 'Kakashi',\n",
       "    last_name: 'Hatake',\n",
       "    created_at: 2020-04-18T05:38:17.520Z,\n",
       "    updated_at: 2020-04-18T05:38:17.522Z\n",
       "  },\n",
       "  _previousAttributes: {\n",
       "    id: 1,\n",
       "    first_name: 'Kakashi',\n",
       "    last_name: 'Hatake',\n",
       "    created_at: 2020-04-18T05:38:17.520Z,\n",
       "    updated_at: 2020-04-18T05:38:17.522Z\n",
       "  },\n",
       "  changed: [Object: null prototype] {},\n",
       "  relations: {},\n",
       "  cid: 'c4',\n",
       "  _knex: null,\n",
       "  id: 1\n",
       "}"
      ]
     },
     "execution_count": 7,
     "metadata": {},
     "output_type": "execute_result"
    }
   ],
   "source": [
    "// ------------\n",
    "// select\n",
    "// ------------\n",
    "\n",
    "// get (all)\n",
    "const getAllPeople = async (Person) => {\n",
    "  const allPeople = await Person.fetchAll();\n",
    "  console.log(allPeople);\n",
    "  return allPeople;\n",
    "}\n",
    "\n",
    "// get (where condition)\n",
    "const getByFirstName = async (Person, firstName) => {\n",
    "  const person = await Person.where('first_name', firstName).fetch();\n",
    "  console.log(person);\n",
    "  return person;\n",
    "}\n",
    "\n",
    "// get by id\n",
    "const getPersonById = async (Person, id) => {\n",
    "  const person = await Person.where('id', id).fetch();\n",
    "  console.log(person);\n",
    "  return person;\n",
    "}\n",
    "\n",
    "getPersonById(Person, 1);"
   ]
  },
  {
   "cell_type": "code",
   "execution_count": 8,
   "metadata": {},
   "outputs": [
    {
     "name": "stdout",
     "output_type": "stream",
     "text": [
      "ModelBase {\n",
      "  attributes: [Object: null prototype] {\n",
      "    first_name: 'Kakashi',\n",
      "    last_name: 'Hatake',\n",
      "    updated_at: 2020-04-18T05:38:17.643Z,\n",
      "    id: 2,\n",
      "    created_at: 2020-04-18T05:38:17.528Z\n",
      "  },\n",
      "  _previousAttributes: {},\n",
      "  changed: [Object: null prototype] {},\n",
      "  relations: {},\n",
      "  cid: 'c8',\n",
      "  _knex: null\n",
      "}\n"
     ]
    },
    {
     "data": {
      "text/plain": [
       "ModelBase {\n",
       "  attributes: [Object: null prototype] {\n",
       "    first_name: 'Kakashi',\n",
       "    last_name: 'Hatake',\n",
       "    updated_at: 2020-04-18T05:38:17.643Z,\n",
       "    id: 2,\n",
       "    created_at: 2020-04-18T05:38:17.528Z\n",
       "  },\n",
       "  _previousAttributes: {},\n",
       "  changed: [Object: null prototype] {},\n",
       "  relations: {},\n",
       "  cid: 'c8',\n",
       "  _knex: null\n",
       "}"
      ]
     },
     "execution_count": 8,
     "metadata": {},
     "output_type": "execute_result"
    },
    {
     "name": "stdout",
     "output_type": "stream",
     "text": [
      "ModelBase {\n",
      "  attributes: [Object: null prototype] {\n",
      "    first_name: 'Tenzo',\n",
      "    last_name: 'Yamato',\n",
      "    updated_at: 2020-04-18T05:38:17.642Z,\n",
      "    id: 1,\n",
      "    created_at: 2020-04-18T05:38:17.520Z\n",
      "  },\n",
      "  _previousAttributes: {},\n",
      "  changed: [Object: null prototype] {},\n",
      "  relations: {},\n",
      "  cid: 'c7',\n",
      "  _knex: null\n",
      "}\n"
     ]
    }
   ],
   "source": [
    "// ------------\n",
    "// update\n",
    "// ------------\n",
    "\n",
    "const updatePersonById = async (Person, id, updates) => {\n",
    "  const person = await Person.where(\"id\", id)\n",
    "    .save(\n",
    "      { ...updates }, // updates to object\n",
    "      { patch: true } // options ('patch: true` -- only update provided keys/values)\n",
    "    )\n",
    "  console.log(person);\n",
    "  return person\n",
    "}\n",
    "\n",
    "updatePersonById(\n",
    "  Person, // model \n",
    "  1, // id to update\n",
    "  { first_name: 'Tenzo', last_name: 'Yamato', updated_at: moment() } // changes\n",
    ")\n",
    "updatePersonById(\n",
    "  Person, // model \n",
    "  2, // id to update\n",
    "  { first_name: 'Kakashi', last_name: 'Hatake', updated_at: moment() } // changes\n",
    ")"
   ]
  },
  {
   "cell_type": "code",
   "execution_count": 9,
   "metadata": {},
   "outputs": [
    {
     "ename": "CustomError",
     "evalue": "No Rows Deleted",
     "output_type": "error",
     "traceback": [
      "CustomError: No Rows Deleted",
      "    at Child.<anonymous> (/c/Users/Flight Operations/Desktop/2 -- jupyter/js -- bookshelf/node_modules/bookshelf/lib/model.js:1306:19)",
      "    at Child.tryCatcher (/c/Users/Flight Operations/Desktop/2 -- jupyter/js -- bookshelf/node_modules/bluebird/js/release/util.js:16:23)",
      "    at Promise._settlePromiseFromHandler (/c/Users/Flight Operations/Desktop/2 -- jupyter/js -- bookshelf/node_modules/bluebird/js/release/promise.js:547:31)",
      "    at Promise._settlePromise (/c/Users/Flight Operations/Desktop/2 -- jupyter/js -- bookshelf/node_modules/bluebird/js/release/promise.js:604:18)",
      "    at Promise._settlePromise0 (/c/Users/Flight Operations/Desktop/2 -- jupyter/js -- bookshelf/node_modules/bluebird/js/release/promise.js:649:10)",
      "    at Promise._settlePromises (/c/Users/Flight Operations/Desktop/2 -- jupyter/js -- bookshelf/node_modules/bluebird/js/release/promise.js:729:18)",
      "    at _drainQueueStep (/c/Users/Flight Operations/Desktop/2 -- jupyter/js -- bookshelf/node_modules/bluebird/js/release/async.js:93:12)",
      "    at _drainQueue (/c/Users/Flight Operations/Desktop/2 -- jupyter/js -- bookshelf/node_modules/bluebird/js/release/async.js:86:9)",
      "    at Async._drainQueues (/c/Users/Flight Operations/Desktop/2 -- jupyter/js -- bookshelf/node_modules/bluebird/js/release/async.js:102:5)",
      "    at Immediate.Async.drainQueues [as _onImmediate] (/c/Users/Flight Operations/Desktop/2 -- jupyter/js -- bookshelf/node_modules/bluebird/js/release/async.js:15:14)",
      "    at processImmediate (internal/timers.js:456:21)"
     ]
    }
   ],
   "source": [
    "// ------------\n",
    "// delete\n",
    "// ------------\n",
    "\n",
    "// destroys record and returns empty object\n",
    "\n",
    "const deletePersonById = async (Person, id) => {\n",
    "  const person = await Person.where('id', id)\n",
    "    .destroy()\n",
    "  console.log(person)\n",
    "  return person;\n",
    "}\n",
    "\n",
    "deletePersonById(Person, 3);"
   ]
  },
  {
   "cell_type": "code",
   "execution_count": null,
   "metadata": {},
   "outputs": [],
   "source": []
  }
 ],
 "metadata": {
  "kernelspec": {
   "display_name": "Javascript (Node.js)",
   "language": "javascript",
   "name": "javascript"
  },
  "language_info": {
   "file_extension": ".js",
   "mimetype": "application/javascript",
   "name": "javascript",
   "version": "13.13.0"
  }
 },
 "nbformat": 4,
 "nbformat_minor": 2
}
