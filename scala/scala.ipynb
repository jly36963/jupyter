{
 "cells": [
  {
   "cell_type": "code",
   "execution_count": null,
   "metadata": {},
   "outputs": [
    {
     "data": {
      "text/plain": [
       "Intitializing Scala interpreter ..."
      ]
     },
     "metadata": {},
     "output_type": "display_data"
    }
   ],
   "source": [
    "// ---------------\n",
    "// scala\n",
    "// ---------------"
   ]
  },
  {
   "cell_type": "code",
   "execution_count": 1,
   "metadata": {},
   "outputs": [
    {
     "data": {
      "text/plain": [
       "Intitializing Scala interpreter ..."
      ]
     },
     "metadata": {},
     "output_type": "display_data"
    },
    {
     "data": {
      "text/plain": [
       "Spark Web UI available at http://localhost:4040\n",
       "SparkContext available as 'sc' (version = 2.4.3, master = local[*], app id = local-1567527547328)\n",
       "SparkSession available as 'spark'\n"
      ]
     },
     "metadata": {},
     "output_type": "display_data"
    },
    {
     "data": {
      "text/plain": [
       "bool1: Boolean = true\n",
       "byte1: Byte = 126\n",
       "short1: Short = 45\n",
       "int1: Int = 3\n",
       "long1: Long = 2351325123\n",
       "float1: Float = 2.45673\n",
       "char1: Char = A\n",
       "double1: Double = 2.93846523\n",
       "string1: String = Hello there!\n"
      ]
     },
     "execution_count": 1,
     "metadata": {},
     "output_type": "execute_result"
    }
   ],
   "source": [
    "// ------------\n",
    "// types\n",
    "// ------------\n",
    "\n",
    "// casting is unidirectional (byte > short > int > long > float > double)\n",
    "// type inference -- if type not provided, Scala will assign type values\n",
    "\n",
    "var bool1: Boolean = true; // boolean -- True or False\n",
    "var byte1: Byte = 126; // byte -- integer (~ 128)\n",
    "var short1: Short = 45; // short -- integer (~ 2^15)\n",
    "var int1: Int = 3; // int -- integer (~ 2^31)\n",
    "var long1: Long = 2351325123L;// long -- integer (~ 2^64)\n",
    "var float1: Float = 2.45673f; // float -- decimal (7 decimal places)\n",
    "var char1: Char = 'A'; // char -- single character (single quotes)\n",
    "var double1: Double = 2.93846523d; // double  -- decimal (15 decimal places)\n",
    "var string1: String = \"Hello there!\"; // string -- sequence of characters (double quotes)"
   ]
  },
  {
   "cell_type": "code",
   "execution_count": 2,
   "metadata": {},
   "outputs": [
    {
     "data": {
      "text/plain": [
       "defined object Hello\n"
      ]
     },
     "execution_count": 2,
     "metadata": {},
     "output_type": "execute_result"
    }
   ],
   "source": [
    "object Hello {\n",
    "    def main(args: Array[String]) {\n",
    "        println(\"Hello World\");\n",
    "    }\n",
    "}"
   ]
  },
  {
   "cell_type": "code",
   "execution_count": 3,
   "metadata": {},
   "outputs": [
    {
     "name": "stdout",
     "output_type": "stream",
     "text": [
      "8\n"
     ]
    },
    {
     "data": {
      "text/plain": [
       "addFunction: (a: Int, b: Int)Int\n"
      ]
     },
     "execution_count": 3,
     "metadata": {},
     "output_type": "execute_result"
    }
   ],
   "source": [
    "// define function (inputs, output type, function body)\n",
    "def addFunction(a:Int, b:Int) : Int = {\n",
    "    var sum: Int = a + b; // declare\n",
    "    return sum; // return\n",
    "}\n",
    "// call function\n",
    "println(addFunction(5,3)) // 8"
   ]
  },
  {
   "cell_type": "code",
   "execution_count": 5,
   "metadata": {},
   "outputs": [
    {
     "data": {
      "text/plain": [
       "s1: String = Hello!\n",
       "s2: String = !\n",
       "res3: String = Hello!!\n"
      ]
     },
     "execution_count": 5,
     "metadata": {},
     "output_type": "execute_result"
    }
   ],
   "source": [
    "// ------------\n",
    "// strings\n",
    "// ------------\n",
    "\n",
    "var s1: String = \"Hello!\";\n",
    "var s2: String = \"!\";\n",
    "s1.length(); // return length of string\n",
    "s1.concat(s2); // concatenate"
   ]
  },
  {
   "cell_type": "code",
   "execution_count": 6,
   "metadata": {},
   "outputs": [
    {
     "name": "stdout",
     "output_type": "stream",
     "text": [
      "Hey there, Kakashi\n"
     ]
    },
    {
     "data": {
      "text/plain": [
       "name: String = Kakashi\n",
       "s1: String = Hey there, Kakashi\n"
      ]
     },
     "execution_count": 6,
     "metadata": {},
     "output_type": "execute_result"
    }
   ],
   "source": [
    "// ------------\n",
    "// format\n",
    "// ------------\n",
    "\n",
    "var name: String = \"Kakashi\";\n",
    "var s1: String = \"Hey there, %s\".format(name);\n",
    "println(s1);"
   ]
  },
  {
   "cell_type": "code",
   "execution_count": 9,
   "metadata": {},
   "outputs": [
    {
     "name": "stdout",
     "output_type": "stream",
     "text": [
      "Hey there, Kakashi\n"
     ]
    },
    {
     "data": {
      "text/plain": [
       "name: String = Kakashi\n",
       "s1: String = Hey there, Kakashi\n"
      ]
     },
     "execution_count": 9,
     "metadata": {},
     "output_type": "execute_result"
    }
   ],
   "source": [
    "// ------------\n",
    "// string interpolation\n",
    "// ------------\n",
    "\n",
    "// s\n",
    "var name: String = \"Kakashi\";\n",
    "var s1: String = s\"Hey there, ${name}\";\n",
    "println(s1);\n",
    "\n"
   ]
  },
  {
   "cell_type": "code",
   "execution_count": 10,
   "metadata": {},
   "outputs": [
    {
     "name": "stdout",
     "output_type": "stream",
     "text": [
      "Hey there, Kakashi!\n"
     ]
    },
    {
     "data": {
      "text/plain": [
       "name: String = Kakashi\n",
       "s1: String = Hey there, Kakashi!\n"
      ]
     },
     "execution_count": 10,
     "metadata": {},
     "output_type": "execute_result"
    }
   ],
   "source": [
    "// string interpolation (f)\n",
    "var name: String = \"Kakashi\";\n",
    "var s1: String = f\"Hey there, $name%s!\";\n",
    "println(s1);"
   ]
  },
  {
   "cell_type": "code",
   "execution_count": 17,
   "metadata": {},
   "outputs": [
    {
     "data": {
      "text/plain": [
       "range1: scala.collection.immutable.Range = Range(0, 1, 2, 3, 4, 5, 6, 7, 8, 9)\n",
       "range2: scala.collection.immutable.Range = Range(0, 1, 2, 3, 4, 5, 6, 7, 8, 9)\n",
       "range3: scala.collection.immutable.Range = Range(0, 1, 2, 3, 4, 5, 6, 7, 8, 9, 10)\n"
      ]
     },
     "execution_count": 17,
     "metadata": {},
     "output_type": "execute_result"
    }
   ],
   "source": [
    "// ------------\n",
    "// numbers and math\n",
    "// ------------\n",
    "\n",
    "// range (uniformly spaced integers) (useful for iterations)\n",
    "var range1 = Range(0, 10, 1); // 0 - 9\n",
    "var range2 = 0 until 10 by 1; // 0 - 9\n",
    "var range3 = range1.inclusive; // 0 - 10\n"
   ]
  },
  {
   "cell_type": "code",
   "execution_count": 18,
   "metadata": {
    "scrolled": true
   },
   "outputs": [
    {
     "name": "stdout",
     "output_type": "stream",
     "text": [
      "x is 0.\n"
     ]
    },
    {
     "data": {
      "text/plain": [
       "x: Int = 0\n"
      ]
     },
     "execution_count": 18,
     "metadata": {},
     "output_type": "execute_result"
    }
   ],
   "source": [
    "// ------------\n",
    "// conditional logic\n",
    "// ------------\n",
    "\n",
    "// if\n",
    "var x: Int = 0;\n",
    "\n",
    "if (x < 0) {\n",
    "    println(\"x is negative.\");\n",
    "} else if (x > 0) {\n",
    "    println(\"x is positive.\");\n",
    "} else if (x == 0) {\n",
    "    println(\"x is 0.\");\n",
    "} else {\n",
    "    println(\"wtf.\");\n",
    "}"
   ]
  },
  {
   "cell_type": "code",
   "execution_count": 28,
   "metadata": {},
   "outputs": [
    {
     "name": "stdout",
     "output_type": "stream",
     "text": [
      "false\n"
     ]
    },
    {
     "data": {
      "text/plain": [
       "a: Int = 3\n",
       "even: Boolean = false\n"
      ]
     },
     "execution_count": 28,
     "metadata": {},
     "output_type": "execute_result"
    }
   ],
   "source": [
    "// ternary operator\n",
    "var a: Int = 3;\n",
    "var even: Boolean = if (a % 2 == 0) true else false;\n",
    "println(even);"
   ]
  },
  {
   "cell_type": "code",
   "execution_count": 19,
   "metadata": {
    "scrolled": true
   },
   "outputs": [
    {
     "name": "stdout",
     "output_type": "stream",
     "text": [
      "0\n",
      "1\n",
      "2\n",
      "3\n",
      "4\n",
      "5\n"
     ]
    },
    {
     "data": {
      "text/plain": [
       "x: Int = 6\n"
      ]
     },
     "execution_count": 19,
     "metadata": {},
     "output_type": "execute_result"
    }
   ],
   "source": [
    "// while\n",
    "var x: Int = 0;\n",
    "while (x <= 5) {\n",
    "    println(x);\n",
    "    x+=1;\n",
    "}"
   ]
  },
  {
   "cell_type": "code",
   "execution_count": 25,
   "metadata": {
    "scrolled": true
   },
   "outputs": [
    {
     "name": "stdout",
     "output_type": "stream",
     "text": [
      "0\n",
      "1\n",
      "2\n",
      "3\n",
      "4\n",
      "5\n",
      "6\n",
      "7\n"
     ]
    }
   ],
   "source": [
    "// for loop\n",
    "for (x <- 0 to 7) {\n",
    "    println(x)\n",
    "}"
   ]
  },
  {
   "cell_type": "code",
   "execution_count": 24,
   "metadata": {},
   "outputs": [
    {
     "name": "stdout",
     "output_type": "stream",
     "text": [
      "x: 0, y: 0\n",
      "x: 0, y: 1\n",
      "x: 0, y: 2\n",
      "x: 0, y: 3\n",
      "x: 1, y: 0\n",
      "x: 1, y: 1\n",
      "x: 1, y: 2\n",
      "x: 1, y: 3\n",
      "x: 2, y: 0\n",
      "x: 2, y: 1\n",
      "x: 2, y: 2\n",
      "x: 2, y: 3\n",
      "x: 3, y: 0\n",
      "x: 3, y: 1\n",
      "x: 3, y: 2\n",
      "x: 3, y: 3\n"
     ]
    }
   ],
   "source": [
    "// multiple for loop\n",
    "for (x <- 0 to 3; y <- 0 to 3){\n",
    "    println(s\"x: ${x}, y: ${y}\");\n",
    "}"
   ]
  },
  {
   "cell_type": "code",
   "execution_count": 27,
   "metadata": {
    "scrolled": true
   },
   "outputs": [
    {
     "name": "stdout",
     "output_type": "stream",
     "text": [
      "rank: 1\n",
      "rank: 2\n",
      "rank: 3\n",
      "rank: 4\n",
      "rank: 5\n",
      "rank: 6\n",
      "rank: 7\n",
      "rank: 8\n",
      "rank: 9\n",
      "rank: 10\n"
     ]
    },
    {
     "data": {
      "text/plain": [
       "ranklist: List[Int] = List(1, 2, 3, 4, 5, 6, 7, 8, 9, 10)\n"
      ]
     },
     "execution_count": 27,
     "metadata": {},
     "output_type": "execute_result"
    }
   ],
   "source": [
    "// for loop (collection)\n",
    "var ranklist = List(1,2,3,4,5,6,7,8,9,10);\n",
    "for (rank <- ranklist) {\n",
    "    println(s\"rank: ${rank}\");\n",
    "}"
   ]
  },
  {
   "cell_type": "code",
   "execution_count": 29,
   "metadata": {},
   "outputs": [
    {
     "name": "stdout",
     "output_type": "stream",
     "text": [
      "rank: 2\n",
      "rank: 4\n",
      "rank: 6\n",
      "rank: 8\n",
      "rank: 10\n"
     ]
    }
   ],
   "source": [
    "// for loop (collection + condition)\n",
    "var ranklist = List(1,2,3,4,5,6,7,8,9,10);\n",
    "for (rank <- ranklist if rank % 2 == 0) {\n",
    "    println(s\"rank: ${rank}\");\n",
    "}"
   ]
  },
  {
   "cell_type": "code",
   "execution_count": 7,
   "metadata": {},
   "outputs": [
    {
     "name": "stdout",
     "output_type": "stream",
     "text": [
      "rank: 2\n",
      "rank: 4\n",
      "rank: 6\n",
      "rank: 8\n",
      "rank: 10\n"
     ]
    },
    {
     "data": {
      "text/plain": [
       "ranklist: List[Int] = List(1, 2, 3, 4, 5, 6, 7, 8, 9, 10)\n",
       "ranks: List[Int] = List(2, 4, 6, 8, 10)\n"
      ]
     },
     "execution_count": 7,
     "metadata": {},
     "output_type": "execute_result"
    }
   ],
   "source": [
    "// for loop (yield)\n",
    "var ranklist = List(1,2,3,4,5,6,7,8,9,10);\n",
    "var ranks = for ( rank <- ranklist if rank % 2 == 0 ) yield rank;\n",
    "for (rank <- ranks) {\n",
    "    println(s\"rank: ${rank}\");\n",
    "}"
   ]
  },
  {
   "cell_type": "code",
   "execution_count": 17,
   "metadata": {},
   "outputs": [
    {
     "name": "stdout",
     "output_type": "stream",
     "text": [
      "1\n",
      "2\n",
      "3\n",
      "1\n",
      "2\n",
      "3\n"
     ]
    },
    {
     "data": {
      "text/plain": [
       "a1: Array[Int] = Array(1, 2, 3)\n"
      ]
     },
     "execution_count": 17,
     "metadata": {},
     "output_type": "execute_result"
    }
   ],
   "source": [
    "// arrow functions\n",
    "var a1 = Array(1,2,3);\n",
    "// one line\n",
    "a1.foreach((x) => println(x));\n",
    "// multiline\n",
    "a1.foreach((x) => {\n",
    "    println(x);\n",
    "});"
   ]
  },
  {
   "cell_type": "code",
   "execution_count": 13,
   "metadata": {},
   "outputs": [
    {
     "name": "stdout",
     "output_type": "stream",
     "text": [
      "Error occured.\n",
      "Finally Block\n"
     ]
    },
    {
     "data": {
      "text/plain": [
       "import java.io.IOException\n"
      ]
     },
     "execution_count": 13,
     "metadata": {},
     "output_type": "execute_result"
    }
   ],
   "source": [
    "// try catch finally\n",
    "\n",
    "import java.io.IOException \n",
    "  \n",
    "try { \n",
    "    var N = 5/0     \n",
    "} catch { \n",
    "    // Catch block contain cases.  \n",
    "    case i: (IOException) => { \n",
    "        println(\"IOException occured.\");\n",
    "    } \n",
    "    case a: (ArithmeticException) => { \n",
    "        println(\"Arithmetic Exception occured.\");\n",
    "    } \n",
    "    case _: (Throwable) => {\n",
    "        println(\"Error occured.\");\n",
    "    }\n",
    "} finally {\n",
    "    println(\"Finally Block\");\n",
    "}"
   ]
  },
  {
   "cell_type": "code",
   "execution_count": 19,
   "metadata": {},
   "outputs": [
    {
     "name": "stdout",
     "output_type": "stream",
     "text": [
      "Right(GeeksforGeeks)\n",
      "Left(There is no name.)\n"
     ]
    },
    {
     "data": {
      "text/plain": [
       "Name: (name: String)Either[String,String]\n"
      ]
     },
     "execution_count": 19,
     "metadata": {},
     "output_type": "execute_result"
    }
   ],
   "source": [
    "// either\n",
    "def Name(name: String): Either[String, String] = { \n",
    "    if (name.isEmpty) {\n",
    "       Left(\"There is no name.\"); // Left child for failure  \n",
    "    } else {\n",
    "        Right(name); // Right child for success \n",
    "    }      \n",
    "} \n",
    "      \n",
    "// success case\n",
    "println(Name(\"GeeksforGeeks\"));\n",
    "\n",
    "// failure case\n",
    "println(Name(\"\"));"
   ]
  },
  {
   "cell_type": "code",
   "execution_count": null,
   "metadata": {},
   "outputs": [],
   "source": []
  },
  {
   "cell_type": "code",
   "execution_count": 24,
   "metadata": {
    "scrolled": true
   },
   "outputs": [
    {
     "name": "stdout",
     "output_type": "stream",
     "text": [
      "7\n"
     ]
    },
    {
     "data": {
      "text/plain": [
       "add: (Int, Int) => Int = <function2>\n"
      ]
     },
     "execution_count": 24,
     "metadata": {},
     "output_type": "execute_result"
    }
   ],
   "source": [
    "// anonymous\n",
    "var add = (a: Int,b: Int) => a + b;\n",
    "println(add(3,4));\n",
    "\n",
    "// anonymous (wildcard syntax)\n",
    "var add = (_: Int) + (_: Int)\n",
    "println(add(3,4));\n",
    "\n",
    "// no params\n",
    "var hello = () => println(\"Hello\");\n",
    "hello();\n"
   ]
  },
  {
   "cell_type": "code",
   "execution_count": 45,
   "metadata": {},
   "outputs": [
    {
     "name": "stdout",
     "output_type": "stream",
     "text": [
      "List(2, 4, 6)\n"
     ]
    },
    {
     "data": {
      "text/plain": [
       "numbers: List[Int] = List(1, 2, 3)\n",
       "doubler: Int => Int = <function1>\n",
       "result: List[Int] = List(2, 4, 6)\n"
      ]
     },
     "execution_count": 45,
     "metadata": {},
     "output_type": "execute_result"
    }
   ],
   "source": [
    "// higher order functions\n",
    "var numbers = List(1,2,3);\n",
    "var doubler = (x: Int) => 2 * x;\n",
    "var result = numbers.map(x => doubler(x));\n",
    "println(result);"
   ]
  },
  {
   "cell_type": "code",
   "execution_count": 26,
   "metadata": {},
   "outputs": [
    {
     "name": "stdout",
     "output_type": "stream",
     "text": [
      "39\n"
     ]
    },
    {
     "data": {
      "text/plain": [
       "add: (x: Int, y: Int)Int\n"
      ]
     },
     "execution_count": 26,
     "metadata": {},
     "output_type": "execute_result"
    }
   ],
   "source": [
    "// ------------\n",
    "// currying functions (like redux connect)\n",
    "// ------------\n",
    "\n",
    "// without currying\n",
    "def add(x: Int, y: Int) = x + y; \n",
    "println(add(20, 19));\n",
    "\n",
    "// with currying (function that returns function)\n",
    "def add2(a: Int) = (b: Int) => a + b; \n",
    "println(add2(20)(19)); \n",
    "\n",
    "// partially applied curried function\n",
    "def add2(a: Int) = (b: Int) => a + b; \n",
    "val sum = add2(29); // apply first argument (returns function)\n",
    "println(sum(5)); // apply second argument (returns completed function output)\n",
    "\n",
    "// currying (syntax 2) (notice the '_')\n",
    "def add2(a: Int) (b: Int) = a + b; \n",
    "println(add2(29)(5)); // normal\n",
    "val sum=add2(29)_; // partially applied (1)\n",
    "println(sum(5)); // partially applied (2)"
   ]
  },
  {
   "cell_type": "code",
   "execution_count": 2,
   "metadata": {},
   "outputs": [
    {
     "name": "stdout",
     "output_type": "stream",
     "text": [
      "1\n",
      "3\n",
      "6\n",
      "10\n"
     ]
    },
    {
     "data": {
      "text/plain": [
       "addAll: (numbers: Int*)Int\n"
      ]
     },
     "execution_count": 2,
     "metadata": {},
     "output_type": "execute_result"
    }
   ],
   "source": [
    "// varargs\n",
    "def addAll(numbers: Int*) : Int = {\n",
    "    var result  = 0;\n",
    "    for (n <- numbers) {\n",
    "        result += n;\n",
    "    }\n",
    "    return result;\n",
    "}\n",
    "\n",
    "println(addAll(1));\n",
    "println(addAll(1,2));\n",
    "println(addAll(1,2,3));\n",
    "println(addAll(1,2,3,4));"
   ]
  },
  {
   "cell_type": "code",
   "execution_count": 45,
   "metadata": {},
   "outputs": [
    {
     "name": "stdout",
     "output_type": "stream",
     "text": [
      "List(Kakashi, Iruka, Konohamaru, Yamato, Itachi)\n",
      "List(Kakashi, Iruka, Konohamaru, Yamato, Itachi)\n",
      "List(List(1, 0, 0), List(0, 1, 0), List(0, 0, 1))\n"
     ]
    },
    {
     "data": {
      "text/plain": [
       "l1: List[String] = List(Kakashi, Iruka, Konohamaru, Yamato, Itachi)\n",
       "l2: List[String] = List(Kakashi, Iruka, Konohamaru, Yamato, Itachi)\n",
       "l3: List[List[Int]] = List(List(1, 0, 0), List(0, 1, 0), List(0, 0, 1))\n",
       "res44: Int = 5\n"
      ]
     },
     "execution_count": 45,
     "metadata": {},
     "output_type": "execute_result"
    }
   ],
   "source": [
    "// lists\n",
    "\n",
    "// syntax 1\n",
    "var l1: List[String] = List(\"Kakashi\", \"Iruka\", \"Konohamaru\", \"Yamato\", \"Itachi\");\n",
    "println(l1);\n",
    "// syntax 2\n",
    "var l2 = List(\"Kakashi\", \"Iruka\", \"Konohamaru\", \"Yamato\", \"Itachi\");\n",
    "println(l2);\n",
    "// 2d list\n",
    "var l3: List[List[Int]] = List(\n",
    "    List(1, 0, 0),\n",
    "    List(0, 1, 0),\n",
    "    List(0, 0, 1)\n",
    ");\n",
    "println(l3);\n",
    "\n",
    "l1.filter((item) => item.length > 6); // returns list with items that pass predicate\n",
    "l1.map((item) => item.toUpperCase());\n"
   ]
  },
  {
   "cell_type": "code",
   "execution_count": 38,
   "metadata": {},
   "outputs": [
    {
     "data": {
      "text/plain": [
       "s1: String = Hello!\n",
       "res37: String = hello!\n"
      ]
     },
     "execution_count": 38,
     "metadata": {},
     "output_type": "execute_result"
    }
   ],
   "source": [
    "var s1: String = \"Hello!\";\n",
    "s1.replace(\"Hello\", \"Hi\"); // replace\n",
    "s1.toUpperCase();\n",
    "s1.toLowerCase();"
   ]
  },
  {
   "cell_type": "code",
   "execution_count": 48,
   "metadata": {},
   "outputs": [
    {
     "name": "stdout",
     "output_type": "stream",
     "text": [
      "Sun\n",
      "Mon\n",
      "Tues\n",
      "Wed\n",
      "Thur\n",
      "Fri\n",
      "Sat\n"
     ]
    },
    {
     "data": {
      "text/plain": [
       "days: Array[String] = Array(Sun, Mon, Tues, Wed, Thur, Fri, Sat)\n"
      ]
     },
     "execution_count": 48,
     "metadata": {},
     "output_type": "execute_result"
    }
   ],
   "source": [
    "// ------------\n",
    "// arrays\n",
    "// ------------\n",
    "\n",
    "// collection of mutable values, fixed size, elements of same type. \n",
    "// arrays can be generic (Array[T])\n",
    "// compatible with sequences (Array[T] can be passed where Seq[T] is required)\n",
    "\n",
    "var days = Array(\"Sun\", \"Mon\", \"Tues\", \"Wed\", \"Thur\", \"Fri\", \"Sat\");\n",
    "for (day <- days) {\n",
    "    println(day);\n",
    "}\n",
    "// days.foreach((day) => println(day));"
   ]
  },
  {
   "cell_type": "code",
   "execution_count": 69,
   "metadata": {},
   "outputs": [
    {
     "ename": "<console>",
     "evalue": "50: error: value :: is not a member of Array[String]",
     "output_type": "error",
     "traceback": [
      "<console>:50: error: value :: is not a member of Array[String]",
      "       \"Hiruzen\" :: a1; // return array with item prepended",
      "                 ^",
      ""
     ]
    }
   ],
   "source": [
    "var a1 = Array(\"Kakashi\", \"Iruka\", \"Konohamaru\", \"Yamato\", \"Itachi\", \"Gaara\");\n",
    "a1.contains(\"Kakashi\"); // returns boolean (list contains argument)\n",
    "a1.count((item) => item.length > 6) // return number of elements that satisfy predicate\n",
    "a1.distinct; // returns list with duplicates removed\n",
    "a1.filter((item) => item.length > 6); // returns list with items that satisfy predicate\n",
    "a1.filterNot((item) => item.length > 6); // returns list with items that don't satisfy predicate\n",
    "a1.find((item) => item == \"Kakashi\"); // returns first match (if any)\n",
    "a1.foreach((item) => println(item)); // apply function to each element\n",
    "a1.head; // returns first element\n",
    "a1.indexOf(\"Konohamaru\"); // returns index of first match. (no match, returns -1)\n",
    "a1.isEmpty; // returns boolean (is empty)\n",
    "a1.last; // returns last element\n",
    "a1.length;\n",
    "a1.map((item) => item.toUpperCase());\n",
    "a1.max; // return element with greatest value\n",
    "a1.reverse; // returns list in reverse order\n",
    "a1.sorted; // return sorted list\n",
    "a1.size;\n"
   ]
  },
  {
   "cell_type": "code",
   "execution_count": 63,
   "metadata": {
    "scrolled": true
   },
   "outputs": [
    {
     "name": "stdout",
     "output_type": "stream",
     "text": [
      "Kakashi\n",
      "Iruka\n",
      "Konohamaru\n"
     ]
    },
    {
     "data": {
      "text/plain": [
       "s1: scala.collection.immutable.Set[String] = Set(Kakashi, Iruka, Konohamaru)\n",
       "s2: scala.collection.immutable.Set[String] = Set(Kakashi, Iruka, Konohamaru)\n",
       "res56: Int = 3\n"
      ]
     },
     "execution_count": 63,
     "metadata": {},
     "output_type": "execute_result"
    }
   ],
   "source": [
    "// sets\n",
    "\n",
    "// immutable\n",
    "val s1 = Set(\"Kakashi\", \"Iruka\", \"Konohamaru\");\n",
    "// mutable\n",
    "var s2 = Set(\"Kakashi\", \"Iruka\", \"Konohamaru\");\n",
    "// methods and attributes\n",
    "s1.contains(\"Konohamaru\"); // returns boolean (set contains argument)\n",
    "s1.count((item) => item.length > 6) // return number of elements that satisfy predicate\n",
    "s1.filter((item) => item.length > 6); // returns list with items that satisfy predicate\n",
    "s1.filterNot((item) => item.length > 6); // returns list with items that don't satisfy predicate\n",
    "s1.find((item) => item == \"Kakashi\"); // returns first match (if any)\n",
    "s1.foreach((item) => println(item)); // apply function to each element\n",
    "s1.head; // returns first element\n",
    "s1.isEmpty; // returns boolean (is empty)\n",
    "s1.last; // returns last element\n",
    "s1.map((item) => item.toUpperCase());\n",
    "s1.max; // return element with greatest value\n",
    "s1.size;"
   ]
  },
  {
   "cell_type": "code",
   "execution_count": 71,
   "metadata": {},
   "outputs": [
    {
     "name": "stdout",
     "output_type": "stream",
     "text": [
      "Kakashi\n",
      "Iruka\n",
      "Konohamaru\n"
     ]
    },
    {
     "data": {
      "text/plain": [
       "v1: scala.collection.immutable.Vector[String] = Vector(Kakashi, Iruka, Konohamaru)\n",
       "res64: Int = 3\n"
      ]
     },
     "execution_count": 71,
     "metadata": {},
     "output_type": "execute_result"
    }
   ],
   "source": [
    "// vectors\n",
    "val v1 = Vector(\"Kakashi\", \"Iruka\", \"Konohamaru\");\n",
    "v1(0); // return first element of vector\n",
    "\n",
    "\n",
    "v1.contains(\"Kakashi\"); // returns boolean (list contains argument)\n",
    "v1.count((item) => item.length > 6) // return number of elements that satisfy predicate\n",
    "v1.distinct; // returns list with duplicates removed\n",
    "v1.filter(_.length > 6); // returns list with items that satisfy predicate\n",
    "v1.filter((item) => item.length > 6); // returns list with items that satisfy predicate\n",
    "v1.filterNot((item) => item.length > 6); // returns list with items that don't satisfy predicate\n",
    "v1.find((item) => item == \"Kakashi\"); // returns first match (if any)\n",
    "v1.foreach((item) => println(item)); // apply function to each element\n",
    "v1.head; // returns first element\n",
    "v1.indexOf(\"Konohamaru\"); // returns index of first match. (no match, returns -1)\n",
    "v1.isEmpty; // returns boolean (is empty)\n",
    "v1.last; // returns last element\n",
    "v1.length; // returns length\n",
    "v1.map((item) => item.toUpperCase());\n",
    "v1.max; // return element with greatest value\n",
    "v1.reverse; // returns list in reverse order\n",
    "v1.sorted; // return sorted list\n",
    "v1.size; // returns length"
   ]
  },
  {
   "cell_type": "code",
   "execution_count": 92,
   "metadata": {
    "scrolled": true
   },
   "outputs": [
    {
     "name": "stdout",
     "output_type": "stream",
     "text": [
      "Kakashi\n",
      "k: isAwesome, v: true\n",
      "k: Age, v: 49\n",
      "k: Name, v: Kakashi\n",
      "k: isAwesome, v: true\n",
      "k: Age, v: 49\n",
      "k: Name, v: Kakashi\n",
      "k: isAwesome, v: true\n",
      "k: Age, v: 49\n",
      "k: Name, v: Kakashi\n"
     ]
    },
    {
     "data": {
      "text/plain": [
       "import scala.collection.mutable.Map\n",
       "m1: scala.collection.mutable.Map[String,Any] = Map(isAwesome -> true, Age -> 49, Name -> Kakashi)\n",
       "m2: scala.collection.mutable.Map[String,Any] = Map(isAwesome -> true, Age -> 49, Name -> Kakashi)\n",
       "name: Any = Kakashi\n",
       "res82: Iterable[Any] = HashMap(true, 49, Kakashi)\n"
      ]
     },
     "execution_count": 92,
     "metadata": {},
     "output_type": "execute_result"
    }
   ],
   "source": [
    "\n",
    "// ------------\n",
    "// maps (key/value)\n",
    "// ------------\n",
    "\n",
    "import scala.collection.mutable.Map\n",
    "// immutable map\n",
    "val m1 = Map(\"Name\" -> \"Kakashi\", \"Age\" -> 49, \"isAwesome\" -> true);\n",
    "// mutable map\n",
    "val m2 = Map(\"Name\" -> \"Kakashi\", \"Age\" -> 49, \"isAwesome\" -> true);\n",
    "// access key\n",
    "val name = m1(\"Name\");\n",
    "println(name);\n",
    "// add key\n",
    "m1 += (\"Jutsu\" -> \"Chidori\");\n",
    "// remove key\n",
    "m1 -= \"Jutsu\";\n",
    "// update element\n",
    "m1(\"Name\") = \"Kakashi\";\n",
    "// for loop\n",
    "for ((k,v) <- m1) {\n",
    "    println(s\"k: ${k}, v: ${v}\");\n",
    "}\n",
    "// foreach\n",
    "m1.foreach((item) => println(s\"k: ${item._1}, v: ${item._2}\"));\n",
    "m1.foreach({case (key, value) => println(s\"k: ${key}, v: ${value}\")});\n",
    "\n",
    "m1 ++ Map(\"Name\" -> \"Kaka Sensei\"); // returns concatenated map (later k/v override older ones)\n",
    "\n",
    "// methods and attributes\n",
    "// methods and attributes\n",
    "m1.contains(\"Name\"); // returns boolean (does key exist)\n",
    "m1.count((item) => item._1 == \"Name\");\n",
    "m1.count((item) => item._2 == \"Kakashi\");\n",
    "m1.count((item) => item._1 == \"Name\" && item._2 == \"Kakashi\");\n",
    "m1.filter((item) => item._1 == \"Name\");\n",
    "m1.keys;\n",
    "m1.values;"
   ]
  },
  {
   "cell_type": "code",
   "execution_count": 96,
   "metadata": {
    "scrolled": true
   },
   "outputs": [
    {
     "name": "stdout",
     "output_type": "stream",
     "text": [
      "x: 2, y: 3\n",
      "x: 3, y: 4, color: indigo\n"
     ]
    },
    {
     "data": {
      "text/plain": [
       "<console>:32: warning: a pure expression does nothing in statement position; you may be omitting necessary parentheses\n",
       "       point1.x; // 2\n",
       "              ^\n",
       "<console>:44: warning: a pure expression does nothing in statement position; you may be omitting necessary parentheses\n",
       "       cp1.x;\n",
       "           ^\n",
       "defined class Point\n",
       "point1: Point = x: 2, y: 3\n",
       "defined class ColorPoint\n",
       "cp1: ColorPoint = x: 3, y: 4, color: indigo\n"
      ]
     },
     "execution_count": 96,
     "metadata": {},
     "output_type": "execute_result"
    }
   ],
   "source": [
    "\n",
    "// ------------\n",
    "// classes\n",
    "// ------------\n",
    "\n",
    "// example 1 (constructor, default values/optional params, override)\n",
    "class Point(var x: Int = 0, var y: Int = 0) {\n",
    "  // method\n",
    "  def move(dx: Int, dy: Int): Point = new Point(x + dx, y + dy);\n",
    "  // override\n",
    "  override def toString: String = s\"x: ${x}, y: ${y}\";\n",
    "}\n",
    "\n",
    "// example 1 (class instantiation)\n",
    "val point1 = new Point(2, 3);\n",
    "point1.x; // 2\n",
    "println(point1);  // prints (2, 3)\n",
    "\n",
    "// example 2 (inheritance) (subclass inherits all members (values/methods))\n",
    "class ColorPoint(u: Int, v: Int, c: String) extends Point(u, v) {\n",
    "  val color: String = c;\n",
    "  def compareWith(pt: ColorPoint): Boolean = (pt.x == x) && (pt.y == y) && (pt.color == color);\n",
    "  override def move(dx: Int, dy: Int): ColorPoint = new ColorPoint(x + dy, y + dy, color);\n",
    "  override def toString: String = s\"x: ${x}, y: ${y}, color: ${color}\";\n",
    "}\n",
    "\n",
    "val cp1 = new ColorPoint(3,4, \"indigo\");\n",
    "cp1.x;\n",
    "println(cp1);"
   ]
  },
  {
   "cell_type": "code",
   "execution_count": 97,
   "metadata": {},
   "outputs": [
    {
     "data": {
      "text/plain": [
       "defined class Hello\n",
       "defined object Hello\n"
      ]
     },
     "execution_count": 97,
     "metadata": {},
     "output_type": "execute_result"
    }
   ],
   "source": [
    "// ------------\n",
    "// hello world\n",
    "// ------------\n",
    "\n",
    "// programs must have a singleton to run.\n",
    "    // singleton -- 'object' keyword. entry point for the program.\n",
    "    // singletons objects must have a main()\n",
    "    // if class and singleton have same name, they are companions.\n",
    "\n",
    "class Hello {\n",
    "    def sayHello() {\n",
    "        println(\"Hello World\");\n",
    "    }\n",
    "}\n",
    "\n",
    "object Hello {\n",
    "    def main(args: Array[String]) {\n",
    "        var hello = new Hello();\n",
    "        hello.sayHello();\n",
    "    }\n",
    "}"
   ]
  },
  {
   "cell_type": "code",
   "execution_count": 103,
   "metadata": {},
   "outputs": [
    {
     "name": "stdout",
     "output_type": "stream",
     "text": [
      "Kakashi Hatake\n"
     ]
    },
    {
     "data": {
      "text/plain": [
       "name: String = Kakashi Hatake\n"
      ]
     },
     "execution_count": 103,
     "metadata": {},
     "output_type": "execute_result"
    }
   ],
   "source": [
    "// last line determines type and value assigned.\n",
    "val name = {\n",
    "    val firstname = \"Kakashi\"; // only accesible in this code block\n",
    "    val lastname = \"Hatake\"; // only accesible in this code block\n",
    "    firstname + \" \" + lastname;\n",
    "}\n",
    "println(name) // Kakashi Hatake"
   ]
  },
  {
   "cell_type": "code",
   "execution_count": 14,
   "metadata": {},
   "outputs": [
    {
     "name": "stdout",
     "output_type": "stream",
     "text": [
      "Kakashi Kakashi Kakashi Kakashi Kakashi Kakashi Kakashi Kakashi Kakashi Kakashi Kakashi Kakashi\n"
     ]
    },
    {
     "data": {
      "text/plain": [
       "repeater: (string: String, int: Int)String\n"
      ]
     },
     "execution_count": 14,
     "metadata": {},
     "output_type": "execute_result"
    }
   ],
   "source": [
    "// ------------\n",
    "// recursive function\n",
    "// ------------\n",
    "\n",
    "def repeater(string: String, int: Int): String = {\n",
    "    if (int == 1) s\"${string} \";\n",
    "    else s\"${string} \" + repeater(string, int - 1);\n",
    "}\n",
    "\n",
    "println(repeater(\"Kakashi\", 12))"
   ]
  },
  {
   "cell_type": "code",
   "execution_count": 16,
   "metadata": {
    "scrolled": true
   },
   "outputs": [
    {
     "name": "stdout",
     "output_type": "stream",
     "text": [
      "3\n"
     ]
    },
    {
     "data": {
      "text/plain": [
       "fibonacci: (n: Int)Int\n"
      ]
     },
     "execution_count": 16,
     "metadata": {},
     "output_type": "execute_result"
    }
   ],
   "source": [
    "// fibonacci (recursion)\n",
    "def fibonacci(n: Int): Int = {\n",
    "    if (n <= 2) 1\n",
    "    else fibonacci(n-1) + fibonacci (n-2)\n",
    "}\n",
    "println(fibonacci(4))\n",
    "// 4, 32, 211, 111\n",
    "// 5, 43, 3221, 21111, 11111\n",
    "// 6, 54, 4332, 3221211, 21111111, 11111111"
   ]
  },
  {
   "cell_type": "code",
   "execution_count": 9,
   "metadata": {},
   "outputs": [
    {
     "name": "stdout",
     "output_type": "stream",
     "text": [
      "93326215443944152681699238856266700490715968264381621468592963895217599993229915608941463976156518286253697920827223758251185210916864000000000000000000000000\n"
     ]
    },
    {
     "data": {
      "text/plain": [
       "factorial: (n: Int)BigInt\n"
      ]
     },
     "execution_count": 9,
     "metadata": {},
     "output_type": "execute_result"
    }
   ],
   "source": [
    "\n",
    "// ------------\n",
    "// tail-recursion\n",
    "// ------------\n",
    "\n",
    "// tail recursion -- when the last action is the recursive function calling itself.\n",
    "// using '@tailrec' is an explicit way to tell the interpreter that a function is tail-recursive\n",
    "\n",
    "// factorial (tail recursive)\n",
    "def factorial(n: Int): BigInt = {\n",
    "    def factorialHelper(x: Int, accumulator: BigInt): BigInt = {\n",
    "        if (x <= 1) accumulator;\n",
    "        else factorialHelper(x - 1, x * accumulator);\n",
    "    }\n",
    "    factorialHelper(n, 1);\n",
    "}\n",
    "println(factorial(100));\n"
   ]
  },
  {
   "cell_type": "code",
   "execution_count": 8,
   "metadata": {},
   "outputs": [
    {
     "name": "stdout",
     "output_type": "stream",
     "text": [
      "Kakashi Kakashi Kakashi Kakashi Kakashi Kakashi Kakashi Kakashi Kakashi Kakashi \n"
     ]
    },
    {
     "data": {
      "text/plain": [
       "repeater: (str: String, n: Int, accumulator: String)String\n"
      ]
     },
     "execution_count": 8,
     "metadata": {},
     "output_type": "execute_result"
    }
   ],
   "source": [
    "// repeater (tail recursive) (with default parameter)\n",
    "def repeater(str: String, n: Int, accumulator: String = \"\"): String = {\n",
    "    if (n <= 0) accumulator;\n",
    "    else repeater(str, n - 1, s\"${str} \" + accumulator);\n",
    "}\n",
    "println(repeater(\"Kakashi\", 10));"
   ]
  },
  {
   "cell_type": "code",
   "execution_count": 11,
   "metadata": {},
   "outputs": [
    {
     "name": "stdout",
     "output_type": "stream",
     "text": [
      "true\n"
     ]
    },
    {
     "data": {
      "text/plain": [
       "prime: (n: Int)Boolean\n"
      ]
     },
     "execution_count": 11,
     "metadata": {},
     "output_type": "execute_result"
    }
   ],
   "source": [
    "// prime (tail recursive )\n",
    "def prime(n: Int): Boolean = {\n",
    "    def isPrimeUntil(t: Int, isStillPrime: Boolean = true): Boolean = {\n",
    "        if (!isStillPrime) false;\n",
    "        else if (t <= 1) true;\n",
    "        else isPrimeUntil(t - 1, n % t != 0 && isStillPrime);\n",
    "    }\n",
    "    isPrimeUntil(n / 2);\n",
    "}\n",
    "println(prime(7));"
   ]
  },
  {
   "cell_type": "code",
   "execution_count": 14,
   "metadata": {},
   "outputs": [
    {
     "name": "stdout",
     "output_type": "stream",
     "text": [
      "196418\n"
     ]
    },
    {
     "data": {
      "text/plain": [
       "fib: (n: Int)Int\n"
      ]
     },
     "execution_count": 14,
     "metadata": {},
     "output_type": "execute_result"
    }
   ],
   "source": [
    "// fibonacci (tail recursive)\n",
    "def fib(n: Int): Int = {\n",
    "    def fibHelper(i: Int, acc1: Int, acc2: Int): Int = {\n",
    "        if(i >= n) acc1;\n",
    "        else fibHelper(i + 1, acc1 + acc2, acc1)\n",
    "    }\n",
    "    if (n <= 2) 1\n",
    "    else fibHelper(2, 1, 1) // start index == 2, acc1 = 1, acc2 = 2\n",
    "}\n",
    "println(fib(27));"
   ]
  }
 ],
 "metadata": {
  "kernelspec": {
   "display_name": "spylon-kernel",
   "language": "scala",
   "name": "spylon-kernel"
  },
  "language_info": {
   "codemirror_mode": "text/x-scala",
   "file_extension": ".scala",
   "help_links": [
    {
     "text": "MetaKernel Magics",
     "url": "https://metakernel.readthedocs.io/en/latest/source/README.html"
    }
   ],
   "mimetype": "text/x-scala",
   "name": "scala",
   "pygments_lexer": "scala",
   "version": "0.4.1"
  }
 },
 "nbformat": 4,
 "nbformat_minor": 2
}
