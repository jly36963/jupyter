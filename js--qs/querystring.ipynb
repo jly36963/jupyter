{
 "cells": [
  {
   "cell_type": "code",
   "execution_count": 1,
   "metadata": {},
   "outputs": [],
   "source": [
    "// querystring & qs\n",
    "\n",
    "const qs = require('qs');\n",
    "const querystring = require('querystring');"
   ]
  },
  {
   "cell_type": "code",
   "execution_count": 2,
   "metadata": {},
   "outputs": [],
   "source": [
    "// object to stringify\n",
    "\n",
    "const person = {\n",
    "  name: 'Landon Y',\n",
    "  skills: [\n",
    "    'JavaScript',\n",
    "    'Python',\n",
    "    'Golang'\n",
    "  ]\n",
    "}"
   ]
  },
  {
   "cell_type": "code",
   "execution_count": 3,
   "metadata": {},
   "outputs": [],
   "source": [
    "// -----------\n",
    "// querystring\n",
    "// -----------\n",
    "\n",
    "// encode\n",
    "\n",
    "const encodeQS = (obj) => {\n",
    "  let queryString = querystring.stringify(obj);\n",
    "  queryString = queryString.replace(/%20/g, \"+\")\n",
    "  return queryString;\n",
    "}\n",
    "\n",
    "// decode\n",
    "\n",
    "const decodeQS = (string) => {\n",
    "  const obj = querystring.parse(string);\n",
    "  return obj;\n",
    "}\n"
   ]
  },
  {
   "cell_type": "code",
   "execution_count": 4,
   "metadata": {},
   "outputs": [],
   "source": [
    "const encodedQS = encodeQS(person)\n",
    "const decodedQS = decodeQS(encodedQS)"
   ]
  },
  {
   "cell_type": "code",
   "execution_count": 9,
   "metadata": {},
   "outputs": [
    {
     "name": "stdout",
     "output_type": "stream",
     "text": [
      "encodedQS name=Landon+Y&skills=JavaScript&skills=Python&skills=Golang\n",
      "decodedQS [Object: null prototype] {\n",
      "  name: 'Landon Y',\n",
      "  skills: [ 'JavaScript', 'Python', 'Golang' ]\n",
      "}\n"
     ]
    }
   ],
   "source": [
    "console.log('encodedQS',encodedQS)\n",
    "console.log('decodedQS',decodedQS)"
   ]
  },
  {
   "cell_type": "code",
   "execution_count": 6,
   "metadata": {},
   "outputs": [],
   "source": [
    "// -----------\n",
    "// qs\n",
    "// -----------\n",
    "\n",
    "const encodeQS2 = (obj) => {\n",
    "  let queryString = qs.stringify(obj);\n",
    "  queryString = queryString.replace(/%20/g, \"+\")\n",
    "  return queryString;\n",
    "}\n",
    "\n",
    "const decodeQS2 = (string) => {\n",
    "  const obj = qs.parse(string);\n",
    "  return obj;\n",
    "}"
   ]
  },
  {
   "cell_type": "code",
   "execution_count": 7,
   "metadata": {},
   "outputs": [],
   "source": [
    "const encodedQS2 = encodeQS2(person)\n",
    "const decodedQS2 = decodeQS2(encodedQS2)"
   ]
  },
  {
   "cell_type": "code",
   "execution_count": 10,
   "metadata": {},
   "outputs": [
    {
     "name": "stdout",
     "output_type": "stream",
     "text": [
      "encodedQS2 name=Landon+Y&skills%5B0%5D=JavaScript&skills%5B1%5D=Python&skills%5B2%5D=Golang\n",
      "decodedQS2 { name: 'Landon Y', skills: [ 'JavaScript', 'Python', 'Golang' ] }\n"
     ]
    }
   ],
   "source": [
    "console.log('encodedQS2', encodedQS2)\n",
    "console.log('decodedQS2', decodedQS2)"
   ]
  },
  {
   "cell_type": "code",
   "execution_count": null,
   "metadata": {},
   "outputs": [],
   "source": []
  },
  {
   "cell_type": "code",
   "execution_count": null,
   "metadata": {},
   "outputs": [],
   "source": []
  }
 ],
 "metadata": {
  "kernelspec": {
   "display_name": "Javascript (Node.js)",
   "language": "javascript",
   "name": "javascript"
  },
  "language_info": {
   "file_extension": ".js",
   "mimetype": "application/javascript",
   "name": "javascript",
   "version": "13.13.0"
  }
 },
 "nbformat": 4,
 "nbformat_minor": 2
}
