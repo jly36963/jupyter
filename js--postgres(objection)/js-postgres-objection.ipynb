{
 "cells": [
  {
   "cell_type": "code",
   "execution_count": 1,
   "metadata": {},
   "outputs": [
    {
     "data": {
      "text/plain": [
       "'\\nnpm i --save moment pg knex objection\\n'"
      ]
     },
     "execution_count": 1,
     "metadata": {},
     "output_type": "execute_result"
    }
   ],
   "source": [
    "// ------------\n",
    "// objection ORM\n",
    "// ------------\n",
    "\n",
    "// install\n",
    "`\n",
    "npm i --save moment pg knex objection\n",
    "`"
   ]
  },
  {
   "cell_type": "code",
   "execution_count": 2,
   "metadata": {},
   "outputs": [],
   "source": [
    "// ------------\n",
    "// initialize knex / objection\n",
    "// ------------\n",
    "\n",
    "// imports\n",
    "const moment = require('moment');\n",
    "const Knex = require('knex');\n",
    "const { Model } = require('objection');\n",
    "\n",
    "// intialize knex\n",
    "const knex = Knex({\n",
    "  client: 'pg',\n",
    "  connection: {\n",
    "    host: '127.0.0.1',\n",
    "    user: 'postgres',\n",
    "    password: 'postgres',\n",
    "    database: 'db1'\n",
    "  },\n",
    "  migrations: {\n",
    "    tableName: 'migrations'\n",
    "  }\n",
    "});\n",
    "\n",
    "// give knex instance to objection\n",
    "\n",
    "Model.knex(knex);"
   ]
  },
  {
   "cell_type": "code",
   "execution_count": 3,
   "metadata": {},
   "outputs": [],
   "source": [
    "// ------------\n",
    "// create table\n",
    "// ------------\n",
    "\n",
    "(async (knex) => {\n",
    "  // check if table exists\n",
    "  if (await knex.schema.hasTable('people')) {\n",
    "    return;\n",
    "  }\n",
    "  // create table\n",
    "  await knex.schema.createTable('people', (table) => {\n",
    "    table.increments('id').primary(); // id (primary key)\n",
    "    table.string('first_name'); // first name (string)\n",
    "    table.string('last_name'); // first name (string)\n",
    "    table.timestamps(); // created_at & updated_at (?????)\n",
    "  })\n",
    "})(knex)\n",
    "\n",
    "\n",
    "// knex.schema.createTable('people', (table) => {\n",
    "//   table.increments('id').primary();\n",
    "//   table.string('first_name');\n",
    "//   table.string('last_name');\n",
    "//   table.timestamps(); // created_at & updated_at\n",
    "// })\n"
   ]
  },
  {
   "cell_type": "code",
   "execution_count": 4,
   "metadata": {},
   "outputs": [],
   "source": [
    "// ------------\n",
    "// create Model\n",
    "// ------------\n",
    "\n",
    "class Person extends Model {\n",
    "  static get tableName() {\n",
    "    return 'people';\n",
    "  }\n",
    "  static get relationMappings() {\n",
    "    return {\n",
    "      // specify relations here\n",
    "    }\n",
    "  }\n",
    "  static get idColumn() {\n",
    "    return 'id' // specify primary key (unique identifier) (default: 'id')\n",
    "  }\n",
    "  static get fullName() {\n",
    "    // define custom method\n",
    "    const name = `${this.first_name} ${this.last_name}`;\n",
    "    return name;\n",
    "  }\n",
    "}\n"
   ]
  },
  {
   "cell_type": "code",
   "execution_count": 5,
   "metadata": {},
   "outputs": [
    {
     "name": "stdout",
     "output_type": "stream",
     "text": [
      "Person {\n",
      "  first_name: 'Kakashi',\n",
      "  last_name: 'Hatake',\n",
      "  created_at: 2020-04-18T20:03:43.382Z,\n",
      "  updated_at: 2020-04-18T20:03:43.383Z,\n",
      "  id: 1\n",
      "}\n",
      "Person {\n",
      "  first_name: 'Tenzo',\n",
      "  last_name: 'Yamato',\n",
      "  created_at: 2020-04-18T20:03:43.634Z,\n",
      "  updated_at: 2020-04-18T20:03:43.634Z,\n",
      "  id: 2\n",
      "}\n"
     ]
    },
    {
     "data": {
      "text/plain": [
       "Person {\n",
       "  first_name: 'Tenzo',\n",
       "  last_name: 'Yamato',\n",
       "  created_at: 2020-04-18T20:03:43.634Z,\n",
       "  updated_at: 2020-04-18T20:03:43.634Z,\n",
       "  id: 2\n",
       "}"
      ]
     },
     "execution_count": 5,
     "metadata": {},
     "output_type": "execute_result"
    }
   ],
   "source": [
    "// ------------\n",
    "// insert\n",
    "// ------------\n",
    "\n",
    "// mutate methods\n",
    "  // https://vincit.github.io/objection.js/api/query-builder/mutate-methods.html\n",
    "\n",
    "// objects to insert\n",
    "\n",
    "const kakashi = {\n",
    "  first_name: 'Kakashi',\n",
    "  last_name: 'Hatake',\n",
    "}\n",
    "const yamato = {\n",
    "  first_name: 'Tenzo',\n",
    "  last_name: 'Yamato',\n",
    "}\n",
    "\n",
    "// insert function\n",
    "  // insert() -- returns only the properties provided\n",
    "  // insertAndFetch() -- returns all properties (fetches the item after insertion)\n",
    "\n",
    "const createNewPerson = async (Person, person) => {\n",
    "  const newPerson = await Person.query().insertAndFetch({\n",
    "    ...person,\n",
    "    created_at: moment(),\n",
    "    updated_at: moment()\n",
    "  });\n",
    "  console.log(newPerson);\n",
    "  return newPerson;\n",
    "}\n",
    "\n",
    "// insert \n",
    "\n",
    "createNewPerson(Person, kakashi)\n",
    "createNewPerson(Person, yamato)"
   ]
  },
  {
   "cell_type": "code",
   "execution_count": 6,
   "metadata": {},
   "outputs": [
    {
     "name": "stdout",
     "output_type": "stream",
     "text": [
      "Person {\n",
      "  id: 1,\n",
      "  first_name: 'Kakashi',\n",
      "  last_name: 'Hatake',\n",
      "  created_at: 2020-04-18T20:03:43.382Z,\n",
      "  updated_at: 2020-04-18T20:03:43.383Z\n",
      "}\n",
      "Person {\n",
      "  id: 2,\n",
      "  first_name: 'Tenzo',\n",
      "  last_name: 'Yamato',\n",
      "  created_at: 2020-04-18T20:03:43.634Z,\n",
      "  updated_at: 2020-04-18T20:03:43.634Z\n",
      "}\n"
     ]
    },
    {
     "data": {
      "text/plain": [
       "Person {\n",
       "  id: 2,\n",
       "  first_name: 'Tenzo',\n",
       "  last_name: 'Yamato',\n",
       "  created_at: 2020-04-18T20:03:43.634Z,\n",
       "  updated_at: 2020-04-18T20:03:43.634Z\n",
       "}"
      ]
     },
     "execution_count": 6,
     "metadata": {},
     "output_type": "execute_result"
    }
   ],
   "source": [
    "// ------------\n",
    "// select\n",
    "// ------------\n",
    "\n",
    "// find methods\n",
    "  // https://vincit.github.io/objection.js/api/query-builder/find-methods.html#findbyid\n",
    "\n",
    "// find by id\n",
    "\n",
    "const findPersonById = async (Person, id) => {\n",
    "  const person = await Person.query().findById(id);\n",
    "  console.log(person);\n",
    "  return person;\n",
    "}\n",
    "\n",
    "findPersonById(Person, 1);\n",
    "\n",
    "// find by condition\n",
    "\n",
    "const findPerson = async (Person, conditions) => {\n",
    "  const person = await Person.query().findOne({\n",
    "    ...conditions\n",
    "  });\n",
    "  console.log(person);\n",
    "  return person;\n",
    "}\n",
    "\n",
    "findPerson(Person, { id: 2 });"
   ]
  },
  {
   "cell_type": "code",
   "execution_count": 8,
   "metadata": {},
   "outputs": [
    {
     "name": "stdout",
     "output_type": "stream",
     "text": [
      "Person {\n",
      "  id: 2,\n",
      "  first_name: 'Tenzo',\n",
      "  last_name: 'Yamato',\n",
      "  created_at: 2020-04-18T20:03:43.634Z,\n",
      "  updated_at: 2020-04-18T20:03:43.634Z\n",
      "}\n",
      "Person {\n",
      "  first_name: 'Tenzo',\n",
      "  last_name: 'Yamato',\n",
      "  updated_at: 2020-04-18T20:03:43.729Z,\n",
      "  id: 1,\n",
      "  created_at: 2020-04-18T20:03:43.382Z\n",
      "}\n",
      "Person {\n",
      "  first_name: 'Kakashi',\n",
      "  last_name: 'Hatake',\n",
      "  updated_at: 2020-04-18T20:03:43.730Z,\n",
      "  id: 2,\n",
      "  created_at: 2020-04-18T20:03:43.634Z\n",
      "}\n"
     ]
    },
    {
     "data": {
      "text/plain": [
       "Person {\n",
       "  first_name: 'Kakashi',\n",
       "  last_name: 'Hatake',\n",
       "  updated_at: 2020-04-18T20:03:43.730Z,\n",
       "  id: 2,\n",
       "  created_at: 2020-04-18T20:03:43.634Z\n",
       "}"
      ]
     },
     "execution_count": 8,
     "metadata": {},
     "output_type": "execute_result"
    }
   ],
   "source": [
    "// ------------\n",
    "// update (patch)\n",
    "// ------------\n",
    "\n",
    "// patch (only returns provided values)\n",
    "\n",
    "const updatePersonById = async (Person, id, updates) => {\n",
    "  const updatedPerson = await Person.query()\n",
    "    .patch({\n",
    "      ...updates,\n",
    "      updated_at: moment()\n",
    "    })\n",
    "    .findById(id)\n",
    "  console.log(updatedPerson)\n",
    "  return updatedPerson;\n",
    "}\n",
    "\n",
    "// patch multiple (only returns provided values)\n",
    "\n",
    "const updatePeople = async (Person, condition, updates) => {\n",
    "  const updatedPeople = await Person.query()\n",
    "    .patch({\n",
    "      ...updates,\n",
    "      updated_at: moment()\n",
    "    })\n",
    "    .where(condition) // ie -- .where('age', '<', 50)\n",
    "}\n",
    "\n",
    "// patch and fetch (returns updated record)\n",
    "\n",
    "const updateAndFetchPersonById = async (Person, id, updates) => {\n",
    "  // patchAndFetchById(id, updateObject)\n",
    "  const updatedPerson = await Person.query()\n",
    "    .patchAndFetchById(id, {\n",
    "      ...updates,\n",
    "      updated_at: moment()\n",
    "    })\n",
    "  console.log(updatedPerson);\n",
    "  return updatedPerson;\n",
    "}\n",
    "\n",
    "updateAndFetchPersonById(Person, 1, yamato) // update kakashi -> yamato\n",
    "updateAndFetchPersonById(Person, 2, kakashi) // update yamato -> kakashi"
   ]
  },
  {
   "cell_type": "code",
   "execution_count": 9,
   "metadata": {},
   "outputs": [
    {
     "name": "stdout",
     "output_type": "stream",
     "text": [
      "0\n"
     ]
    },
    {
     "data": {
      "text/plain": [
       "0"
      ]
     },
     "execution_count": 9,
     "metadata": {},
     "output_type": "execute_result"
    }
   ],
   "source": [
    "// ------------\n",
    "// delete\n",
    "// ------------\n",
    "\n",
    "const deletePersonById = async (Person, id) => {\n",
    "  const deletedPerson = await Person.query().deleteById(id);\n",
    "  console.log(deletedPerson)\n",
    "  return deletedPerson;\n",
    "}\n",
    "\n",
    "deletePersonById(Person, 3); // no person with this 'id'"
   ]
  },
  {
   "cell_type": "code",
   "execution_count": null,
   "metadata": {},
   "outputs": [],
   "source": []
  },
  {
   "cell_type": "code",
   "execution_count": null,
   "metadata": {},
   "outputs": [],
   "source": []
  },
  {
   "cell_type": "code",
   "execution_count": null,
   "metadata": {},
   "outputs": [],
   "source": []
  },
  {
   "cell_type": "code",
   "execution_count": null,
   "metadata": {},
   "outputs": [],
   "source": []
  },
  {
   "cell_type": "code",
   "execution_count": null,
   "metadata": {},
   "outputs": [],
   "source": []
  }
 ],
 "metadata": {
  "kernelspec": {
   "display_name": "Javascript (Node.js)",
   "language": "javascript",
   "name": "javascript"
  },
  "language_info": {
   "file_extension": ".js",
   "mimetype": "application/javascript",
   "name": "javascript",
   "version": "13.13.0"
  }
 },
 "nbformat": 4,
 "nbformat_minor": 2
}
