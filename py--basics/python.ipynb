{
 "cells": [
  {
   "cell_type": "code",
   "execution_count": null,
   "metadata": {},
   "outputs": [],
   "source": [
    "# PYTHON"
   ]
  },
  {
   "cell_type": "code",
   "execution_count": 2,
   "metadata": {},
   "outputs": [],
   "source": [
    "# ----------------\n",
    "# VARIABLES\n",
    "# ----------------\n",
    "\n",
    "# start with letter or underscore, can contain letters, numbers, underscores\n",
    "my_var = 'snake case'\n",
    "MY_CONSTANT = 'capital snake case'\n",
    "MyClass = 'upper camel case'\n",
    "__my_dunder__ = 'double underscore variables'"
   ]
  },
  {
   "cell_type": "code",
   "execution_count": 4,
   "metadata": {},
   "outputs": [
    {
     "data": {
      "text/plain": [
       "'\\n+ add\\n- subtract\\n* multiply\\n/ divide (float result)\\n// floor divide (integer result)\\n% modulus (remainder)\\n** power\\n= assignment\\n_ last printed expression (5+5=10 _+3=13)\\n'"
      ]
     },
     "execution_count": 4,
     "metadata": {},
     "output_type": "execute_result"
    }
   ],
   "source": [
    "# ----------------\n",
    "# MATH OPERATORS\n",
    "# ----------------\n",
    "\n",
    "# python supports int, float, decimal, fraction\n",
    "'''\n",
    "+ add\n",
    "- subtract\n",
    "* multiply\n",
    "/ divide (float result)\n",
    "// floor divide (integer result)\n",
    "% modulus (remainder)\n",
    "** power\n",
    "= assignment\n",
    "_ last printed expression (5+5=10 _+3=13)\n",
    "'''"
   ]
  },
  {
   "cell_type": "code",
   "execution_count": 5,
   "metadata": {},
   "outputs": [
    {
     "name": "stdout",
     "output_type": "stream",
     "text": [
      "True\n"
     ]
    }
   ],
   "source": [
    "# ----------------\n",
    "# OPERATOR PRECEDENCE \n",
    "# ----------------\n",
    "\n",
    "'''\n",
    "()\n",
    "**\n",
    "*, /, //, %\n",
    "+, - \n",
    "<, <=, >, >=\n",
    "==, !=\n",
    "in, not in\n",
    "and, or, not\n",
    "'''\n",
    "\n",
    "bool1 = (5 + 5) * 5 > 3 and 4 > 3\n",
    "print(bool1)"
   ]
  },
  {
   "cell_type": "code",
   "execution_count": null,
   "metadata": {},
   "outputs": [],
   "source": [
    "# -----------------\n",
    "# is vs ==\n",
    "# -----------------\n",
    "\n",
    "a = [1,2,3]\n",
    "b = [1,2,3]\n",
    "\n",
    "a == b # True ( values are the same )\n",
    "a is b # False ( not the same in memory )"
   ]
  },
  {
   "cell_type": "code",
   "execution_count": 7,
   "metadata": {},
   "outputs": [
    {
     "data": {
      "text/plain": [
       "['hello']"
      ]
     },
     "execution_count": 7,
     "metadata": {},
     "output_type": "execute_result"
    }
   ],
   "source": [
    "# ----------------\n",
    "# STRING METHODS\n",
    "# ----------------\n",
    "\n",
    "str1 = 'hello'\n",
    "str1.capitalize() # returns string, first character capitalized\n",
    "str1.lower() # returns string, all characters lowercase\n",
    "str1.upper() # returns string, all characters uppercase\n",
    "str1.find('h') # returns index of substring (-1 if not found)\n",
    "str1.find('h', 0, -1) # substring, start, end\n",
    "str1.index('h') # returns index of substring (ValueError if not found)\n",
    "str1.index('h', 0, -1) # substring, start, end\n",
    "str1.isalnum() # alphanumeric? True : False\n",
    "str1.isalpha() # alpha? True : False\n",
    "str1.isnumeric() # numeric? True : False\n",
    "str1.strip() # returns string, removes whitespace on both ends\n",
    "str1.strip('abcdefgh') # strip chars from left until no match, repeat on right side.\n",
    "str1.replace('hello', 'hi') # return string, replace occurences of old substring with new substring.\n",
    "str1.rfind('h') # returns index of last instance of substring (-1 if not found)\n",
    "str1.rsplit(',', 1) # split string by last instance of delimiter\n",
    "str1.split(',') # return list of strings (split at delimiter)\n"
   ]
  },
  {
   "cell_type": "code",
   "execution_count": 8,
   "metadata": {},
   "outputs": [
    {
     "name": "stdout",
     "output_type": "stream",
     "text": [
      "I don't have school today!\n",
      "this is a r\\a\\w\\ string!\n",
      "use triple quotes for long/multi-line strings.\n",
      "hahaha\n",
      "python\n",
      "We are the knights who say \"Ni!\"\n",
      "spam and eggs\n",
      "eggs and spam\n",
      "This spam is absolutely horrible.\n"
     ]
    }
   ],
   "source": [
    "# ----------------\n",
    "# STRINGS AND FORMATTING\n",
    "# ----------------\n",
    "\n",
    "# by default, print will add '\\n' to every print statement. to change, use 'print(stuff, end=' ').'\n",
    "# format -- '!a', '!s', '!r' can be used to apply 'ascii()', 'str()', and 'repr()'.\n",
    "  # example: 'I had {!s} tacos'.format(12).'\n",
    "\n",
    "print(\"I don't have school today!\")\n",
    "print(r'this is a r\\a\\w\\ string!') # r'string' -- prevents '\\' escapes.\n",
    "print('''use triple quotes for long/multi-line strings.''')\n",
    "print(3*'ha') # hahaha\n",
    "print('py' 'thon') # python (automatically concatenates two literals, use '+' otherwise.)\n",
    "print('We are the {} who say \"{}!\"'.format('knights', 'Ni')) # We are the knights who say \"Ni!\"\n",
    "print('{0} and {1}'.format('spam', 'eggs')) # spam and eggs\n",
    "print('{1} and {0}'.format('spam', 'eggs')) # eggs and spam\n",
    "print('This {food} is {adjective}.'.format(food='spam', adjective='absolutely horrible')) # This spam is absolutely horrible."
   ]
  },
  {
   "cell_type": "code",
   "execution_count": null,
   "metadata": {},
   "outputs": [],
   "source": [
    "# ----------------\n",
    "# F-STRINGS (PYTHON 3.6) (FORMATING)\n",
    "# ----------------\n",
    "\n",
    "# formatted string literals\n",
    "name = 'Landon'\n",
    "age = 26\n",
    "greeting = f'My name is {name} and I am {age} years old'.\n",
    "multi_line = f'''\n",
    "My name is {name}.\n",
    "I am {age} years old.\n",
    "'''"
   ]
  },
  {
   "cell_type": "code",
   "execution_count": null,
   "metadata": {},
   "outputs": [],
   "source": [
    "# ----------------\n",
    "# ESCAPE CHARACTERS\n",
    "# ----------------\n",
    "\n",
    "str1 = '\\n' # linefeed (LF) (new line)\n",
    "str1 = '\\r' # carriage return (CR)\n",
    "str1 = '\\t' # horizontal tab\n",
    "str1 = '\\'' # escaped single quote\n",
    "str1 = '\\\"' # escaped double quote\n",
    "str1 = '\\\\' # escaped backslash"
   ]
  },
  {
   "cell_type": "code",
   "execution_count": 11,
   "metadata": {},
   "outputs": [
    {
     "data": {
      "text/plain": [
       "6"
      ]
     },
     "execution_count": 11,
     "metadata": {},
     "output_type": "execute_result"
    }
   ],
   "source": [
    "# ----------------\n",
    "# STRING INDEX\n",
    "# ----------------\n",
    "\n",
    "word='Python'\n",
    "word[0] # P (index starts at 0)\n",
    "word[5] # n\n",
    "word[-1] # n (negative indices start at -1)\n",
    "word[-6] # P\n",
    "word[0:2] # Py (slices before '0' and right before '2'.)\n",
    "word[2:5] # tho\n",
    "word[:5] # Pytho\n",
    "word[2:] # thon\n",
    "# word[42] # error\n",
    "word[4:42] # on\n",
    "word[42:] # [empty string]\n",
    "f'why {word[2:5]}?' # why tho?\n",
    "len(word) # 6"
   ]
  },
  {
   "cell_type": "code",
   "execution_count": 12,
   "metadata": {},
   "outputs": [
    {
     "data": {
      "text/plain": [
       "'b'"
      ]
     },
     "execution_count": 12,
     "metadata": {},
     "output_type": "execute_result"
    }
   ],
   "source": [
    "# ----------------\n",
    "# LISTS\n",
    "# ----------------\n",
    "\n",
    "# Python knows a number of compound data types, used to group together other values.\n",
    "# The most versatile is the list, which can be written as a list of comma-separated values (items) between square brackets.\n",
    "# Lists might contain items of different types, but usually the items all have the same type.\n",
    "\n",
    "squares = [1, 4, 9, 16, 25]\n",
    "squares[0] # 1\n",
    "\n",
    "cubes = [1, 8, 27, 65, 125] # cubes[3] is incorrect (64).\n",
    "cubes[3] = 64 # assignment (lists are mutable)\n",
    "cubes.append(216) # append() adds items to the end of a list.\n",
    "\n",
    "letters = ['a', 'b', 'c', 'd', 'e', 'f', 'g']\n",
    "len(letters) # 7 (length = number of items in list)\n",
    "letters[2:5]=['C', 'D', 'E'] # letters = ['a', 'b', 'C', 'D', 'E', 'f', 'g']\n",
    "letters[:]=[] # letters is empty now\n",
    "\n",
    "# nested lists\n",
    "a = ['a', 'b', 'c']\n",
    "n = [1, 2, 3]\n",
    "x = [a, n] # [['a', 'b', 'c'], [1, 2, 3]]\n",
    "x[0][1] # 'b'"
   ]
  },
  {
   "cell_type": "code",
   "execution_count": null,
   "metadata": {},
   "outputs": [],
   "source": [
    "# ----------------\n",
    "# LIST METHODS\n",
    "# ----------------\n",
    "\n",
    "list1 = []\n",
    "list1.append(x) # Add an item to the end of the list. Equivalent to a[len(a):] = [x].\n",
    "list1.extend(iterable) # Extend the list by appending all items from the iterable. Equivalent to a[len(a):] = iterable.\n",
    "list1.insert(i, x) # Insert an item at a given position. i = index of the element before which to insert.\n",
    "list1.remove(x) # Remove the first item from the list whose value is x. It is an error if there is no such item.\n",
    "list1.pop(i) # Remove the item at the given position in the list, and return it. If no index is specified, a.pop() removes and returns the last item in the list.\n",
    "list1.clear() # removes all items from the list.\n",
    "list1.index(x[, start[, end]]) # Return zero-based index in the list of the first item whose value is x. Raises a ValueError if there is no such item.\n",
    "list1.sort(key=None, reverse=False) # sort the items of the list in place.\n",
    "list1.reverse() # Reverse the elements of the list in place.\n",
    "\n",
    "# list.remove -- del list[i] deletes item by index (instead of value)."
   ]
  },
  {
   "cell_type": "code",
   "execution_count": 13,
   "metadata": {},
   "outputs": [
    {
     "name": "stdout",
     "output_type": "stream",
     "text": [
      "[2, 3, 4, 5, 6]\n",
      "[0, 1, 2, 3, 4]\n"
     ]
    }
   ],
   "source": [
    "# ----------------\n",
    "# MAP\n",
    "# ----------------\n",
    "\n",
    "# function for map\n",
    "def add_one(num1):\n",
    "    num1 = num1 + 1\n",
    "    return num1\n",
    "# iterable for map\n",
    "numbers1 = [1,2,3,4,5]\n",
    "# map function (produces iterable, convert iterable to list)\n",
    "numbers2 = list(map(add_one, numbers1))\n",
    "print(numbers2)\n",
    "\n",
    "# map with lambda\n",
    "numbers1 = [1,2,3,4,5]\n",
    "numbers2 = list(map(lambda x: x-1, numbers1))\n",
    "print(numbers2)"
   ]
  },
  {
   "cell_type": "code",
   "execution_count": 9,
   "metadata": {},
   "outputs": [
    {
     "data": {
      "text/plain": [
       "4"
      ]
     },
     "execution_count": 9,
     "metadata": {},
     "output_type": "execute_result"
    }
   ],
   "source": []
  },
  {
   "cell_type": "code",
   "execution_count": 15,
   "metadata": {},
   "outputs": [
    {
     "name": "stdout",
     "output_type": "stream",
     "text": [
      "[0, 1, 4, 9, 16, 25, 36, 49, 64, 81, 100, 121, 144, 169, 196, 225, 256, 289, 324, 361, 400, 441, 484, 529, 576]\n"
     ]
    }
   ],
   "source": [
    "# ----------------\n",
    "# MULTIPROCESSING\n",
    "# ----------------\n",
    "\n",
    "# https://docs.python.org/3/library/multiprocessing.html\n",
    "\n",
    "from multiprocessing import Pool\n",
    "\n",
    "a = list(range(25)) # list to map\n",
    "n = 4 # pool size\n",
    "\n",
    "def square(x):\n",
    "    return x**2\n",
    "\n",
    "pool = Pool(n)\n",
    "\n",
    "squared = pool.map(square, a)\n",
    "\n",
    "print(squared)\n",
    "\n",
    "\n",
    "# with Pool(n) as p:\n",
    "#     print(p.map(\n",
    "#         square, # function\n",
    "#         a # list\n",
    "#     ))"
   ]
  },
  {
   "cell_type": "code",
   "execution_count": null,
   "metadata": {},
   "outputs": [],
   "source": []
  },
  {
   "cell_type": "code",
   "execution_count": 4,
   "metadata": {},
   "outputs": [
    {
     "name": "stdout",
     "output_type": "stream",
     "text": [
      "[1, 16, 27, 16, 5]\n"
     ]
    }
   ],
   "source": [
    "# ----------------\n",
    "# ZIP\n",
    "# ----------------\n",
    "\n",
    "a = [1,2,3,4,5]\n",
    "b = [5,4,3,2,1]\n",
    "c = []\n",
    "for x,y in zip(a,b):\n",
    "    power = x ** y\n",
    "    c.append(power)\n",
    "print(c)"
   ]
  },
  {
   "cell_type": "code",
   "execution_count": 5,
   "metadata": {},
   "outputs": [
    {
     "name": "stdout",
     "output_type": "stream",
     "text": [
      "{(2, 'two', 'TWO'), (3, 'three', 'THREE'), (1, 'one', 'ONE')}\n"
     ]
    }
   ],
   "source": [
    "# -------------\n",
    "# ZIP (2)\n",
    "# -------------\n",
    "\n",
    "a = [1,2,3]\n",
    "b = ['one', 'two', 'three']\n",
    "c = ['ONE', 'TWO', 'THREE', 'FOUR']\n",
    "\n",
    "d = zip(a,b,c)\n",
    "d_set = set(d)\n",
    "print(d_set) # {(1, 'one', 'ONE'), (2, 'two', 'TWO'), (3, 'three', 'THREE')}"
   ]
  },
  {
   "cell_type": "code",
   "execution_count": 14,
   "metadata": {},
   "outputs": [
    {
     "name": "stdout",
     "output_type": "stream",
     "text": [
      "[3, 4, 5]\n"
     ]
    }
   ],
   "source": [
    "# ----------------\n",
    "# FILTER\n",
    "# ----------------\n",
    "\n",
    "numbers1 = [1,2,3,4,5]\n",
    "numbers2 = list(filter(lambda x: x > 2, numbers1))\n",
    "print(numbers2)"
   ]
  },
  {
   "cell_type": "code",
   "execution_count": null,
   "metadata": {},
   "outputs": [],
   "source": [
    "# ----------------\n",
    "# MEMBERSHIP TESTING\n",
    "# ----------------\n",
    "\n",
    "print('a' in 'apple') # True\n",
    "print('a' in ['a', 'b', 'c']) # True\n",
    "print('a' in 'cliff') # False\n",
    "print('a' in [1, 2, 3]) # False"
   ]
  },
  {
   "cell_type": "code",
   "execution_count": 21,
   "metadata": {},
   "outputs": [
    {
     "name": "stdout",
     "output_type": "stream",
     "text": [
      "a\n",
      "3\n",
      "['1: 1', '2: 4', '3: 9', '4: 16', '5: 25']\n",
      "guitar\n",
      "dict_keys(['landon', 'brendan'])\n",
      "a: 1\n",
      "b: 2\n",
      "c: 3\n",
      "{'apple', 'orange', 'banana', 'pear'}\n",
      "apple\n",
      "orange\n",
      "banana\n",
      "pear\n"
     ]
    }
   ],
   "source": [
    "\n",
    "# ----------------\n",
    "# DICTIONARIES, TUPLES, SETS\n",
    "# ----------------\n",
    "\n",
    "# dictionaries ({key:value}) (unordered) (like JS objects)\n",
    "squares = dict([(1,1), (2,4), (3,9), (4,16)])\n",
    "squares = {1: 1, 2: 4, 3: 9, 4: 16}\n",
    "squares[5] = 25\n",
    "even_squares = {x: x**2 for x in range(2, 11, 2)} # {2: 4, 4: 16, 6: 36, 8: 64, 10: 100}\n",
    "\n",
    "# for loop (dictionaries)\n",
    "dictionary1 = { 'a': 3 } # some dictionary\n",
    "for k in dictionary1:\n",
    "    print(k) # key\n",
    "    print(dictionary1[k]) # value\n",
    "\n",
    "# dictionary (items method: returns a list of tuple pairs) (tuple unpacking)\n",
    "list_of_squares = []\n",
    "for k, v in squares.items():\n",
    "    list_of_squares.append('{}: {}'.format(k, v))\n",
    "print(list_of_squares) # ['1: 1', '2: 4', '3: 9', '4: 16', '5: 25']\n",
    "\n",
    "# nested dictionary\n",
    "people = {\n",
    "    'landon': {'age': 26, 'hobbies': ['guitar', 'soccer', 'running', 'zombies']},\n",
    "    'brendan': {'age': 42, 'hobbies': ['survivor', 'running', 'sports in general']}\n",
    "}\n",
    "\n",
    "print(people['landon']['hobbies'][0]) # guitar\n",
    "print(people.keys()) # dict_keys(['landon', 'brendan'])\n",
    "\n",
    "# tuples (immutable)\n",
    "numbers = (0, 1, 2, 3, 4, 5, 6, 7, 8, 9)\n",
    "\n",
    "# tuple unpacking\n",
    "mypairs = [('a',1), ('b',2), ('c',3)]\n",
    "for letter, num in mypairs:\n",
    "    print('{}: {}'.format(letter, num)) # a: 1  b: 2  c: 3\n",
    "\n",
    "\n",
    "# sets (collection of unique items) (unordered) (empty set: x=set())\n",
    "basket = {'apple', 'orange', 'apple', 'pear', 'orange', 'banana'}\n",
    "print(basket)   # duplicates removed -- {'orange', 'banana', 'pear', 'apple'}\n",
    "'orange' in basket # membership testing\n",
    "\n",
    "for fruit in basket:\n",
    "    print(fruit)"
   ]
  },
  {
   "cell_type": "code",
   "execution_count": 24,
   "metadata": {
    "scrolled": true
   },
   "outputs": [
    {
     "name": "stdout",
     "output_type": "stream",
     "text": [
      "please enter an integer: 2\n",
      "you chose a positive, even number.\n",
      "cat 3\n",
      "window 6\n",
      "defenestrate 12\n",
      "0 cat\n",
      "1 window\n",
      "2 defenestrate\n",
      "5\n",
      "6\n",
      "7\n",
      "8\n",
      "9\n",
      "0\n",
      "3\n",
      "6\n",
      "9\n",
      "10\n",
      "40\n",
      "70\n",
      "0 Mary\n",
      "1 had\n",
      "2 a\n",
      "3 little\n",
      "4 lamb\n",
      "range(0, 10)\n",
      "[0, 1, 2, 3, 4, 5, 6, 7, 8, 9]\n",
      "3 is a prime number\n",
      "4 equals 2 * 2\n",
      "5 is a prime number\n",
      "5 is a prime number\n",
      "5 is a prime number\n",
      "6 equals 2 * 3\n",
      "7 is a prime number\n",
      "7 is a prime number\n",
      "7 is a prime number\n",
      "7 is a prime number\n",
      "7 is a prime number\n",
      "8 equals 2 * 4\n",
      "9 is a prime number\n",
      "9 equals 3 * 3\n",
      "Found an even number 2\n",
      "Found a number 3\n",
      "Found an even number 4\n",
      "Found a number 5\n",
      "Found an even number 6\n",
      "Found a number 7\n",
      "Found an even number 8\n",
      "Found a number 9\n"
     ]
    }
   ],
   "source": [
    "# ----------------\n",
    "# CONTROL FLOW\n",
    "# ----------------\n",
    "\n",
    "# while loop\n",
    "b=1\n",
    "l=[]\n",
    "while b < 1000:\n",
    "    l.append(b)\n",
    "    b *= 2\n",
    "\n",
    "# if (nested)\n",
    "x = int(input('please enter an integer: '))\n",
    "if x==0:\n",
    "    print('zero is neither positive or negative.')\n",
    "elif x>0:\n",
    "    if x%2==0:\n",
    "        print('you chose a positive, even number.')\n",
    "    elif x%2==1:\n",
    "        print('you chose a positive, odd number.')\n",
    "elif x<0:\n",
    "    if x%2==0:\n",
    "        print('you chose a negative, even number.')\n",
    "    elif x%2==1:\n",
    "        print('you chose a negative, odd number.')\n",
    "\n",
    "# for loop\n",
    "words = ['cat', 'window', 'defenestrate']\n",
    "for w in words:\n",
    "    print(w, len(w)) # cat 3, window 6, defenestrate 12\n",
    "\n",
    "# for loop with index (enumerate)\n",
    "words = ['cat', 'window', 'defenestrate']\n",
    "for i, word in enumerate(words):\n",
    "    print(i, word)\n",
    "\n",
    "# range\n",
    "for i in range(5, 10):\n",
    "    print(i) # 5 6 7 8 9\n",
    "\n",
    "for i in range(0, 10, 3):\n",
    "    print(i) # 0 3 6 9\n",
    "\n",
    "for i in range(10, 100, 30):\n",
    "    print(i) # 10, 40, 70\n",
    "\n",
    "a = ['Mary', 'had', 'a', 'little', 'lamb']\n",
    "for i in range(len(a)):\n",
    "    print(i, a[i]) # 0 Mary 1 had 2 a 3 little 4 lamb\n",
    "\n",
    "print(range(10)) # doesn't do what I want\n",
    "print(list(range(10))) # does what I want (iterable objects)\n",
    "\n",
    "num_list = list(range(0,10)) # [0, 1, 2, 3, 4, 5, 6, 7, 8, 9]\n",
    "\n",
    "\n",
    "# break (breaks out of the innermost enclosing loop)\n",
    "for n in range(2, 10):\n",
    "    for x in range(2, n):\n",
    "        if n % x == 0:\n",
    "            print(n, 'equals', x, '*', n//x)\n",
    "            break\n",
    "        else:\n",
    "            # loop fell through without finding a factor\n",
    "            print(n, 'is a prime number')\n",
    "\n",
    "\n",
    "# continue (continues with the next iteration of the loop)\n",
    "for num in range(2, 10):\n",
    "    if num % 2 == 0:\n",
    "        print(\"Found an even number\", num)\n",
    "        continue\n",
    "    print(\"Found a number\", num)\n",
    "\n"
   ]
  },
  {
   "cell_type": "code",
   "execution_count": 25,
   "metadata": {},
   "outputs": [
    {
     "name": "stdout",
     "output_type": "stream",
     "text": [
      "landon\n",
      "yarrington\n",
      "Hello friend!\n",
      "Hello Matt!\n"
     ]
    }
   ],
   "source": [
    "# ----------------\n",
    "# FUNCTIONS\n",
    "# ----------------\n",
    "\n",
    "# function syntax\n",
    "def function1(parameter1, parameter2):\n",
    "    print(parameter1)\n",
    "    print(parameter2)\n",
    "    my_list = [parameter1, parameter2]\n",
    "    return my_list\n",
    "\n",
    "function1('landon', 'yarrington') # this calls the function\n",
    "\n",
    "# function with default parameters\n",
    "def greeting(name='friend'):\n",
    "    print(f'Hello {name}!')\n",
    "\n",
    "greeting() # Hello friend!\n",
    "greeting('Matt') # Hello Matt!"
   ]
  },
  {
   "cell_type": "code",
   "execution_count": 29,
   "metadata": {},
   "outputs": [
    {
     "name": "stdout",
     "output_type": "stream",
     "text": [
      "0 1 1 2 3 5 8 Print a Fibonacci series up to n.\n"
     ]
    }
   ],
   "source": [
    "# function (fibonacci sequence) (docstring)\n",
    "def fib(n):    # write Fibonacci series up to n\n",
    "    \"\"\"Print a Fibonacci series up to n.\"\"\" # docstring\n",
    "    a, b = 0, 1\n",
    "    while a < n:\n",
    "        print(a, end=' ')\n",
    "        a, b = b, a+b\n",
    "\n",
    "fib(10) # 0 1 1 2 3 5 8\n",
    "print(fib.__doc__) # print docstring"
   ]
  },
  {
   "cell_type": "code",
   "execution_count": 30,
   "metadata": {},
   "outputs": [
    {
     "name": "stdout",
     "output_type": "stream",
     "text": [
      "result is 0.5\n",
      "MATH SUCKS, BUT IT IS IMPORTANT\n",
      "division by zero!\n",
      "MATH SUCKS, BUT IT IS IMPORTANT\n"
     ]
    }
   ],
   "source": [
    "\n",
    "# try/except/else/finally\n",
    "# try something\n",
    "    # if error -- raise exception\n",
    "    # if no error -- execute else clause\n",
    "    # regardless of error -- execute finally clause\n",
    "\n",
    "def divider(x, y):\n",
    "    try:\n",
    "        result = x / y\n",
    "    except ZeroDivisionError:\n",
    "        print(\"division by zero!\")\n",
    "    else:\n",
    "        print(\"result is\", result)\n",
    "    finally:\n",
    "        print(\"MATH SUCKS, BUT IT IS IMPORTANT\")\n",
    "\n",
    "divider(2,4)\n",
    "divider(2,0)"
   ]
  },
  {
   "cell_type": "code",
   "execution_count": null,
   "metadata": {},
   "outputs": [],
   "source": [
    "# ----------------\n",
    "# LOCAL/GLOBAL\n",
    "# ----------------\n",
    "var1 = 5\n",
    "def func():\n",
    "    var2 = 10\n",
    "    print(locals()) # dict of all local variables\n",
    "    print(globals()) # dict of all global variables (includes built in ones)\n",
    "    print(locals()['var2']) # 10 (key provided, value returned)\n",
    "    print(globals()['var1']) # 5 (key provided, value returned)"
   ]
  },
  {
   "cell_type": "code",
   "execution_count": null,
   "metadata": {},
   "outputs": [],
   "source": [
    "# ----------------\n",
    "# MODULES\n",
    "# ----------------\n",
    "\n",
    "# import module\n",
    "import module_name\n",
    "module_name.func_from_module() # calling a function from imported module\n",
    "\n",
    "# import from module\n",
    "from module_name import func_from_module, ClassFromModule\n",
    "func_from_module()\n",
    "class_from_module = ClassFromModule(parameter1=argument1,\n",
    "                                    parameter2=argument2)\n",
    "\n",
    "# import as ...\n",
    "import my_module as mm\n",
    "mm.func_from_module()\n",
    "\n",
    "# import from module in sub-directory\n",
    "    # directory must have (usually empty) __init__.py file\n",
    "    # (tells python that it's okay to import from that directory)\n",
    "from subdirectory1.subdirectory2.python_file import function_name\n",
    "function_name()"
   ]
  },
  {
   "cell_type": "code",
   "execution_count": 2,
   "metadata": {},
   "outputs": [
    {
     "name": "stdout",
     "output_type": "stream",
     "text": [
      "This is a test\n",
      "\n"
     ]
    }
   ],
   "source": [
    "# ----------------\n",
    "# READ/WRITE TO FILE\n",
    "# ----------------\n",
    "\n",
    "# mode can be 'r', 'w', 'a', 'r+' (read, write, append, and read/write.)\n",
    "\n",
    "fp = './output/my-file.txt'\n",
    "\n",
    "# write\n",
    "f = open(fp, 'a')\n",
    "f.write('This is a test\\n') # writes/appends to file\n",
    "\n",
    "# read file ('with' properly closes file)\n",
    "with open(fp) as f:\n",
    "    read_data = f.read()\n",
    "f.close()\n",
    "\n",
    "# read (iterate) ('with')\n",
    "with open(fp) as f:\n",
    "    for line in f:\n",
    "        print(line, end='\\n')\n",
    "f.close()"
   ]
  },
  {
   "cell_type": "code",
   "execution_count": 42,
   "metadata": {},
   "outputs": [
    {
     "name": "stdout",
     "output_type": "stream",
     "text": [
      "1\n",
      "2\n",
      "3\n",
      "1\n",
      "2\n",
      "3\n",
      "one\n",
      "two\n",
      "1\n",
      "2\n",
      "3\n",
      "This is a test\n",
      "This is a test\n",
      "This is a test\n",
      "This is a test\n",
      "This is a test\n",
      "This is a test\n",
      "f\n",
      "l\n",
      "o\n",
      "g\n"
     ]
    }
   ],
   "source": [
    "# ----------------\n",
    "# ITERATORS / GENERATORS\n",
    "# ----------------\n",
    "\n",
    "# for ... in ...\n",
    "for element in [1, 2, 3]:\n",
    "    print(element)\n",
    "for element in (1, 2, 3):\n",
    "    print(element)\n",
    "for key in {'one':1, 'two':2}:\n",
    "    print(key)\n",
    "for char in \"123\":\n",
    "    print(char)\n",
    "for line in open(\"my_file.txt\"):\n",
    "    print(line, end='')\n",
    "\n",
    "'''\n",
    "Behind the scenes, the for statement calls 'iter()' on the container object.\n",
    "The function returns an iterator object that defines the method '__next__()',\n",
    "which accesses elements in the container one at a time.\n",
    "When there are no more elements, '__next__()' raises a 'StopIteration' exception,\n",
    "which tells the for loop to terminate.\n",
    "You can call the '__next__()' method using the 'next()' built-in function.\n",
    "'''\n",
    "\n",
    "# iterator example\n",
    "s = 'abc'\n",
    "it = iter(s)\n",
    "it # <iterator object at 0x00A1DB50>\n",
    "next(it) # 'a'\n",
    "next(it) # 'b'\n",
    "next(it) # 'c'\n",
    "# next(it) # raises 'StopIteration' exception\n",
    "\n",
    "# generator example\n",
    "def reverse(data):\n",
    "    for index in range(len(data)-1, -1, -1):\n",
    "        yield data[index]\n",
    "\n",
    "for char in reverse('golf'):\n",
    "     print(char) # f l o g"
   ]
  },
  {
   "cell_type": "code",
   "execution_count": 43,
   "metadata": {},
   "outputs": [
    {
     "name": "stdout",
     "output_type": "stream",
     "text": [
      "[1, 4, 9, 16]\n"
     ]
    }
   ],
   "source": [
    "# ---------------------\n",
    "# list comprehension\n",
    "# ---------------------\n",
    "\n",
    "a = [1,2,3,4]\n",
    "b = [x**2 for x in a]\n",
    "print(b)"
   ]
  },
  {
   "cell_type": "code",
   "execution_count": 44,
   "metadata": {},
   "outputs": [],
   "source": [
    "# ---------------------\n",
    "# dictionary\n",
    "# ---------------------\n",
    "\n",
    "people = [\n",
    "    {\n",
    "        'name': 'Landon',\n",
    "        'age': 26\n",
    "    },\n",
    "    {\n",
    "        'name': 'Brendan',\n",
    "        'age': 42\n",
    "    }\n",
    "]"
   ]
  },
  {
   "cell_type": "code",
   "execution_count": 45,
   "metadata": {},
   "outputs": [
    {
     "name": "stdout",
     "output_type": "stream",
     "text": [
      "11\n",
      "6\n",
      "10\n",
      "{'name': 'Landon', 'age': 26}\n"
     ]
    }
   ],
   "source": [
    "# ---------------------\n",
    "# *args and **kwargs\n",
    "# ---------------------\n",
    "\n",
    "# *args should come at the end of parameters/arguments\n",
    "\n",
    "# add 2 numbers\n",
    "def add_method(arg1, arg2):\n",
    "    return arg1 + arg2\n",
    "\n",
    "print(add_method(5, 6)) # 11\n",
    "\n",
    "# find sum of list of numbers\n",
    "def add_list(list_arg):\n",
    "    return sum(list_arg)\n",
    "\n",
    "print(add_list([1, 2, 3])) # 6\n",
    "\n",
    "# add any number of arguments together\n",
    "def add_args(*args):\n",
    "    return sum(args)\n",
    "\n",
    "print(add_args(1, 2, 3, 4)) # 10\n",
    "\n",
    "# use kwargs (key/value pairs ==> dictionary)\n",
    "def return_kwargs(**kwargs):\n",
    "    return kwargs\n",
    "\n",
    "print(return_kwargs(name='Landon', age=26)) # {'name': 'Landon', 'age': 26}"
   ]
  },
  {
   "cell_type": "code",
   "execution_count": 47,
   "metadata": {},
   "outputs": [
    {
     "name": "stdout",
     "output_type": "stream",
     "text": [
      "human\n",
      "Hi! my name is Landon!\n",
      "I am 26 years old!\n"
     ]
    }
   ],
   "source": [
    "# ---------------------\n",
    "# classes // objects\n",
    "# ---------------------\n",
    "\n",
    "# object1 != object2 (self is different for each object)\n",
    "# object1.name == object2.name (if they have the same name)\n",
    "\n",
    "class Person:\n",
    "    type = 'Human' # class object attribute (true for all instances)\n",
    "\n",
    "    def __init__(self, name, age):\n",
    "        self.name = name\n",
    "        self.age = age\n",
    "        self.greeting = 'Hi! my name is {}!'.format(name)\n",
    "\n",
    "    def how_old(self):\n",
    "        return 'I am {} years old!'.format(self.age)\n",
    "\n",
    "landon = Person('Landon', 26)\n",
    "print(landon.type) # human\n",
    "print(landon.greeting) # Hi! my name is Landon!\n",
    "print(landon.how_old()) # I am 26 years old!"
   ]
  },
  {
   "cell_type": "code",
   "execution_count": 49,
   "metadata": {},
   "outputs": [
    {
     "name": "stdout",
     "output_type": "stream",
     "text": [
      "100.0\n",
      "I am a <class '__main__.Student'>\n",
      "School is killing me :D\n"
     ]
    }
   ],
   "source": [
    "\n",
    "# ---------------------\n",
    "# class and static methods\n",
    "# ---------------------\n",
    "\n",
    "class Student:\n",
    "    def __init__(self, name, age, major, classes):\n",
    "        self.name = name\n",
    "        self.age = age\n",
    "        self.major = major\n",
    "        self.classes = classes\n",
    "        self.marks = []\n",
    "\n",
    "    def add_grade(self, grade):\n",
    "        self.marks.append(grade)\n",
    "        return self.marks\n",
    "\n",
    "    def av_grade(self):\n",
    "        if len(self.marks) != 0:\n",
    "            return sum(self.marks) / len(self.marks)\n",
    "        else:\n",
    "            return 'No grades entered yet!'\n",
    "\n",
    "    def speak_truth1(self): # instance method\n",
    "        truth = 'School is killing me :D'\n",
    "        return truth\n",
    "\n",
    "    @classmethod\n",
    "    def speak_truth2(cls):\n",
    "        truth = 'I am a {}'.format(cls)\n",
    "        return truth  # '{}'.format(cls) == <class '__main__.Student'>\n",
    "\n",
    "    @staticmethod\n",
    "    def speak_truth3():\n",
    "        truth = 'School is killing me :D'\n",
    "        return truth\n",
    "\n",
    "\n",
    "landon = Student('Landon', 26, 'Computer Science', ['Pandas', 'Tensorflow', 'Flask', 'MERN'])\n",
    "landon.add_grade(100)\n",
    "print(landon.av_grade())\n",
    "print(Student.speak_truth2()) # uses 'Student' class name (not 'landon')\n",
    "print(Student.speak_truth3())"
   ]
  },
  {
   "cell_type": "code",
   "execution_count": 50,
   "metadata": {},
   "outputs": [
    {
     "name": "stdout",
     "output_type": "stream",
     "text": [
      "Dion's Pizza\n"
     ]
    }
   ],
   "source": [
    "\n",
    "# ---------------------\n",
    "# inheritance\n",
    "# ---------------------\n",
    "\n",
    "class Student:\n",
    "    def __init__(self, name, school):\n",
    "        self.name = name\n",
    "        self.school = school\n",
    "\n",
    "    # add friend from same school\n",
    "    @classmethod\n",
    "    def friend(cls, origin, friend_name, *args): # args is for 'self.workplace'\n",
    "        return cls(friend_name, origin.school, *args)\n",
    "\n",
    "class WorkingStudent(Student):\n",
    "    # inherits all from 'Student'\n",
    "    def __init__(self, name, school, workplace):\n",
    "        super().__init__(name, school)\n",
    "        self.workplace = workplace\n",
    "\n",
    "# Student\n",
    "thomas = Student('Thomas', 'Berkley')\n",
    "nate = Student.friend(thomas, 'Nate') # args is not used for 'workplace'.\n",
    "\n",
    "# WorkingStudent\n",
    "thomas2 = WorkingStudent('Thomas', 'Berkley', \"Dion's Pizza\")\n",
    "nate2 = WorkingStudent.friend(thomas, 'Nate', \"Dion's Pizza\") # args is used.\n",
    "print(nate2.workplace)"
   ]
  },
  {
   "cell_type": "code",
   "execution_count": 51,
   "metadata": {},
   "outputs": [
    {
     "name": "stdout",
     "output_type": "stream",
     "text": [
      "Title: Python Rocks!, Author: Landon\n",
      "Title: Python Rocks!, Author: Landon\n"
     ]
    }
   ],
   "source": [
    "# ---------------------\n",
    "# repr (class instance -- represent the object with a string)\n",
    "# ---------------------\n",
    "class Book():\n",
    "    def __init__(self,title,author,pages):\n",
    "        self.title = title\n",
    "        self.author = author\n",
    "        self.pages = pages\n",
    "\n",
    "    def __repr__(self):\n",
    "        return f'Title: {self.title}, Author: {self.author}'\n",
    "\n",
    "mybook = Book('Python Rocks!', 'Landon', 250)\n",
    "print(mybook) # <__main__.Book object at 0x000000270FF8ED828>\n",
    "print(mybook) # Title: Python Rocks!, Author: Landon"
   ]
  },
  {
   "cell_type": "code",
   "execution_count": 56,
   "metadata": {},
   "outputs": [
    {
     "name": "stdout",
     "output_type": "stream",
     "text": [
      "hello there!\n",
      "[2, 4]\n",
      "[2, 4]\n"
     ]
    }
   ],
   "source": [
    "# lambda\n",
    "lambda x: print(x)\n",
    "\n",
    "# execute lambda\n",
    "(lambda x: print(x))('hello there!')\n",
    "\n",
    "# store lambda in variable\n",
    "square = lambda x: x**2\n",
    "square(2)\n",
    "\n",
    "# lambda example (both functions return the same output)\n",
    "def f(x):\n",
    "    return x*3\n",
    "\n",
    "f(5) # 15\n",
    "\n",
    "(lambda x: x*3)(5) # 15\n",
    "\n",
    "# filter with lambda\n",
    "numbers = [1, 2, 3, 4]\n",
    "print([x for x in numbers if x % 2 == 0]) # list comprehension filter\n",
    "print(list(filter(lambda x: x % 2 == 0, numbers))) # lambda filter\n",
    "\n"
   ]
  },
  {
   "cell_type": "code",
   "execution_count": 58,
   "metadata": {},
   "outputs": [
    {
     "name": "stdout",
     "output_type": "stream",
     "text": [
      "<function func1 at 0x7f2df02de0d0>\n",
      "Hello!\n"
     ]
    }
   ],
   "source": [
    "# ---------------------\n",
    "# functions as parameters\n",
    "# ---------------------\n",
    "\n",
    "def func1():\n",
    "    return 'Hello!'\n",
    "def func2(func):\n",
    "    print(func) # prints function object\n",
    "    print(func()) # prints the output of func()\n",
    "\n",
    "func2(func1)"
   ]
  },
  {
   "cell_type": "code",
   "execution_count": 57,
   "metadata": {},
   "outputs": [
    {
     "name": "stdout",
     "output_type": "stream",
     "text": [
      "Hello there!\n"
     ]
    }
   ],
   "source": [
    "# ---------------------\n",
    "# functions as parameters (2)\n",
    "# ---------------------\n",
    "\n",
    "def outer_function(inner_function):\n",
    "    return inner_function()\n",
    "\n",
    "def greeting():\n",
    "    return 'Hello there!'\n",
    "\n",
    "# defined function as inner_function\n",
    "print(outer_function(greeting)) # Hello there!"
   ]
  },
  {
   "cell_type": "code",
   "execution_count": 59,
   "metadata": {},
   "outputs": [
    {
     "name": "stdout",
     "output_type": "stream",
     "text": [
      "Before inner function!\n",
      "I'm the inner function!!!\n",
      "After the inner function\n"
     ]
    }
   ],
   "source": [
    "# ---------------------\n",
    "# decorator functions (how to create)\n",
    "# ---------------------\n",
    "\n",
    "import functools\n",
    "\n",
    "def my_decorator(inner_func):\n",
    "    @functools.wraps(inner_func)\n",
    "    def outer_func():\n",
    "        # before inner_func\n",
    "        print('Before inner function!')\n",
    "        # inner_func\n",
    "        inner_func()\n",
    "        # after func\n",
    "        print('After the inner function')\n",
    "    return outer_func\n",
    "\n",
    "@my_decorator\n",
    "def my_function():\n",
    "    print(\"I'm the inner function!!!\")\n",
    "\n",
    "my_function() # my_function is passed as argument to my_decorator"
   ]
  },
  {
   "cell_type": "code",
   "execution_count": null,
   "metadata": {},
   "outputs": [],
   "source": []
  },
  {
   "cell_type": "code",
   "execution_count": 62,
   "metadata": {},
   "outputs": [
    {
     "name": "stdout",
     "output_type": "stream",
     "text": [
      "['/home/jly36963/miniconda3/envs/mydataenv/lib/python3.7/site-packages/ipykernel_launcher.py', '-f', '/home/jly36963/.local/share/jupyter/runtime/kernel-ca86792f-7eda-4484-9d33-309eac80f433.json']\n",
      "/home/jly36963/miniconda3/envs/mydataenv/lib/python3.7/site-packages/ipykernel_launcher.py\n",
      "-f\n"
     ]
    }
   ],
   "source": [
    "# -------------\n",
    "# COMMAND LINE ARGUMENTS\n",
    "# -------------\n",
    "\n",
    "# command\n",
    "    # python file_name.py 'hello there!' 'nice to meet you!' 'have a wonderful day!'\n",
    "\n",
    "import sys\n",
    "\n",
    "print(sys.argv) # file name & arguments\n",
    "print(sys.argv[0]) # print file name\n",
    "print(sys.argv[1]) # arg 1\n",
    "\n",
    "# see 'argparse' for named arguments"
   ]
  },
  {
   "cell_type": "code",
   "execution_count": null,
   "metadata": {},
   "outputs": [],
   "source": []
  },
  {
   "cell_type": "code",
   "execution_count": null,
   "metadata": {},
   "outputs": [],
   "source": []
  },
  {
   "cell_type": "code",
   "execution_count": null,
   "metadata": {},
   "outputs": [],
   "source": []
  },
  {
   "cell_type": "code",
   "execution_count": null,
   "metadata": {},
   "outputs": [],
   "source": []
  },
  {
   "cell_type": "code",
   "execution_count": null,
   "metadata": {},
   "outputs": [],
   "source": []
  },
  {
   "cell_type": "code",
   "execution_count": null,
   "metadata": {},
   "outputs": [],
   "source": []
  }
 ],
 "metadata": {
  "kernelspec": {
   "display_name": "Python 3",
   "language": "python",
   "name": "python3"
  },
  "language_info": {
   "codemirror_mode": {
    "name": "ipython",
    "version": 3
   },
   "file_extension": ".py",
   "mimetype": "text/x-python",
   "name": "python",
   "nbconvert_exporter": "python",
   "pygments_lexer": "ipython3",
   "version": "3.8.5"
  }
 },
 "nbformat": 4,
 "nbformat_minor": 2
}
