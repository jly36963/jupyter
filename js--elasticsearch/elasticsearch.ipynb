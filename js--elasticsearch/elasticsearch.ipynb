{
 "cells": [
  {
   "cell_type": "code",
   "execution_count": 1,
   "metadata": {},
   "outputs": [
    {
     "data": {
      "text/plain": [
       "'\\nnpm i --save @elastic/elasticsearch\\n'"
      ]
     },
     "execution_count": 1,
     "metadata": {},
     "output_type": "execute_result"
    }
   ],
   "source": [
    "// ----------\n",
    "// elasticsearch + nodejs \n",
    "// ----------\n",
    "\n",
    "// install\n",
    "`\n",
    "npm i --save @elastic/elasticsearch\n",
    "`\n",
    "\n",
    "// docs\n",
    "  // https://www.npmjs.com/package/@elastic/elasticsearch"
   ]
  },
  {
   "cell_type": "code",
   "execution_count": 2,
   "metadata": {},
   "outputs": [],
   "source": [
    "// ----------\n",
    "// create client\n",
    "// ----------\n",
    "\n",
    "// import\n",
    "const { Client } = require('@elastic/elasticsearch');\n",
    "\n",
    "// instantiate\n",
    "const client = new Client({\n",
    "  nodes: [\n",
    "    'http://localhost:9200',\n",
    "    'http://localhost:9201',\n",
    "    'http://localhost:9202'\n",
    "  ]\n",
    "});\n",
    "\n",
    "// const client = new Client({ node: 'http://localhost:9200'});"
   ]
  },
  {
   "cell_type": "code",
   "execution_count": 3,
   "metadata": {},
   "outputs": [],
   "source": [
    "// ------------\n",
    "// create index\n",
    "// ------------\n",
    "\n",
    "const createIndex = async (client, config) => {\n",
    "  try {\n",
    "    const result = await client.indices.create(config)\n",
    "    return { data: result, error: null }\n",
    "  } catch (err) {\n",
    "    return { data: null, error: err.message }\n",
    "  }\n",
    "}"
   ]
  },
  {
   "cell_type": "code",
   "execution_count": 25,
   "metadata": {},
   "outputs": [
    {
     "name": "stdout",
     "output_type": "stream",
     "text": [
      "{\n",
      "  data: {\n",
      "    body: { acknowledged: true, shards_acknowledged: true, index: 'jonin' },\n",
      "    statusCode: 200,\n",
      "    headers: {\n",
      "      'content-type': 'application/json; charset=UTF-8',\n",
      "      'content-length': '64'\n",
      "    },\n",
      "    warnings: null,\n",
      "    meta: {\n",
      "      context: null,\n",
      "      request: [Object],\n",
      "      name: 'elasticsearch-js',\n",
      "      connection: [Object],\n",
      "      attempts: 0,\n",
      "      aborted: false\n",
      "    }\n",
      "  },\n",
      "  error: null\n",
      "}\n"
     ]
    }
   ],
   "source": [
    "// example\n",
    "\n",
    "(async (client) => {\n",
    "  const esResponse = await createIndex(client, {\n",
    "    index: 'jonin',\n",
    "    body: {\n",
    "      mappings: {\n",
    "        properties: {\n",
    "          first_name: { type: 'text' },\n",
    "          last_name: { type: 'text' },\n",
    "          is_awesome: { type: 'keyword' },\n",
    "        }\n",
    "      }\n",
    "    }\n",
    "  })\n",
    "  console.log(esResponse);\n",
    "})(client)"
   ]
  },
  {
   "cell_type": "code",
   "execution_count": 5,
   "metadata": {},
   "outputs": [],
   "source": [
    "// ------------\n",
    "// delete index\n",
    "// ------------\n",
    "\n",
    "const deleteIndex = async (client, config) => {\n",
    "  try {\n",
    "    const result = await client.indices.delete(config)\n",
    "    return { data: result, error: null }\n",
    "  } catch (err) {\n",
    "    return { data: null, error: err.message }\n",
    "  }\n",
    "}"
   ]
  },
  {
   "cell_type": "code",
   "execution_count": 23,
   "metadata": {},
   "outputs": [
    {
     "name": "stdout",
     "output_type": "stream",
     "text": [
      "{\n",
      "  data: {\n",
      "    body: { acknowledged: true },\n",
      "    statusCode: 200,\n",
      "    headers: {\n",
      "      'content-type': 'application/json; charset=UTF-8',\n",
      "      'content-length': '21'\n",
      "    },\n",
      "    warnings: null,\n",
      "    meta: {\n",
      "      context: null,\n",
      "      request: [Object],\n",
      "      name: 'elasticsearch-js',\n",
      "      connection: [Object],\n",
      "      attempts: 0,\n",
      "      aborted: false\n",
      "    }\n",
      "  },\n",
      "  error: null\n",
      "}\n"
     ]
    }
   ],
   "source": [
    "// exaample\n",
    "\n",
    "// (async (client) => {\n",
    "//   const esResponse = await deleteIndex(client, {\n",
    "//     index: 'jonin'\n",
    "//   })\n",
    "//   console.log(esResponse);\n",
    "// })(client)"
   ]
  },
  {
   "cell_type": "code",
   "execution_count": 7,
   "metadata": {},
   "outputs": [],
   "source": [
    "// ------------\n",
    "// refresh index\n",
    "// ------------\n",
    "\n",
    "const refreshIndex = async (client, config) => {\n",
    "  try {\n",
    "    const response = await client.indices.refresh(config)\n",
    "    return { data: response, error: null }\n",
    "  } catch (err) {\n",
    "    return { data: null, error: err.message }\n",
    "  }\n",
    "};"
   ]
  },
  {
   "cell_type": "code",
   "execution_count": 8,
   "metadata": {},
   "outputs": [],
   "source": [
    "// example\n",
    "\n",
    "// (async (client) => {\n",
    "//   const esResponse = await refreshIndex(client, { index: 'jonin' });\n",
    "//   console.log(esResponse);\n",
    "// })(client)"
   ]
  },
  {
   "cell_type": "code",
   "execution_count": 9,
   "metadata": {},
   "outputs": [],
   "source": [
    "// ------------\n",
    "// add documents to index\n",
    "// ------------\n",
    "\n",
    "const indexDocument = async (client, config) => {\n",
    "  try {\n",
    "    const result = await client.index(config);\n",
    "    return { data: result, error: null }\n",
    "  } catch (err) {\n",
    "    return { data: null, error: err.message }\n",
    "  }\n",
    "}\n"
   ]
  },
  {
   "cell_type": "code",
   "execution_count": 26,
   "metadata": {},
   "outputs": [],
   "source": [
    "// example\n",
    "\n",
    "(async (client) => {\n",
    "  await indexDocument(client, {\n",
    "    index: 'jonin',\n",
    "    body: {\n",
    "      first_name: \"Kakashi\",\n",
    "      last_name: \"Hatake\",\n",
    "      is_awesome: 'yes'        \n",
    "    }\n",
    "  });\n",
    "  await indexDocument(client, {\n",
    "    index: 'jonin',\n",
    "    body: {\n",
    "      first_name: \"Tenzo\",\n",
    "      last_name: \"Yamato\",\n",
    "      is_awesome: 'yes'        \n",
    "    }\n",
    "  });\n",
    "})(client)"
   ]
  },
  {
   "cell_type": "code",
   "execution_count": 11,
   "metadata": {
    "scrolled": true
   },
   "outputs": [],
   "source": [
    "// ------------\n",
    "// search\n",
    "// ------------\n",
    "\n",
    "const searchDocuments = async (client, config) => {\n",
    "  try {\n",
    "    const result = await client.search(config);\n",
    "    return { data: result, error: null }\n",
    "  } catch (err) {\n",
    "    return { data: null, error: err.message }\n",
    "  }\n",
    "}"
   ]
  },
  {
   "cell_type": "code",
   "execution_count": 27,
   "metadata": {},
   "outputs": [
    {
     "name": "stdout",
     "output_type": "stream",
     "text": [
      "{\n",
      "  took: 1,\n",
      "  timed_out: false,\n",
      "  _shards: { total: 1, successful: 1, skipped: 0, failed: 0 },\n",
      "  hits: { total: { value: 0, relation: 'eq' }, max_score: null, hits: [] }\n",
      "}\n"
     ]
    }
   ],
   "source": [
    "// example\n",
    "\n",
    "/*\n",
    "// output structure\n",
    "{\n",
    "  body: object | boolean\n",
    "  statusCode: number\n",
    "  headers: object\n",
    "  warnings: [string]\n",
    "  meta: object\n",
    "}\n",
    "*/\n",
    "\n",
    "(async (client) => {\n",
    "  const esResponse = await searchDocuments(client, {\n",
    "    index: 'jonin',\n",
    "    body: {\n",
    "      query: {\n",
    "        match: { firstName: \"Kakashi\" }\n",
    "      }\n",
    "    }\n",
    "  });\n",
    "  const { body } = esResponse.data;\n",
    "  console.log(body);\n",
    "})(client)"
   ]
  },
  {
   "cell_type": "code",
   "execution_count": 13,
   "metadata": {},
   "outputs": [],
   "source": [
    "// ----------\n",
    "// count\n",
    "// ----------\n",
    "\n",
    "const countDocuments = async (client, config) => {\n",
    "  try {\n",
    "    const count = await client.count(config);\n",
    "    return { data: count, error: null };\n",
    "  } catch (err) {\n",
    "    return { data: null, error: err.message }\n",
    "  }\n",
    "}\n"
   ]
  },
  {
   "cell_type": "code",
   "execution_count": 28,
   "metadata": {},
   "outputs": [
    {
     "name": "stdout",
     "output_type": "stream",
     "text": [
      "{\n",
      "  body: {\n",
      "    count: 2,\n",
      "    _shards: { total: 1, successful: 1, skipped: 0, failed: 0 }\n",
      "  },\n",
      "  statusCode: 200,\n",
      "  headers: {\n",
      "    'content-type': 'application/json; charset=UTF-8',\n",
      "    'content-length': '71'\n",
      "  },\n",
      "  warnings: null,\n",
      "  meta: {\n",
      "    context: null,\n",
      "    request: { params: [Object], options: [Object], id: 26 },\n",
      "    name: 'elasticsearch-js',\n",
      "    connection: {\n",
      "      url: 'http://localhost:9200/',\n",
      "      id: 'http://localhost:9200/',\n",
      "      headers: {},\n",
      "      deadCount: 0,\n",
      "      resurrectTimeout: 0,\n",
      "      _openRequests: 0,\n",
      "      status: 'alive',\n",
      "      roles: [Object]\n",
      "    },\n",
      "    attempts: 0,\n",
      "    aborted: false\n",
      "  }\n",
      "}\n"
     ]
    }
   ],
   "source": [
    "// example\n",
    "\n",
    "(async (client) => {\n",
    "  const esResponse = await countDocuments(client, {\n",
    "    index: 'jonin'\n",
    "  })\n",
    "  console.log(esResponse.data);\n",
    "})(client)"
   ]
  },
  {
   "cell_type": "code",
   "execution_count": 15,
   "metadata": {
    "scrolled": false
   },
   "outputs": [],
   "source": [
    "// ----------\n",
    "// update\n",
    "// ----------\n",
    "\n",
    "const updateDocument = async (client, config) => {\n",
    "  try {\n",
    "    await client.update(config);\n",
    "    return { data: 'success', error: null };\n",
    "  } catch (err) {\n",
    "    return { data: null, error: err.message }\n",
    "  }\n",
    "}\n"
   ]
  },
  {
   "cell_type": "code",
   "execution_count": 30,
   "metadata": {},
   "outputs": [
    {
     "name": "stdout",
     "output_type": "stream",
     "text": [
      "[\n",
      "  {\n",
      "    \"_index\": \"jonin\",\n",
      "    \"_type\": \"_doc\",\n",
      "    \"_id\": \"W0khzXEBtbl7ShCIVlK0\",\n",
      "    \"_score\": 1,\n",
      "    \"_source\": {\n",
      "      \"first_name\": \"Kakashi\",\n",
      "      \"last_name\": \"HATAKE\",\n",
      "      \"is_awesome\": \"yes\"\n",
      "    }\n",
      "  },\n",
      "  {\n",
      "    \"_index\": \"jonin\",\n",
      "    \"_type\": \"_doc\",\n",
      "    \"_id\": \"XEkhzXEBtbl7ShCIVlLO\",\n",
      "    \"_score\": 1,\n",
      "    \"_source\": {\n",
      "      \"first_name\": \"Tenzo\",\n",
      "      \"last_name\": \"YAMATO\",\n",
      "      \"is_awesome\": \"yes\"\n",
      "    }\n",
      "  }\n",
      "]\n"
     ]
    }
   ],
   "source": [
    "// example\n",
    "\n",
    "(async (client) => {\n",
    "  // update\n",
    "  await updateDocument(client, {\n",
    "    index: 'jonin',\n",
    "    id: 'W0khzXEBtbl7ShCIVlK0',\n",
    "    body: {\n",
    "      doc: {\n",
    "        last_name: \"HATAKE\"\n",
    "      }\n",
    "    }\n",
    "  })\n",
    "  await updateDocument(client, {\n",
    "    index: 'jonin',\n",
    "    id: 'XEkhzXEBtbl7ShCIVlLO',\n",
    "    body: {\n",
    "      doc: {\n",
    "        last_name: \"YAMATO\"\n",
    "      }\n",
    "    }\n",
    "  });\n",
    "  // refresh\n",
    "  await refreshIndex(client, { index: 'jonin' });\n",
    "  // search\n",
    "  const esResponse = await searchDocuments(client, {\n",
    "    index: 'jonin',\n",
    "    body: {\n",
    "      query: {\n",
    "        match_all: {}\n",
    "      }\n",
    "    }\n",
    "  });\n",
    "  const { body } = esResponse.data;\n",
    "  // console.log(body);\n",
    "  console.log(JSON.stringify(body.hits.hits, null, 2))\n",
    "\n",
    "})(client)"
   ]
  },
  {
   "cell_type": "code",
   "execution_count": 17,
   "metadata": {
    "scrolled": true
   },
   "outputs": [],
   "source": [
    "// ----------\n",
    "// update by query\n",
    "// ----------\n",
    "\n",
    "const updateDocumentsByQuery = async (client, config) => {\n",
    "  try {\n",
    "    const result = await client.updateByQuery(config);\n",
    "    return { data: result, error: null };\n",
    "  } catch (err) {\n",
    "    return { data: null, error: err.message }\n",
    "  }\n",
    "}"
   ]
  },
  {
   "cell_type": "code",
   "execution_count": 31,
   "metadata": {},
   "outputs": [
    {
     "name": "stdout",
     "output_type": "stream",
     "text": [
      "[\n",
      "  {\n",
      "    \"_index\": \"jonin\",\n",
      "    \"_type\": \"_doc\",\n",
      "    \"_id\": \"W0khzXEBtbl7ShCIVlK0\",\n",
      "    \"_score\": 1,\n",
      "    \"_source\": {\n",
      "      \"is_awesome\": \"definitely\",\n",
      "      \"last_name\": \"HATAKE\",\n",
      "      \"first_name\": \"Kakashi\"\n",
      "    }\n",
      "  },\n",
      "  {\n",
      "    \"_index\": \"jonin\",\n",
      "    \"_type\": \"_doc\",\n",
      "    \"_id\": \"XEkhzXEBtbl7ShCIVlLO\",\n",
      "    \"_score\": 1,\n",
      "    \"_source\": {\n",
      "      \"is_awesome\": \"definitely\",\n",
      "      \"last_name\": \"YAMATO\",\n",
      "      \"first_name\": \"Tenzo\"\n",
      "    }\n",
      "  }\n",
      "]\n"
     ]
    }
   ],
   "source": [
    "\n",
    "(async (client) => {\n",
    "  // update\n",
    "  await updateDocumentsByQuery(client, {\n",
    "    index: 'jonin',\n",
    "    body: {\n",
    "      query: {\n",
    "        match_all: {}\n",
    "      },\n",
    "      script: {\n",
    "        source: \"ctx._source.is_awesome = params.new_value\",\n",
    "        params: {\n",
    "          new_value: 'definitely'\n",
    "        }\n",
    "      }\n",
    "    }\n",
    "  })\n",
    "  // refresh\n",
    "  await refreshIndex(client, { index: 'jonin' });\n",
    "  // search\n",
    "  const esResponse = await searchDocuments(client, {\n",
    "    index: 'jonin',\n",
    "    body: {\n",
    "      query: {\n",
    "        match_all: {}\n",
    "      }\n",
    "    }\n",
    "  });\n",
    "  const { body } = esResponse.data;\n",
    "  // console.log(body);\n",
    "  console.log(JSON.stringify(body.hits.hits, null, 2))\n",
    "})(client)"
   ]
  },
  {
   "cell_type": "code",
   "execution_count": 19,
   "metadata": {},
   "outputs": [],
   "source": [
    "// ----------\n",
    "// delete\n",
    "// ----------\n",
    "\n",
    "const deleteDocumentsByQuery = async (client, config) => {\n",
    "  try {\n",
    "    await client.deleteByQuery(config);\n",
    "    return { data: 'success', error: null };\n",
    "  } catch (err) {\n",
    "    return { data: null, error: err.message }\n",
    "  }\n",
    "}"
   ]
  },
  {
   "cell_type": "code",
   "execution_count": 20,
   "metadata": {},
   "outputs": [],
   "source": [
    "// example\n",
    "\n",
    "// (async (client) => {\n",
    "//   await deleteDocumentsByQuery(client, {\n",
    "//     index: 'jonin',\n",
    "//     body: {\n",
    "//       query: {\n",
    "//         match_all: {} // delete all\n",
    "//       }\n",
    "//     }\n",
    "//   })\n",
    "// })(client)"
   ]
  },
  {
   "cell_type": "code",
   "execution_count": null,
   "metadata": {},
   "outputs": [],
   "source": []
  },
  {
   "cell_type": "code",
   "execution_count": null,
   "metadata": {},
   "outputs": [],
   "source": []
  },
  {
   "cell_type": "code",
   "execution_count": null,
   "metadata": {},
   "outputs": [],
   "source": []
  },
  {
   "cell_type": "code",
   "execution_count": null,
   "metadata": {},
   "outputs": [],
   "source": []
  },
  {
   "cell_type": "code",
   "execution_count": null,
   "metadata": {},
   "outputs": [],
   "source": []
  },
  {
   "cell_type": "code",
   "execution_count": null,
   "metadata": {},
   "outputs": [],
   "source": []
  },
  {
   "cell_type": "code",
   "execution_count": null,
   "metadata": {},
   "outputs": [],
   "source": []
  }
 ],
 "metadata": {
  "kernelspec": {
   "display_name": "Javascript (Node.js)",
   "language": "javascript",
   "name": "javascript"
  },
  "language_info": {
   "file_extension": ".js",
   "mimetype": "application/javascript",
   "name": "javascript",
   "version": "13.13.0"
  }
 },
 "nbformat": 4,
 "nbformat_minor": 2
}
