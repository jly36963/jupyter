{
 "cells": [
  {
   "cell_type": "code",
   "execution_count": 2,
   "metadata": {},
   "outputs": [
    {
     "name": "stdout",
     "output_type": "stream",
     "text": [
      "// warning: could not find package \"github.com/gopherdata/gophernotes/imports\" in $GOPATH = \"/home/jly36963/go\"\n",
      "//          command 'import _b \"path/to/some/package\"' may not work correctly.\n",
      "\n"
     ]
    }
   ],
   "source": [
    "// golang\n",
    "    // https://docs.google.com/document/d/1ckYpi6hcRkaBUEk975f54oGsHYHu7GhzOk7-nOrkNxo/edit#\n",
    "\n",
    "// https://go-proverbs.github.io/\n",
    "//// Don't communicate by sharing memory, share memory by communicating\n",
    "//// Channels orchestrate; mutexes serialize.\n",
    "//// Don't just check errors, handle them gracefully.\n",
    "\n",
    "// imports\n",
    "import (\n",
    "    \"encoding/json\" // json\n",
    "    \"fmt\"\n",
    "    \"golang.org/x/crypto/bcrypt\" // bcrypt -- go get golang.org/x/crypto/bcrypt\n",
    "    \"math\"\n",
    "    \"math/rand\"\n",
    "    \"os\"\n",
    "    \"os/exec\" // exec\n",
    "    \"runtime\"\n",
    "    \"sort\"\n",
    "    \"strings\"    \n",
    "    \"sync\"\n",
    "    \"sync/atomic\"\n",
    "    \"time\"\n",
    "    \"context\"\n",
    ")\n"
   ]
  },
  {
   "cell_type": "code",
   "execution_count": 2,
   "metadata": {},
   "outputs": [
    {
     "name": "stdout",
     "output_type": "stream",
     "text": [
      "os: linux\n",
      "arch: amd64\n",
      "CPUs: 4\n",
      "GR: 5\n",
      "v: go1.13\n"
     ]
    }
   ],
   "source": [
    "// runtime\n",
    "\n",
    "details := []string{\n",
    "    fmt.Sprintf(\"os: %v\",runtime.GOOS),\n",
    "    fmt.Sprintf(\"arch: %v\",runtime.GOARCH),\n",
    "    fmt.Sprintf(\"CPUs: %v\",runtime.NumCPU()),\n",
    "    fmt.Sprintf(\"GR: %v\",runtime.NumGoroutine()),\n",
    "    fmt.Sprintf(\"v: %v\",runtime.Version()),\n",
    "}\n",
    "\n",
    "for i, d := range details {\n",
    "    fmt.Println(d)\n",
    "}\n"
   ]
  },
  {
   "cell_type": "code",
   "execution_count": 3,
   "metadata": {},
   "outputs": [
    {
     "data": {
      "text/plain": [
       "\n",
       "import \"runtime/internal/sys\" // sys\n",
       "fmt.Println(\n",
       "    sys.GOARCH,\n",
       ")\n"
      ]
     },
     "execution_count": 3,
     "metadata": {},
     "output_type": "execute_result"
    }
   ],
   "source": [
    "// sys\n",
    "//// not working\n",
    "\n",
    "`\n",
    "import \"runtime/internal/sys\" // sys\n",
    "fmt.Println(\n",
    "    sys.GOARCH,\n",
    ")\n",
    "`"
   ]
  },
  {
   "cell_type": "code",
   "execution_count": 4,
   "metadata": {
    "scrolled": true
   },
   "outputs": [
    {
     "name": "stdout",
     "output_type": "stream",
     "text": [
      "golang-basics.ipynb\n",
      "\n",
      "Mon Dec 30 20:43:20 MST 2019\n",
      "\n",
      "/c/Users/Flight Operations/Desktop/2 -- jupyter/golang\n",
      "\n"
     ]
    }
   ],
   "source": [
    "// bash commands\n",
    "//// https://golang.org/pkg/os/exec/#Cmd.Output\n",
    "\n",
    "// commands\n",
    "commands := []string{\"ls\", \"date\", \"pwd\",}\n",
    "for i, c := range commands {\n",
    "    out, err := exec.Command(c).Output()\n",
    "    if err != nil {\n",
    "        fmt.Println(err)\n",
    "    }\n",
    "    fmt.Println(string(out))\n",
    "} \n",
    "\n"
   ]
  },
  {
   "cell_type": "code",
   "execution_count": 5,
   "metadata": {},
   "outputs": [
    {
     "name": "stdout",
     "output_type": "stream",
     "text": [
      "3\n",
      ".\n",
      "..\n",
      ".ipynb_checkpoints\n",
      "golang-basics.ipynb\n",
      "\n",
      "hello there!!\n",
      "\n",
      "go version go1.13 linux/amd64\n",
      "\n"
     ]
    }
   ],
   "source": [
    "// bash commands (with args)\n",
    "//// https://golang.org/pkg/os/exec/#Command\n",
    "\n",
    "commands2 := [][]string{\n",
    "    []string{\"ls\", \"-a\"},\n",
    "    []string{\"echo\", \"hello there!!\"},\n",
    "    []string{\"go\", \"version\"},\n",
    "}\n",
    "\n",
    "fmt.Println(len(commands2))\n",
    "\n",
    "for i, c := range commands2 {\n",
    "    out, err := exec.Command(c[0], c[1:]...).Output()\n",
    "    if err != nil {\n",
    "        fmt.Println(err)\n",
    "    }\n",
    "    fmt.Println(string(out))\n",
    "} "
   ]
  },
  {
   "cell_type": "code",
   "execution_count": 6,
   "metadata": {},
   "outputs": [],
   "source": [
    "// workspace \n",
    "//// https://github.com/golang-standards/project-layout\n",
    "\n",
    "// root folder\n",
    "//// assets -- images, logos, etc\n",
    "//// bin -- compiled binaries\n",
    "//// build -- CI, AMI, Docker, etc\n",
    "//// cmd -- main applications for project\n",
    "//// configs -- configuration files\n",
    "//// deployments -- orchestration, docker-compose, kubernetes, terraform, ansible\n",
    "//// docs -- documentation\n",
    "//// examples -- example usage of applications/libraries\n",
    "//// init -- system init configs\n",
    "//// internal -- private application/library code\n",
    "//// pkg -- code that can be used by others\n",
    "//// vendor -- application dependencies\n",
    "//// scripts -- scripts\n",
    "    \n",
    "// don't use\n",
    "//// src -- deprectated\n"
   ]
  },
  {
   "cell_type": "code",
   "execution_count": 7,
   "metadata": {},
   "outputs": [],
   "source": [
    "// bash commands\n",
    "//// go build -- complie packages/dependencies\n",
    "////// go build; ./filename.go -- compile/run code\n",
    "//// go env -- show environment variables (workspace, etc)\n",
    "//// go fmt ./... -- recursively format files according to convention\n",
    "//// go get -d <url> -- download/install (different than \"go install\")\n",
    "///// go get ./... -- download deps (recursive)\n",
    "//// go help <command> -- get help about a command\n",
    "//// go install <url> -- compile/install \n",
    "//// go list -- list packages\n",
    "//// go run <fn> -- compile/run code\n",
    "//// go version -- version details\n",
    "\n",
    "// GOPATH -- points to your go workspace\n",
    "// GOROOT -- points to your binary installation of Go"
   ]
  },
  {
   "cell_type": "code",
   "execution_count": 8,
   "metadata": {},
   "outputs": [],
   "source": [
    "// modules\n",
    "//// go mod init <namespace> -- initialize new module\n",
    "//// go build -- compile\n",
    "//// go get -- changes the required version of a dep (or adds new dep)\n",
    "////// go get <package>@<version> -- specify version\n",
    "//// go list -m all -- print the current module's dependencies\n",
    "//// go mod tidy -- remove unused dependencies\n"
   ]
  },
  {
   "cell_type": "code",
   "execution_count": 9,
   "metadata": {},
   "outputs": [],
   "source": [
    "// hello world\n",
    "\n",
    "// entry point\n",
    "package main \n",
    "\n",
    "// imports\n",
    "// import \"fmt\"\n",
    "\n",
    "// main function\n",
    "func main() {\n",
    "    greet(\"Kakashi\")\n",
    "}\n",
    "\n",
    "func greet(name string) {\n",
    "    greeting := fmt.Sprintf(\"Hello %s\", name)\n",
    "    fmt.Println(greeting)\n",
    "}"
   ]
  },
  {
   "cell_type": "code",
   "execution_count": null,
   "metadata": {},
   "outputs": [],
   "source": []
  },
  {
   "cell_type": "code",
   "execution_count": 10,
   "metadata": {},
   "outputs": [],
   "source": [
    "// variadic parameters\n",
    "//// ...<type> -- variadic parameter\n",
    "//// ...interface{} -- variadic arguments of any type"
   ]
  },
  {
   "cell_type": "code",
   "execution_count": 11,
   "metadata": {},
   "outputs": [],
   "source": [
    "// predeclared identifiers\n",
    "//// bool, byte, complex64, complex128, error, float32, float64, int, int8, int16, int32, int64\n",
    "//// rune, string, uint, uint8, uint32, uint64, \n",
    "\n",
    "// common types\n",
    "//// bool, error, float64, int, string\n",
    "\n",
    "// alias\n",
    "//// byte -- uint8\n",
    "//// rune -- int32\n",
    "\n",
    "// constants\n",
    "//// true false iota\n",
    "\n",
    "// zero value\n",
    "//// nil\n",
    "\n",
    "// functions\n",
    "//// append, cap, close, complex, copy, delete, imag, len, \n",
    "//// make, new, panic, print, println, real, recover\n",
    "\n",
    "// keywords\n",
    "//// break, case, chan, const, continue, default, defer, else, fallthrough, for\n",
    "//// func, go, goto, if, import, interface, map, package, range, return, select,\n",
    "//// struct, switch, type, var"
   ]
  },
  {
   "cell_type": "code",
   "execution_count": 12,
   "metadata": {},
   "outputs": [],
   "source": [
    "// operators\n",
    "\n",
    "/*\n",
    "\n",
    "math\n",
    "+ - * / % \n",
    "\n",
    "assignment\n",
    "= :=\n",
    "-= += *= /+ %=\n",
    "&= ^= |=\n",
    "\n",
    "increment\n",
    "++ -- \n",
    "\n",
    "bitwise\n",
    ">> << & | ^ &^\n",
    "\n",
    "logical\n",
    "&& || !\n",
    "\n",
    "comparison\n",
    "== != <= >=\n",
    "\n",
    "*/"
   ]
  },
  {
   "cell_type": "code",
   "execution_count": 13,
   "metadata": {},
   "outputs": [],
   "source": [
    "// short variable declarations (declare and assign variable)\n",
    "//// works inside function body, not outside\n",
    "a := 6\n",
    "\n",
    "// var (declare and assign value)\n",
    "//// works inside/outside function body\n",
    "var a int = 6\n",
    "var a = 6\n",
    "\n",
    "// declare\n",
    "//// assigned \"zero value\" of associated type\n",
    "//// booleans (false), int (0), floats (0.0), strings (\"\"), \n",
    "//// pointers/functions/interfaces/slices/channels/maps (nil)\n",
    "var z int // assigned \"0\" value\n",
    "\n",
    "// assign value (variable already declared)\n",
    "a = 5\n"
   ]
  },
  {
   "cell_type": "code",
   "execution_count": 14,
   "metadata": {},
   "outputs": [
    {
     "data": {
      "text/plain": [
       "Hello"
      ]
     },
     "execution_count": 14,
     "metadata": {},
     "output_type": "execute_result"
    }
   ],
   "source": [
    "// const\n",
    "//// only character, string, boolean, numeric values\n",
    "//// no short variable declaration\n",
    "//// cannot re-assign\n",
    "\n",
    "// single\n",
    "const greeting = \"Hello\"\n",
    "// multiple\n",
    "const (\n",
    "    g1 = \"Hello\"\n",
    "    g2 = \"Hi!\"\n",
    "    g3 = \"Fuck off!\"\n",
    ")\n",
    "greeting"
   ]
  },
  {
   "cell_type": "code",
   "execution_count": 15,
   "metadata": {},
   "outputs": [
    {
     "name": "stdout",
     "output_type": "stream",
     "text": [
      "0 1 2 0 1 2\n"
     ]
    },
    {
     "data": {
      "text/plain": [
       "12 <nil>"
      ]
     },
     "execution_count": 15,
     "metadata": {},
     "output_type": "execute_result"
    }
   ],
   "source": [
    "// iota\n",
    "//// increment\n",
    "//// iota resets on 'const'\n",
    "\n",
    "const (\n",
    "    a = iota\n",
    "    b\n",
    "    c\n",
    ")\n",
    "const (\n",
    "    d = iota\n",
    "    e\n",
    "    f\n",
    ")\n",
    "fmt.Println(a,b,c,d,e,f)"
   ]
  },
  {
   "cell_type": "code",
   "execution_count": 16,
   "metadata": {},
   "outputs": [
    {
     "name": "stdout",
     "output_type": "stream",
     "text": [
      "Hello\n",
      "6\n"
     ]
    },
    {
     "data": {
      "text/plain": [
       "2 <nil>"
      ]
     },
     "execution_count": 16,
     "metadata": {},
     "output_type": "execute_result"
    }
   ],
   "source": [
    "// throwaway (blank identifier)\n",
    "//// compiler will throw error if unused variables (... declared but not used)\n",
    "//// use throwaway if multiple return values (and some are unused)\n",
    "n, _ := fmt.Println(\"Hello\")\n",
    "fmt.Println(n)"
   ]
  },
  {
   "cell_type": "code",
   "execution_count": 17,
   "metadata": {},
   "outputs": [
    {
     "name": "stdout",
     "output_type": "stream",
     "text": [
      "Hello!\n",
      "Hello!\n"
     ]
    },
    {
     "data": {
      "text/plain": [
       "7 <nil>"
      ]
     },
     "execution_count": 17,
     "metadata": {},
     "output_type": "execute_result"
    }
   ],
   "source": [
    "// strings (\" vs `)\n",
    "\n",
    "// raw string\n",
    "//// can be multline\n",
    "fmt.Println(`Hello!`)\n",
    "// interpreted string\n",
    "fmt.Println(\"Hello!\")"
   ]
  },
  {
   "cell_type": "code",
   "execution_count": 18,
   "metadata": {},
   "outputs": [
    {
     "name": "stdout",
     "output_type": "stream",
     "text": [
      "Hello Kakashi!\n"
     ]
    }
   ],
   "source": [
    "// string formatting\n",
    "func greet(name string) {\n",
    "    greeting := fmt.Sprintf(\"Hello %v!\", name);\n",
    "    fmt.Println(greeting);\n",
    "}\n",
    "greet(\"Kakashi\");\n",
    "\n",
    "// %s -- string\n",
    "// %q -- safely escaped, double-quoted string\n",
    "// %T -- type\n",
    "// %v -- value\n",
    "// %d -- integer (base 10)\n",
    "// %f -- float\n",
    "//// fmt.Sprintf(\"number: %.2f\", 2.20254)\n",
    "// %e -- scientific notation\n",
    "//// fmt.Sprintf(\"number: %.2e\", .00001245)\n",
    "\n"
   ]
  },
  {
   "cell_type": "code",
   "execution_count": 19,
   "metadata": {},
   "outputs": [
    {
     "name": "stdout",
     "output_type": "stream",
     "text": [
      "5\n"
     ]
    },
    {
     "data": {
      "text/plain": [
       "2 <nil>"
      ]
     },
     "execution_count": 19,
     "metadata": {},
     "output_type": "execute_result"
    }
   ],
   "source": [
    "// type conversion\n",
    "x_int := 5\n",
    "x_float := float64(x_int)\n",
    "x_uint := uint(x_int)\n",
    "fmt.Println(x_uint)"
   ]
  },
  {
   "cell_type": "code",
   "execution_count": 5,
   "metadata": {},
   "outputs": [
    {
     "name": "stdout",
     "output_type": "stream",
     "text": [
      "You don't have to forgive me. No matter what you do from here on out: Omae o zutto aishiteru.\n"
     ]
    }
   ],
   "source": [
    "// if, else if, else\n",
    "name := \"Sasuke\"\n",
    "if (name == \"Kakashi\") { \n",
    "    fmt.Println(fmt.Sprintf(\"Hey %s!\", name)) \n",
    "} else if (name == \"Itachi\") {\n",
    "    fmt.Println(fmt.Sprintf(\"Hey %s! Can you teach me the clone jutsu?\", name))\n",
    "} else if (name == \"Sasuke\") {\n",
    "    fmt.Println(\"You don't have to forgive me. No matter what you do from here on out: Omae o zutto aishiteru.\")\n",
    "} else {\n",
    "    fmt.Println(\"Hello there!\")\n",
    "}"
   ]
  },
  {
   "cell_type": "code",
   "execution_count": 21,
   "metadata": {},
   "outputs": [
    {
     "name": "stdout",
     "output_type": "stream",
     "text": [
      "0\n",
      "1\n",
      "4\n",
      "9\n",
      "16\n",
      "36\n",
      "49\n",
      "64\n",
      "81\n"
     ]
    }
   ],
   "source": [
    "// for loop\n",
    "//// continue, break, (don't use) goto\n",
    "for i := 0; i <= 100; i++ {\n",
    "    if (i == 5) { continue }\n",
    "    if (i == 10) { break }\n",
    "    x := math.Pow(float64(i),2)\n",
    "    fmt.Println(x)\n",
    "}"
   ]
  },
  {
   "cell_type": "code",
   "execution_count": 22,
   "metadata": {},
   "outputs": [
    {
     "name": "stdout",
     "output_type": "stream",
     "text": [
      "Friday\n"
     ]
    }
   ],
   "source": [
    "// switch\n",
    "switch day := 5; day{ \n",
    "   case 1: \n",
    "   fmt.Println(\"Monday\") \n",
    "   case 2: \n",
    "   fmt.Println(\"Tuesday\") \n",
    "   case 3: \n",
    "   fmt.Println(\"Wednesday\") \n",
    "   case 4: \n",
    "   fmt.Println(\"Thursday\") \n",
    "   case 5: \n",
    "   fmt.Println(\"Friday\") \n",
    "   case 6: \n",
    "   fmt.Println(\"Saturday\") \n",
    "   case 7: \n",
    "   fmt.Println(\"Sunday\") \n",
    "   default:  \n",
    "   fmt.Println(\"Invalid\") \n",
    "} "
   ]
  },
  {
   "cell_type": "code",
   "execution_count": null,
   "metadata": {
    "scrolled": true
   },
   "outputs": [],
   "source": []
  },
  {
   "cell_type": "code",
   "execution_count": null,
   "metadata": {},
   "outputs": [],
   "source": []
  },
  {
   "cell_type": "code",
   "execution_count": 23,
   "metadata": {},
   "outputs": [
    {
     "data": {
      "text/plain": [
       "7"
      ]
     },
     "execution_count": 23,
     "metadata": {},
     "output_type": "execute_result"
    }
   ],
   "source": [
    "// function\n",
    "func add(a,b int) int {\n",
    "    return a + b\n",
    "}\n",
    "add(3,4)"
   ]
  },
  {
   "cell_type": "code",
   "execution_count": 24,
   "metadata": {},
   "outputs": [
    {
     "data": {
      "text/plain": [
       "7"
      ]
     },
     "execution_count": 24,
     "metadata": {},
     "output_type": "execute_result"
    }
   ],
   "source": [
    "// anonymous func (function literal)\n",
    "add := func(a,b int) int {\n",
    "    return a + b\n",
    "}\n",
    "add(3,4)"
   ]
  },
  {
   "cell_type": "code",
   "execution_count": 25,
   "metadata": {},
   "outputs": [
    {
     "data": {
      "text/plain": [
       "15"
      ]
     },
     "execution_count": 25,
     "metadata": {},
     "output_type": "execute_result"
    }
   ],
   "source": [
    "// variadic function & function expression\n",
    "func sum(nums ...int) int {\n",
    "    total := 0\n",
    "    for _, num := range nums {\n",
    "        total += num\n",
    "    }\n",
    "    return total\n",
    "}\n",
    "// ints\n",
    "sum(1,2,3,4,5)\n",
    "// slice of ints\n",
    "nums := []int{1,2,3,4,5}\n",
    "sum(nums...)"
   ]
  },
  {
   "cell_type": "code",
   "execution_count": 26,
   "metadata": {},
   "outputs": [
    {
     "data": {
      "text/plain": [
       "Hello! Hello! Hello! Hello! "
      ]
     },
     "execution_count": 26,
     "metadata": {},
     "output_type": "execute_result"
    }
   ],
   "source": [
    "// funciton with different types\n",
    "multiplyString := func(a string, b int) string {\n",
    "    agg := \"\"\n",
    "    for i := 1; i <= b; i++ {\n",
    "        agg = fmt.Sprintf(\"%s%s \", agg, a)\n",
    "    }\n",
    "    return agg\n",
    "}\n",
    "multiplyString(\"Hello!\", 4)"
   ]
  },
  {
   "cell_type": "code",
   "execution_count": 27,
   "metadata": {},
   "outputs": [
    {
     "data": {
      "text/plain": [
       "7 12"
      ]
     },
     "execution_count": 27,
     "metadata": {},
     "output_type": "execute_result"
    }
   ],
   "source": [
    "// function with multiple returns\n",
    "addMultiply := func(a int, b int) (sum int, product int) {\n",
    "    sum = a + b\n",
    "    product = a * b\n",
    "    return\n",
    "}\n",
    "addMultiply(3,4) // x,y := addMultiply(3,4)"
   ]
  },
  {
   "cell_type": "code",
   "execution_count": 28,
   "metadata": {},
   "outputs": [
    {
     "data": {
      "text/plain": [
       "9"
      ]
     },
     "execution_count": 28,
     "metadata": {},
     "output_type": "execute_result"
    }
   ],
   "source": [
    "// return a func (currying)\n",
    "\n",
    "add := func(a int) func(b int) int {\n",
    "    return func(b int) int {\n",
    "        return a + b\n",
    "    }\n",
    "}\n",
    "\n",
    "add(5)(4)"
   ]
  },
  {
   "cell_type": "code",
   "execution_count": 29,
   "metadata": {},
   "outputs": [
    {
     "data": {
      "text/plain": [
       "15"
      ]
     },
     "execution_count": 29,
     "metadata": {},
     "output_type": "execute_result"
    }
   ],
   "source": [
    "// function as parameter\n",
    "\n",
    "// func that takes func as param\n",
    "a := func(f func(xi ...int) int, vi ...int) int {\n",
    "    return f(vi...)\n",
    "}\n",
    "// param func\n",
    "sum := func(xi ...int) int {\n",
    "    total := 0\n",
    "    for _, num := range nums {\n",
    "        total += num\n",
    "    }\n",
    "    return total\n",
    "}\n",
    "// slice param\n",
    "nums := []int{1,2,3,4,5}\n",
    "// execution\n",
    "s := a(sum, nums...)\n",
    "s"
   ]
  },
  {
   "cell_type": "code",
   "execution_count": 30,
   "metadata": {},
   "outputs": [
    {
     "name": "stdout",
     "output_type": "stream",
     "text": [
      "closure value: 6\n",
      "global value: 5\n"
     ]
    },
    {
     "data": {
      "text/plain": [
       "16 <nil>"
      ]
     },
     "execution_count": 30,
     "metadata": {},
     "output_type": "execute_result"
    }
   ],
   "source": [
    "// closure\n",
    "\n",
    "a := 5 // global value\n",
    "{\n",
    "    a := 6 // closure value\n",
    "    fmt.Println(fmt.Sprintf(\"closure value: %v\", a))\n",
    "}\n",
    "fmt.Println(fmt.Sprintf(\"global value: %v\", a))\n",
    "\n"
   ]
  },
  {
   "cell_type": "code",
   "execution_count": null,
   "metadata": {},
   "outputs": [],
   "source": []
  },
  {
   "cell_type": "code",
   "execution_count": 31,
   "metadata": {},
   "outputs": [
    {
     "data": {
      "text/plain": [
       "[0 1 1 2 3 5 8 13 21 34 55 89 144 233 377 610 987 1597 2584 4181]"
      ]
     },
     "execution_count": 31,
     "metadata": {},
     "output_type": "execute_result"
    }
   ],
   "source": [
    "// recursion (iterative > tail recursion > recursion)\n",
    "//// anonymous func won't work (when calling function inside itself)\n",
    "\n",
    "// helper\n",
    "func fibHelper(n, first, second int) int {\n",
    "    if n == 0 {\n",
    "        return first\n",
    "    }\n",
    "    return fibHelper(n-1, second, first+second)\n",
    "}\n",
    "\n",
    "// recursive function\n",
    "fib := func(n int) int {\n",
    "    return fibHelper(n, 0, 1)\n",
    "}\n",
    "\n",
    "// execution\n",
    "fibs := []int{}\n",
    "for i := 0; i < 20; i++ {\n",
    "    fibs = append(fibs, fib(i))\n",
    "}\n",
    "fibs"
   ]
  },
  {
   "cell_type": "code",
   "execution_count": 32,
   "metadata": {},
   "outputs": [
    {
     "name": "stdout",
     "output_type": "stream",
     "text": [
      "Hello there, Kakashi!\n",
      "It's nice to see you!\n",
      "How have you been?\n"
     ]
    },
    {
     "data": {
      "text/plain": [
       ":D"
      ]
     },
     "execution_count": 32,
     "metadata": {},
     "output_type": "execute_result"
    }
   ],
   "source": [
    "// defer\n",
    "//// execute at the end of function\n",
    "//// great for managing open files (open, defer close, operate on contents)\n",
    "\n",
    "greet := func(name string) string {\n",
    "    defer fmt.Println(\"How have you been?\") // third\n",
    "    defer fmt.Println(\"It's nice to see you!\") // second\n",
    "    fmt.Println(fmt.Sprintf(\"Hello there, %s!\", name)) // first\n",
    "    return \":D\"\n",
    "}\n",
    "\n",
    "greet(\"Kakashi\")"
   ]
  },
  {
   "cell_type": "code",
   "execution_count": 33,
   "metadata": {},
   "outputs": [
    {
     "ename": "ERROR",
     "evalue": "repl.go:33:1: not a package: \"kakashi\" in kakashi.show <*ast.SelectorExpr>",
     "output_type": "error",
     "traceback": [
      "repl.go:33:1: not a package: \"kakashi\" in kakashi.show <*ast.SelectorExpr>"
     ]
    }
   ],
   "source": [
    "// structs\n",
    "\n",
    "type jonin struct {\n",
    "    fn string\n",
    "    ln string\n",
    "    age int\n",
    "    awesome bool\n",
    "}\n",
    "\n",
    "// method\n",
    "//// func(j jonin) show() string \n",
    "func show(j jonin) string {\n",
    "    info := fmt.Sprintf(\n",
    "        `Name: %s %s, Age: %v, Awesome: %v`, \n",
    "        j.fn, j.ln, j.age, j.awesome,\n",
    "    )\n",
    "    // fmt.Println(info)\n",
    "    return info\n",
    "}\n",
    "\n",
    "// initialize values of struct\n",
    "kakashi := jonin {\n",
    "    fn: \"Kakashi\",\n",
    "    ln: \"Hatake\",\n",
    "    age: 27,\n",
    "    awesome: true,\n",
    "}\n",
    "\n",
    "// access fields of struct\n",
    "kakashi.fn\n",
    "\n",
    "// call method\n",
    "kakashi.show()\n",
    "\n"
   ]
  },
  {
   "cell_type": "code",
   "execution_count": 34,
   "metadata": {},
   "outputs": [
    {
     "data": {
      "text/plain": [
       "Kakashi Hatake"
      ]
     },
     "execution_count": 34,
     "metadata": {},
     "output_type": "execute_result"
    }
   ],
   "source": [
    "// nested struct\n",
    " \n",
    "// struct\n",
    "type Ninja struct { \n",
    "    name string \n",
    "    chakraNatures int\n",
    "} \n",
    "  \n",
    "// nested struct \n",
    "type Jonin struct { \n",
    "    name string \n",
    "    kekkeiGenkai bool \n",
    "    exp int\n",
    "    ninja Ninja \n",
    "} \n",
    "\n",
    "// initialize fields of nested struct\n",
    "kakashi := Jonin{ \n",
    "    name: \"Kaka Sensei\", \n",
    "    kekkeiGenkai: true,\n",
    "    exp: 5,\n",
    "    ninja: Ninja{\n",
    "        name: \"Kakashi Hatake\", \n",
    "        chakraNatures: 5, \n",
    "    }, \n",
    "} \n",
    "\n",
    "// accessing nested value\n",
    "kakashi.ninja.name"
   ]
  },
  {
   "cell_type": "code",
   "execution_count": 35,
   "metadata": {},
   "outputs": [
    {
     "name": "stdout",
     "output_type": "stream",
     "text": [
      "Kakashi\n",
      "Iruka\n",
      "Konohamaru\n"
     ]
    }
   ],
   "source": [
    "// array\n",
    "//// fixed length sequence of elements (same type)\n",
    "\n",
    "// shorthand\n",
    "jonin := [3]string{\"Kakashi\", \"Iruka\", \"Konohamaru\"}\n",
    "\n",
    "// normal\n",
    "var jonin[3]string\n",
    "jonin[0] = \"Kakashi\"\n",
    "jonin[1] = \"Iruka\"\n",
    "jonin[2] = \"Konohamaru\"\n",
    "\n",
    "// for each\n",
    "for _, j := range jonin {\n",
    "    fmt.Println(j)\n",
    "}\n"
   ]
  },
  {
   "cell_type": "code",
   "execution_count": 36,
   "metadata": {},
   "outputs": [],
   "source": [
    "// copy array\n",
    "\n",
    "// array\n",
    "jonin := [3]string{\"Kakashi\", \"Iruka\", \"Konohamaru\"}\n",
    "// copy by value (new instance)\n",
    "jonin1 := jonin\n",
    "// copy by reference (reference to old instance)\n",
    "jonin2 := &jonin"
   ]
  },
  {
   "cell_type": "code",
   "execution_count": 37,
   "metadata": {},
   "outputs": [
    {
     "name": "stdout",
     "output_type": "stream",
     "text": [
      "Kakashi\n",
      "Iruka\n",
      "Konohamaru\n"
     ]
    }
   ],
   "source": [
    "// array as argument\n",
    "//// must specify length. function is dependent on length.\n",
    "//// use slices (more flexible)\n",
    "\n",
    "// array\n",
    "jonin := [3]string{\"Kakashi\", \"Iruka\", \"Konohamaru\"}\n",
    "// function (must specify length) (could also use `len(jonin)`)\n",
    "printAll := func(arr [3]string) {\n",
    "    for _, item := range arr {\n",
    "        fmt.Println(item)\n",
    "    }\n",
    "}\n",
    "// execution\n",
    "printAll(jonin)"
   ]
  },
  {
   "cell_type": "code",
   "execution_count": 38,
   "metadata": {
    "scrolled": true
   },
   "outputs": [
    {
     "data": {
      "text/plain": [
       "5"
      ]
     },
     "execution_count": 38,
     "metadata": {},
     "output_type": "execute_result"
    }
   ],
   "source": [
    "// slice (composite literal)\n",
    "names := []string{\"Kakashi\", \"Itachi\", \"Hiruzen\", \"Iruka\", \"Konohamaru\"}\n",
    "len(names)"
   ]
  },
  {
   "cell_type": "code",
   "execution_count": 39,
   "metadata": {
    "scrolled": true
   },
   "outputs": [
    {
     "name": "stdout",
     "output_type": "stream",
     "text": [
      "[Kakashi Itachi Hiruzen Iruka Konohamaru] 5\n"
     ]
    },
    {
     "data": {
      "text/plain": [
       "44 <nil>"
      ]
     },
     "execution_count": 39,
     "metadata": {},
     "output_type": "execute_result"
    }
   ],
   "source": [
    "// copy slice\n",
    "\n",
    "// original\n",
    "names := []string{\"Kakashi\", \"Itachi\", \"Hiruzen\", \"Iruka\", \"Konohamaru\"}\n",
    "// empty copy\n",
    "names2 := make([]string, len(names))\n",
    "// copy (destination, source)\n",
    "copyReport := copy(names2, names)\n",
    "// print slice and details\n",
    "fmt.Println(names2, copyReport)"
   ]
  },
  {
   "cell_type": "code",
   "execution_count": 40,
   "metadata": {},
   "outputs": [
    {
     "data": {
      "text/plain": [
       "[[A B] [C D]]"
      ]
     },
     "execution_count": 40,
     "metadata": {},
     "output_type": "execute_result"
    }
   ],
   "source": [
    "// multidimensional slice\n",
    "slice1 := []string{\"A\", \"B\"}\n",
    "slice2 := []string{\"C\", \"D\"}\n",
    "mds1 := [][]string{slice1, slice2}\n",
    "mds1"
   ]
  },
  {
   "cell_type": "code",
   "execution_count": 41,
   "metadata": {},
   "outputs": [
    {
     "name": "stdout",
     "output_type": "stream",
     "text": [
      "Hey, Kakashi!\n",
      "Hey, Itachi!\n",
      "Hey, Hiruzen!\n",
      "Hey, Iruka!\n",
      "Hey, Konohamaru!\n"
     ]
    }
   ],
   "source": [
    "// slice loop\n",
    "//// for each, for ... range, enumerate\n",
    "names := []string{\"Kakashi\", \"Itachi\", \"Hiruzen\", \"Iruka\", \"Konohamaru\"}\n",
    "for _, name := range names {\n",
    "    fmt.Println(fmt.Sprintf(\"Hey, %s!\", name))\n",
    "}\n"
   ]
  },
  {
   "cell_type": "code",
   "execution_count": 42,
   "metadata": {},
   "outputs": [
    {
     "data": {
      "text/plain": [
       "[Kakashi Itachi Hiruzen Iruka Konohamaru Shisui Obito Yamato]"
      ]
     },
     "execution_count": 42,
     "metadata": {},
     "output_type": "execute_result"
    }
   ],
   "source": [
    "// append slice\n",
    "\n",
    "// slices\n",
    "names := []string{\"Kakashi\", \"Itachi\", \"Hiruzen\", \"Iruka\", \"Konohamaru\"}\n",
    "names2 := []string{\"Shisui\", \"Obito\"}\n",
    "// append (slice)\n",
    "names3 := append(names, names2...)\n",
    "// append (value)\n",
    "names4 := append(names3, \"Yamato\")\n",
    "names4"
   ]
  },
  {
   "cell_type": "code",
   "execution_count": null,
   "metadata": {},
   "outputs": [],
   "source": []
  },
  {
   "cell_type": "code",
   "execution_count": 43,
   "metadata": {},
   "outputs": [
    {
     "name": "stdout",
     "output_type": "stream",
     "text": [
      "Kakashi\n",
      "Itachi\n",
      "Hiruzen\n",
      "Iruka\n",
      "Konohamaru\n"
     ]
    }
   ],
   "source": [
    "// slice as argument\n",
    "names := []string{\"Kakashi\", \"Itachi\", \"Hiruzen\", \"Iruka\", \"Konohamaru\"}\n",
    "\n",
    "printAll := func(slice []string) {\n",
    "    for _, item := range slice {\n",
    "        fmt.Println(item)\n",
    "    }\n",
    "}\n",
    "\n",
    "printAll(names)"
   ]
  },
  {
   "cell_type": "code",
   "execution_count": 44,
   "metadata": {},
   "outputs": [
    {
     "data": {
      "text/plain": [
       "[Hiruzen Iruka Itachi Kakashi Konohamaru]"
      ]
     },
     "execution_count": 44,
     "metadata": {},
     "output_type": "execute_result"
    }
   ],
   "source": [
    "// sort slice\n",
    "// sort.Int, sort.Strings, sort\n",
    "names := []string{\"Kakashi\", \"Itachi\", \"Hiruzen\", \"Iruka\", \"Konohamaru\"}\n",
    "sort.Strings(names)\n",
    "names"
   ]
  },
  {
   "cell_type": "code",
   "execution_count": 45,
   "metadata": {},
   "outputs": [],
   "source": [
    "// strings\n"
   ]
  },
  {
   "cell_type": "code",
   "execution_count": 46,
   "metadata": {},
   "outputs": [
    {
     "data": {
      "text/plain": [
       "Kakashi"
      ]
     },
     "execution_count": 46,
     "metadata": {},
     "output_type": "execute_result"
    }
   ],
   "source": [
    "// trim\n",
    "str1 := \"   Kakashi   \"\n",
    "str1 = strings.Trim(str1, \" \")\n",
    "str1 = strings.TrimSpace(str1)\n",
    "str1"
   ]
  },
  {
   "cell_type": "code",
   "execution_count": 47,
   "metadata": {},
   "outputs": [
    {
     "data": {
      "text/plain": [
       "[Hey there Kakashi!]"
      ]
     },
     "execution_count": 47,
     "metadata": {},
     "output_type": "execute_result"
    }
   ],
   "source": [
    "// split\n",
    "str1 := \"Hey there Kakashi!\"\n",
    "slice1 := strings.Split(str1, \" \")\n",
    "slice1"
   ]
  },
  {
   "cell_type": "code",
   "execution_count": 48,
   "metadata": {},
   "outputs": [
    {
     "data": {
      "text/plain": [
       "10"
      ]
     },
     "execution_count": 48,
     "metadata": {},
     "output_type": "execute_result"
    }
   ],
   "source": [
    "// find\n",
    "str1 := \"Hey there Kakashi!\"\n",
    "found := strings.Contains(str1, \"Kakashi\")\n",
    "found // true\n",
    "index := strings.Index(str1, \"Kakashi\")\n",
    "index "
   ]
  },
  {
   "cell_type": "code",
   "execution_count": null,
   "metadata": {},
   "outputs": [],
   "source": []
  },
  {
   "cell_type": "code",
   "execution_count": 49,
   "metadata": {},
   "outputs": [
    {
     "name": "stdout",
     "output_type": "stream",
     "text": [
      "Iruka Umino\n",
      "Kakashi Hatake\n",
      "Konohamaru Sarutobi\n"
     ]
    }
   ],
   "source": [
    "// map loop\n",
    "//// for k,v in ...\n",
    "names := map[string]string{\n",
    "    \"Kakashi\": \"Hatake\",\n",
    "    \"Konohamaru\": \"Sarutobi\",\n",
    "    \"Iruka\": \"Umino\",\n",
    "}\n",
    "for k, v := range names {\n",
    "    fmt.Println(fmt.Sprintf(\"%s %s\", k,v))\n",
    "}"
   ]
  },
  {
   "cell_type": "code",
   "execution_count": 50,
   "metadata": {},
   "outputs": [
    {
     "name": "stdout",
     "output_type": "stream",
     "text": [
      "a_p: 0xc00091e038\n",
      "*a_p: 45\n",
      "a (changed): 56\n"
     ]
    },
    {
     "data": {
      "text/plain": [
       "16 <nil>"
      ]
     },
     "execution_count": 50,
     "metadata": {},
     "output_type": "execute_result"
    }
   ],
   "source": [
    "// pointer\n",
    "//// var a_p *int = &a\n",
    "//// var a_p = &a\n",
    "\n",
    "// pointer\n",
    "a := 45\n",
    "a_p := &a // location in memory\n",
    "fmt.Println(fmt.Sprintf(\"a_p: %v\", a_p)) // print pointer\n",
    "fmt.Println(fmt.Sprintf(\"*a_p: %v\", *a_p)) // print pointer value (dereferencing)\n",
    "// assign value using pointer\n",
    "*a_p = 56\n",
    "fmt.Println(fmt.Sprintf(\"a (changed): %v\", a))\n"
   ]
  },
  {
   "cell_type": "code",
   "execution_count": 51,
   "metadata": {},
   "outputs": [
    {
     "name": "stdout",
     "output_type": "stream",
     "text": [
      "3\n",
      "0xc00091e038\n",
      "4\n",
      "0xc00091e038\n"
     ]
    }
   ],
   "source": [
    "// using pointers\n",
    "\n",
    "// value\n",
    "a := 3\n",
    "// function to change value at location in memory\n",
    "usePointer := func(a *int) {\n",
    "    fmt.Println(*a)\n",
    "    fmt.Println(a)\n",
    "    *a = 4\n",
    "    fmt.Println(*a)\n",
    "    fmt.Println(a)\n",
    "}\n",
    "// change value at location in memory\n",
    "usePointer(&a)"
   ]
  },
  {
   "cell_type": "code",
   "execution_count": 52,
   "metadata": {},
   "outputs": [
    {
     "name": "stdout",
     "output_type": "stream",
     "text": [
      "struct: rect\n",
      "a: 12.0\n",
      "p: 14.0\n",
      "struct: circle\n",
      "a: 78.5\n",
      "p: 31.4\n"
     ]
    }
   ],
   "source": [
    "// interface\n",
    "\n",
    "package main\n",
    "\n",
    "import (\n",
    "    \"fmt\"\n",
    "    \"math\"\n",
    ")\n",
    "\n",
    "// interface\n",
    "type geometry interface {\n",
    "    whichStruct() string\n",
    "    area() float64\n",
    "    perim() float64\n",
    "}\n",
    "// structs\n",
    "type rect struct {\n",
    "    width, height float64\n",
    "}\n",
    "type circle struct {\n",
    "    radius float64\n",
    "}\n",
    "// methods for struct (rect)\n",
    "func (r rect) whichStruct() string {\n",
    "    return \"rect\"\n",
    "}\n",
    "func (r rect) area() float64 {\n",
    "    return r.width * r.height\n",
    "}\n",
    "func (r rect) perim() float64 {\n",
    "    return 2*r.width + 2*r.height\n",
    "}\n",
    "// methods for struct (circle)\n",
    "func (c circle) whichStruct() string {\n",
    "    return \"circle\"\n",
    "}\n",
    "func (c circle) area() float64 {\n",
    "    return math.Pi * c.radius * c.radius\n",
    "}\n",
    "func (c circle) perim() float64 {\n",
    "    return 2 * math.Pi * c.radius\n",
    "}\n",
    "// interface method\n",
    "func measure(g geometry) {\n",
    "    // fmt.Println(g)\n",
    "    fmt.Println(fmt.Sprintf(\"struct: %v\", g.whichStruct()))\n",
    "    fmt.Println(fmt.Sprintf(\"a: %.1f\", g.area()))\n",
    "    fmt.Println(fmt.Sprintf(\"p: %.1f\", g.perim()))\n",
    "}\n",
    "\n",
    "// use interface method\n",
    "r := rect{width: 3, height: 4}\n",
    "c := circle{radius: 5}\n",
    "\n",
    "measure(r)\n",
    "measure(c)\n"
   ]
  },
  {
   "cell_type": "code",
   "execution_count": 53,
   "metadata": {},
   "outputs": [],
   "source": [
    "// interface embedding\n",
    "    // https://www.geeksforgeeks.org/embedding-interfaces-in-golang/"
   ]
  },
  {
   "cell_type": "code",
   "execution_count": 54,
   "metadata": {},
   "outputs": [
    {
     "name": "stdout",
     "output_type": "stream",
     "text": [
      "{Kakashi Hatake 27 true}\n",
      "{\"𒀸fn\":\"Kakashi\",\"𒀸ln\":\"Hatake\",\"𒀸age\":27,\"𒀸awesome\":true}\n",
      "\n",
      "{Kakashi Hatake 27 true}\n",
      "{\"𒀸fn\":\"Kakashi\",\"𒀸ln\":\"Hatake\",\"𒀸age\":27,\"𒀸awesome\":true}\n",
      "\n",
      "map[𒀸age:27 𒀸awesome:true 𒀸fn:Kakashi 𒀸ln:Hatake]\n"
     ]
    },
    {
     "data": {
      "text/plain": [
       "62 <nil>"
      ]
     },
     "execution_count": 54,
     "metadata": {},
     "output_type": "execute_result"
    }
   ],
   "source": [
    "// json\n",
    "//// might throw errors (err declared multiple times)\n",
    "\n",
    "// struct\n",
    "type jonin struct {\n",
    "    fn string\n",
    "    ln string\n",
    "    age int\n",
    "    awesome bool\n",
    "}\n",
    "\n",
    "// initialize values of struct\n",
    "kakashi := jonin {\n",
    "    fn: \"Kakashi\",\n",
    "    ln: \"Hatake\",\n",
    "    age: 27,\n",
    "    awesome: true,\n",
    "}\n",
    "\n",
    "// marshal\n",
    "b, err := json.Marshal(kakashi)\n",
    "if err != nil {\n",
    "    fmt.Println(fmt.Sprintf(\"error: %s\", err))\n",
    "}\n",
    "\n",
    "// unmarshal\n",
    "var kakashi2 jonin // declare (no short assigmment)\n",
    "err := json.Unmarshal(b, &kakashi2)\n",
    "if err != nil {\n",
    "    fmt.Println(fmt.Sprintf(\"error: %s\", err))\n",
    "}\n",
    "\n",
    "// re-marshal (check work)\n",
    "b2, err := json.Marshal(kakashi2)\n",
    "if err != nil {\n",
    "    fmt.Println(fmt.Sprintf(\"error: %s\", err))\n",
    "}\n",
    "\n",
    "// unmarshal (unknown dimensions) (map, not struct)\n",
    "var kakashi3 map[string]interface{}\n",
    "err := json.Unmarshal(b2, &kakashi3)\n",
    "if err != nil {\n",
    "    fmt.Println(err)\n",
    "}\n",
    "\n",
    "// os.Stdout.Write(b)\n",
    "fmt.Println(kakashi)\n",
    "fmt.Println(string(b))\n",
    "fmt.Println(\"\")\n",
    "fmt.Println(kakashi2)\n",
    "fmt.Println(string(b2))\n",
    "fmt.Println(\"\")\n",
    "fmt.Println(kakashi3)"
   ]
  },
  {
   "cell_type": "code",
   "execution_count": 55,
   "metadata": {},
   "outputs": [
    {
     "name": "stdout",
     "output_type": "stream",
     "text": [
      "unhashed (string): password123\n",
      "hashed (bytes): [36 50 97 36 48 52 36 97 68 98 88 73 101 73 72 84 101 115 114 47 73 101 48 53 82 119 97 113 101 51 99 65 84 65 49 101 88 108 70 47 101 85 105 104 47 54 51 110 49 102 47 83 104 99 70 112 99 75 103 75]\n",
      "hashed (string): $2a$04$aDbXIeIHTesr/Ie05Rwaqe3cATA1eXlF/eUih/63n1f/ShcFpcKgK\n",
      "Correct credentials\n"
     ]
    }
   ],
   "source": [
    "// bcrypt\n",
    "\n",
    "s := \"password123\"\n",
    "// hash\n",
    "bs, err := bcrypt.GenerateFromPassword([]byte(s), bcrypt.MinCost)\n",
    "if err != nil { \n",
    "    fmt.Println(err)\n",
    "}\n",
    "\n",
    "fmt.Println(fmt.Sprintf(\"unhashed (string): %v\", s))\n",
    "fmt.Println(fmt.Sprintf(\"hashed (bytes): %v\", bs))\n",
    "fmt.Println(fmt.Sprintf(\"hashed (string): %v\", string(bs)))\n",
    "\n",
    "// compare hash\n",
    "{\n",
    "    err = bcrypt.CompareHashAndPassword(bs, []byte(s))\n",
    "    if err != nil {\n",
    "        fmt.Println(\"Incorrect credentials\")\n",
    "    } else {\n",
    "        fmt.Println(\"Correct credentials\")\n",
    "    }\n",
    "}\n"
   ]
  },
  {
   "cell_type": "code",
   "execution_count": 57,
   "metadata": {},
   "outputs": [
    {
     "name": "stdout",
     "output_type": "stream",
     "text": [
      "C\n",
      "A\n",
      "B\n"
     ]
    }
   ],
   "source": [
    "// concurrency (wait group)\n",
    "//// async by default -- main will have exited before go-routine completed\n",
    "\n",
    "var wg sync.WaitGroup // package scope\n",
    "\n",
    "printer := func(a string) {\n",
    "    fmt.Println(a)\n",
    "    wg.Done()\n",
    "}\n",
    "\n",
    "wg.Add(3)\n",
    "go printer(\"A\")\n",
    "go printer(\"B\")\n",
    "go printer(\"C\")\n",
    "wg.Wait()"
   ]
  },
  {
   "cell_type": "code",
   "execution_count": 62,
   "metadata": {
    "scrolled": true
   },
   "outputs": [
    {
     "name": "stdout",
     "output_type": "stream",
     "text": [
      "Bar: 0 Counter: 1\n",
      "Foo: 0 Counter: 2\n",
      "Bar: 1 Counter: 3\n",
      "Bar: 2 Counter: 4\n",
      "Foo: 1 Counter: 5\n",
      "Bar: 3 Counter: 6\n",
      "Bar: 4 Counter: 7\n",
      "Foo: 2 Counter: 8\n",
      "Foo: 3 Counter: 9\n",
      "Bar: 5 Counter: 10\n",
      "Foo: 4 Counter: 11\n",
      "Foo: 5 Counter: 12\n",
      "Bar: 6 Counter: 13\n",
      "Foo: 6 Counter: 14\n",
      "Bar: 7 Counter: 15\n",
      "Foo: 7 Counter: 16\n",
      "Bar: 8 Counter: 17\n",
      "Foo: 8 Counter: 18\n",
      "Foo: 9 Counter: 19\n",
      "Bar: 9 Counter: 20\n",
      "Bar: 10 Counter: 21\n",
      "Foo: 10 Counter: 22\n",
      "Bar: 11 Counter: 23\n",
      "Bar: 12 Counter: 24\n",
      "Foo: 11 Counter: 25\n",
      "Bar: 13 Counter: 26\n",
      "Foo: 12 Counter: 27\n",
      "Bar: 14 Counter: 28\n",
      "Foo: 13 Counter: 29\n",
      "Foo: 14 Counter: 30\n",
      "Foo: 15 Counter: 31\n",
      "Bar: 15 Counter: 32\n",
      "Foo: 16 Counter: 33\n",
      "Bar: 16 Counter: 34\n",
      "Foo: 17 Counter: 35\n",
      "Bar: 17 Counter: 36\n",
      "Foo: 18 Counter: 37\n",
      "Bar: 18 Counter: 38\n",
      "Foo: 19 Counter: 39\n",
      "Bar: 19 Counter: 40\n",
      "Final Counter: 40\n"
     ]
    }
   ],
   "source": [
    "// concurrency (mutex) (MUTual EXclusion)\n",
    "//// prevent multiple goroutines from accessing the same variable at the same time (race condition)\n",
    "//// mutex -- locking mechanism. only one goroutine is running the critical section of code\n",
    "//// if mutex is locked, other goroutines cannot lock theirs (begin their critical section of code)\n",
    "\n",
    "var wg sync.WaitGroup\n",
    "var counter int\n",
    "var mutex sync.Mutex\n",
    "\n",
    "func main() {\n",
    "\twg.Add(2) // wait group\n",
    "\tgo incrementor(\"Foo:\") // goroutine\n",
    "\tgo incrementor(\"Bar:\") // goroutine\n",
    "\twg.Wait() // don't exit until wait groups are done\n",
    "\tfmt.Println(\"Final Counter:\", counter)\n",
    "}\n",
    "\n",
    "func incrementor(s string) {\n",
    "\tfor i := 0; i < 20; i++ {\n",
    "\t\ttime.Sleep(time.Duration(rand.Intn(20)) * time.Millisecond)\n",
    "\t\tmutex.Lock() // lock variable\n",
    "\t\tcounter++\n",
    "\t\tfmt.Println(s, i, \"Counter:\", counter)\n",
    "\t\tmutex.Unlock() // unlock variable\n",
    "\t}\n",
    "\twg.Done() // wait group done\n",
    "}\n",
    "\n",
    "main()"
   ]
  },
  {
   "cell_type": "code",
   "execution_count": 66,
   "metadata": {
    "scrolled": true
   },
   "outputs": [
    {
     "name": "stdout",
     "output_type": "stream",
     "text": [
      "Foo: 0 Counter: 1\n",
      "Foo: 1 Counter: 2\n",
      "Foo: 2 Counter: 3\n",
      "Bar: 0 Counter: 4\n",
      "Foo: 3 Counter: 5\n",
      "Bar: 1 Counter: 6\n",
      "Bar: 2 Counter: 7\n",
      "Foo: 4 Counter: 8\n",
      "Foo: 5 Counter: 9\n",
      "Foo: 6 Counter: 10\n",
      "Foo: 7 Counter: 11\n",
      "Bar: 3 Counter: 12\n",
      "Foo: 8 Counter: 13\n",
      "Foo: 9 Counter: 14\n",
      "Bar: 4 Counter: 15\n",
      "Foo: 10 Counter: 16\n",
      "Bar: 5 Counter: 17\n",
      "Bar: 6 Counter: 18\n",
      "Bar: 7 Counter: 19\n",
      "Bar: 8 Counter: 20\n",
      "Foo: 11 Counter: 21\n",
      "Bar: 9 Counter: 22\n",
      "Foo: 12 Counter: 23\n",
      "Bar: 10 Counter: 24\n",
      "Foo: 13 Counter: 25\n",
      "Bar: 11 Counter: 26\n",
      "Foo: 14 Counter: 27\n",
      "Bar: 12 Counter: 28\n",
      "Foo: 15 Counter: 29\n",
      "Bar: 13 Counter: 30\n",
      "Foo: 16 Counter: 31\n",
      "Bar: 14 Counter: 33\n",
      "Foo: 17 Counter: 33\n",
      "Bar: 15 Counter: 34\n",
      "Foo: 18 Counter: 35\n",
      "Foo: 19 Counter: 36\n",
      "Bar: 16 Counter: 37\n",
      "Bar: 17 Counter: 38\n",
      "Bar: 18 Counter: 39\n",
      "Bar: 19 Counter: 40\n",
      "Final Counter: 40\n"
     ]
    }
   ],
   "source": [
    "// concurrency (atomic)\n",
    "//// atomic will increment the counter, using the memory address\n",
    "\n",
    "var wg sync.WaitGroup\n",
    "var counter int64\n",
    "\n",
    "func main() {\n",
    "\twg.Add(2)\n",
    "\tgo incrementor(\"Foo:\")\n",
    "\tgo incrementor(\"Bar:\")\n",
    "\twg.Wait()\n",
    "\tfmt.Println(\"Final Counter:\", counter)\n",
    "}\n",
    "\n",
    "func incrementor(s string) {\n",
    "\tfor i := 0; i < 20; i++ {\n",
    "\t\ttime.Sleep(time.Duration(rand.Intn(3)) * time.Millisecond)\n",
    "\t\tatomic.AddInt64(&counter, 1)\n",
    "\t\tfmt.Println(s, i, \"Counter:\", atomic.LoadInt64(&counter)) // access without race\n",
    "\t}\n",
    "\twg.Done()\n",
    "}\n",
    "\n",
    "main()"
   ]
  },
  {
   "cell_type": "code",
   "execution_count": 5,
   "metadata": {},
   "outputs": [
    {
     "name": "stdout",
     "output_type": "stream",
     "text": [
      "42 true\n"
     ]
    },
    {
     "data": {
      "text/plain": [
       "8 <nil>"
      ]
     },
     "execution_count": 5,
     "metadata": {},
     "output_type": "execute_result"
    }
   ],
   "source": [
    "// concurrency (channel basics)\n",
    "//// CHANNELS BLOCK\n",
    "\n",
    "\n",
    "c := make(chan int) // make channel (buffer channel)\n",
    "go func() {\n",
    "    c <- 42 // put value on channel\n",
    "}()\n",
    "fmt.Println(<-c) // get value from channel\n"
   ]
  },
  {
   "cell_type": "code",
   "execution_count": null,
   "metadata": {},
   "outputs": [],
   "source": [
    "// concurrency (channel with buffers)\n",
    "//// multiple buffers -- first in, first out\n",
    "//// will block at 'n' values\n",
    "\n",
    "c := make(chan int, 2) // make channel (buffer channel)\n",
    "go func() {\n",
    "    c <- 42 // put value on channel\n",
    "    c <- 43 // put value on channel\n",
    "}()\n",
    "fmt.Println(<-c) // get value from channel\n",
    "fmt.Println(<-c) // get value from channel"
   ]
  },
  {
   "cell_type": "code",
   "execution_count": 11,
   "metadata": {},
   "outputs": [
    {
     "ename": "ERROR",
     "evalue": "reflect.MakeChan: unidirectional channel type",
     "output_type": "error",
     "traceback": [
      "reflect.MakeChan: unidirectional channel type"
     ]
    }
   ],
   "source": [
    "// concurrency (channel with directions)\n",
    "\n",
    "c := make(chan int) // receive & send (bidirectional)\n",
    "cr := make(<-chan int) // receive (unidirectional)\n",
    "cs := make(chan<- int) // send (unidirectional)\n",
    "\n",
    "//// fmt.Printf(\"channel: %T\", (chan int)(cr)) -- won't work\n",
    "//// c = cs -- won't work\n",
    "//// c = c4 -- won't work\n",
    "//// cr = cs -- won't work\n",
    "//// cs = c -- will work (general to specific)\n"
   ]
  },
  {
   "cell_type": "code",
   "execution_count": 17,
   "metadata": {},
   "outputs": [
    {
     "name": "stdout",
     "output_type": "stream",
     "text": [
      "0\n",
      "1\n",
      "2\n",
      "3\n",
      "4\n",
      "5\n",
      "6\n",
      "7\n",
      "8\n",
      "9\n",
      "10\n",
      "11\n",
      "12\n",
      "13\n",
      "14\n",
      "15\n",
      "16\n",
      "17\n",
      "18\n",
      "19\n",
      "20\n",
      "21\n",
      "22\n",
      "23\n",
      "24\n",
      "25\n",
      "26\n",
      "27\n",
      "28\n",
      "29\n",
      "30\n",
      "31\n",
      "32\n",
      "33\n",
      "34\n",
      "35\n",
      "36\n",
      "37\n",
      "38\n",
      "39\n",
      "40\n",
      "41\n",
      "42\n",
      "43\n",
      "44\n",
      "45\n",
      "46\n",
      "47\n",
      "48\n",
      "49\n",
      "50\n",
      "51\n",
      "52\n",
      "53\n",
      "54\n",
      "55\n",
      "56\n",
      "57\n",
      "58\n",
      "59\n",
      "60\n",
      "61\n",
      "62\n",
      "63\n",
      "64\n",
      "65\n",
      "66\n",
      "67\n",
      "68\n",
      "69\n",
      "70\n",
      "71\n",
      "72\n",
      "73\n",
      "74\n",
      "75\n",
      "76\n",
      "77\n",
      "78\n",
      "79\n",
      "80\n",
      "81\n",
      "82\n",
      "83\n",
      "84\n",
      "85\n",
      "86\n",
      "87\n",
      "88\n",
      "89\n",
      "90\n",
      "91\n",
      "92\n",
      "93\n",
      "94\n",
      "95\n",
      "96\n",
      "97\n",
      "98\n",
      "99\n",
      "exiting...\n"
     ]
    }
   ],
   "source": [
    "// concurrency (using directional channels) (range over channel)\n",
    "//// c to cs, c to cr (bidirectional to unidirectional)\n",
    "//// running concurrently, 'cs' is blocked until 'cr' unblocks it.\n",
    "//// cs1 cr1 cs2 cr2 ... csi cri\n",
    "\n",
    "func main() {\n",
    "    c := make(chan int)\n",
    "    // cs (send)\n",
    "    go func() {\n",
    "        for i := 0; i < 100; i++ {\n",
    "            c <- i\n",
    "        }\n",
    "        close(c) // close channel or hang forever (deadlocked)\n",
    "    }()\n",
    "    // cr (receive)\n",
    "    for v := range c {\n",
    "        fmt.Println(v)\n",
    "    }\n",
    "    fmt.Println(\"exiting...\")\n",
    "}\n",
    "\n",
    "main()\n"
   ]
  },
  {
   "cell_type": "code",
   "execution_count": 18,
   "metadata": {},
   "outputs": [
    {
     "name": "stdout",
     "output_type": "stream",
     "text": [
      "from the eve channel: 0\n",
      "from the odd channel: 1\n",
      "from the eve channel: 2\n",
      "from the odd channel: 3\n",
      "from the eve channel: 4\n",
      "from the odd channel: 5\n",
      "from the eve channel: 6\n",
      "from the odd channel: 7\n",
      "from the eve channel: 8\n",
      "from the odd channel: 9\n",
      "from the eve channel: 10\n",
      "from the odd channel: 11\n",
      "from the eve channel: 12\n",
      "from the odd channel: 13\n",
      "from the eve channel: 14\n",
      "from the odd channel: 15\n",
      "from the eve channel: 16\n",
      "from the odd channel: 17\n",
      "from the eve channel: 18\n",
      "from the odd channel: 19\n",
      "from the eve channel: 20\n",
      "from the odd channel: 21\n",
      "from the eve channel: 22\n",
      "from the odd channel: 23\n",
      "from the eve channel: 24\n",
      "from the odd channel: 25\n",
      "from the eve channel: 26\n",
      "from the odd channel: 27\n",
      "from the eve channel: 28\n",
      "from the odd channel: 29\n",
      "from the eve channel: 30\n",
      "from the odd channel: 31\n",
      "from the eve channel: 32\n",
      "from the odd channel: 33\n",
      "from the eve channel: 34\n",
      "from the odd channel: 35\n",
      "from the eve channel: 36\n",
      "from the odd channel: 37\n",
      "from the eve channel: 38\n",
      "from the odd channel: 39\n",
      "from the eve channel: 40\n",
      "from the odd channel: 41\n",
      "from the eve channel: 42\n",
      "from the odd channel: 43\n",
      "from the eve channel: 44\n",
      "from the odd channel: 45\n",
      "from the eve channel: 46\n",
      "from the odd channel: 47\n",
      "from the eve channel: 48\n",
      "from the odd channel: 49\n",
      "from the eve channel: 50\n",
      "from the odd channel: 51\n",
      "from the eve channel: 52\n",
      "from the odd channel: 53\n",
      "from the eve channel: 54\n",
      "from the odd channel: 55\n",
      "from the eve channel: 56\n",
      "from the odd channel: 57\n",
      "from the eve channel: 58\n",
      "from the odd channel: 59\n",
      "from the eve channel: 60\n",
      "from the odd channel: 61\n",
      "from the eve channel: 62\n",
      "from the odd channel: 63\n",
      "from the eve channel: 64\n",
      "from the odd channel: 65\n",
      "from the eve channel: 66\n",
      "from the odd channel: 67\n",
      "from the eve channel: 68\n",
      "from the odd channel: 69\n",
      "from the eve channel: 70\n",
      "from the odd channel: 71\n",
      "from the eve channel: 72\n",
      "from the odd channel: 73\n",
      "from the eve channel: 74\n",
      "from the odd channel: 75\n",
      "from the eve channel: 76\n",
      "from the odd channel: 77\n",
      "from the eve channel: 78\n",
      "from the odd channel: 79\n",
      "from the eve channel: 80\n",
      "from the odd channel: 81\n",
      "from the eve channel: 82\n",
      "from the odd channel: 83\n",
      "from the eve channel: 84\n",
      "from the odd channel: 85\n",
      "from the eve channel: 86\n",
      "from the odd channel: 87\n",
      "from the eve channel: 88\n",
      "from the odd channel: 89\n",
      "from the eve channel: 90\n",
      "from the odd channel: 91\n",
      "from the eve channel: 92\n",
      "from the odd channel: 93\n",
      "from the eve channel: 94\n",
      "from the odd channel: 95\n",
      "from the eve channel: 96\n",
      "from the odd channel: 97\n",
      "from the eve channel: 98\n",
      "from the odd channel: 99\n",
      "from the quit channel: 0\n",
      "about to exit\n"
     ]
    }
   ],
   "source": [
    "// concurrency (channel + select)\n",
    "\n",
    "func main() {\n",
    "\teve := make(chan int)\n",
    "\todd := make(chan int)\n",
    "\tquit := make(chan int)\n",
    "\n",
    "\t// send\n",
    "\tgo send(eve, odd, quit)\n",
    "\t// receive\n",
    "\treceive(eve, odd, quit)\n",
    "    // exit\n",
    "\tfmt.Println(\"about to exit\")\n",
    "}\n",
    "\n",
    "func receive(e, o, q <-chan int) {\n",
    "\tfor {\n",
    "\t\tselect {\n",
    "\t\tcase v := <-e:\n",
    "\t\t\tfmt.Println(\"from the eve channel:\", v)\n",
    "\t\tcase v := <-o:\n",
    "\t\t\tfmt.Println(\"from the odd channel:\", v)\n",
    "\t\tcase v := <-q:\n",
    "\t\t\tfmt.Println(\"from the quit channel:\", v)\n",
    "\t\t\treturn\n",
    "\t\t}\n",
    "\t}\n",
    "}\n",
    "\n",
    "func send(e, o, q chan<- int) {\n",
    "\tfor i := 0; i < 100; i++ {\n",
    "\t\tif i%2 == 0 {\n",
    "\t\t\te <- i\n",
    "\t\t} else {\n",
    "\t\t\to <- i\n",
    "\t\t}\n",
    "\t}\n",
    "\tq <- 0\n",
    "}\n",
    "\n",
    "main()"
   ]
  },
  {
   "cell_type": "code",
   "execution_count": 21,
   "metadata": {},
   "outputs": [
    {
     "name": "stdout",
     "output_type": "stream",
     "text": [
      "0\n",
      "2\n",
      "1\n",
      "3\n",
      "4\n",
      "5\n",
      "7\n",
      "6\n",
      "8\n",
      "9\n",
      "10\n",
      "12\n",
      "11\n",
      "13\n",
      "14\n",
      "15\n",
      "17\n",
      "16\n",
      "18\n",
      "19\n",
      "20\n",
      "22\n",
      "21\n",
      "23\n",
      "24\n",
      "25\n",
      "27\n",
      "26\n",
      "28\n",
      "29\n",
      "30\n",
      "32\n",
      "31\n",
      "33\n",
      "34\n",
      "35\n",
      "37\n",
      "36\n",
      "38\n",
      "39\n",
      "40\n",
      "42\n",
      "41\n",
      "43\n",
      "44\n",
      "45\n",
      "47\n",
      "46\n",
      "48\n",
      "49\n",
      "50\n",
      "52\n",
      "51\n",
      "53\n",
      "54\n",
      "55\n",
      "57\n",
      "56\n",
      "58\n",
      "59\n",
      "60\n",
      "62\n",
      "61\n",
      "63\n",
      "64\n",
      "65\n",
      "67\n",
      "66\n",
      "68\n",
      "69\n",
      "70\n",
      "72\n",
      "71\n",
      "73\n",
      "74\n",
      "75\n",
      "77\n",
      "76\n",
      "78\n",
      "79\n",
      "80\n",
      "82\n",
      "81\n",
      "83\n",
      "84\n",
      "85\n",
      "87\n",
      "86\n",
      "88\n",
      "89\n",
      "90\n",
      "92\n",
      "91\n",
      "93\n",
      "94\n",
      "95\n",
      "97\n",
      "96\n",
      "98\n",
      "99\n",
      "about to exit\n"
     ]
    }
   ],
   "source": [
    "// concurrency (fan in)\n",
    "//// sending channels -- even, odd; receiving channel -- fan\n",
    "\n",
    "\n",
    "func main() {\n",
    "\teven := make(chan int)\n",
    "\todd := make(chan int)\n",
    "\tfanin := make(chan int)\n",
    "\n",
    "\tgo send(even, odd)\n",
    "\tgo receive(even, odd, fanin)\n",
    "\tfor v := range fanin {\n",
    "\t\tfmt.Println(v)\n",
    "\t}\n",
    "\tfmt.Println(\"about to exit\")\n",
    "}\n",
    "\n",
    "// send channel\n",
    "func send(even, odd chan<- int) {\n",
    "\tfor i := 0; i < 100; i++ {\n",
    "\t\tif i%2 == 0 {\n",
    "\t\t\teven <- i\n",
    "\t\t} else {\n",
    "\t\t\todd <- i\n",
    "\t\t}\n",
    "\t}\n",
    "\tclose(even)\n",
    "\tclose(odd)\n",
    "}\n",
    "\n",
    "// receive channel\n",
    "func receive(even, odd <-chan int, fanin chan<- int) {\n",
    "\tvar wg sync.WaitGroup\n",
    "\twg.Add(2)\n",
    "\n",
    "\tgo func() {\n",
    "\t\tfor v := range even {\n",
    "\t\t\tfanin <- v\n",
    "\t\t}\n",
    "\t\twg.Done()\n",
    "\t}()\n",
    "\n",
    "\tgo func() {\n",
    "\t\tfor v := range odd {\n",
    "\t\t\tfanin <- v\n",
    "\t\t}\n",
    "\t\twg.Done()\n",
    "\t}()\n",
    "\n",
    "\twg.Wait()\n",
    "\tclose(fanin)\n",
    "}\n",
    "\n",
    "main()"
   ]
  },
  {
   "cell_type": "code",
   "execution_count": 23,
   "metadata": {},
   "outputs": [
    {
     "name": "stdout",
     "output_type": "stream",
     "text": [
      "Joe 0 true\n",
      "Ann 0 true\n",
      "Ann 1 true\n",
      "Joe 1 true\n",
      "Ann 2 true\n",
      "Joe 2 true\n",
      "Ann 3 true\n",
      "Joe 3 true\n",
      "Ann 4 true\n",
      "Joe 4 true\n",
      "You're both boring; I'm leaving.\n"
     ]
    }
   ],
   "source": [
    "// concurrency (fanin 2) (rob pike code)\n",
    "\n",
    "func main() {\n",
    "\tc := fanIn(boring(\"Joe\"), boring(\"Ann\"))\n",
    "\tfor i := 0; i < 10; i++ {\n",
    "\t\tfmt.Println(<-c)\n",
    "\t}\n",
    "\tfmt.Println(\"You're both boring; I'm leaving.\")\n",
    "}\n",
    "\n",
    "func boring(msg string) <-chan string {\n",
    "\tc := make(chan string)\n",
    "\tgo func() {\n",
    "\t\tfor i := 0; ; i++ {\n",
    "\t\t\tc <- fmt.Sprintf(\"%s %d\", msg, i)\n",
    "\t\t\ttime.Sleep(time.Duration(rand.Intn(1e3)) * time.Millisecond)\n",
    "\t\t}\n",
    "\t}()\n",
    "\treturn c\n",
    "}\n",
    "\n",
    "// FAN IN\n",
    "func fanIn(input1, input2 <-chan string) <-chan string {\n",
    "\tc := make(chan string)\n",
    "\tgo func() {\n",
    "\t\tfor {\n",
    "\t\t\tc <- <-input1\n",
    "\t\t}\n",
    "\t}()\n",
    "\tgo func() {\n",
    "\t\tfor {\n",
    "\t\t\tc <- <-input2\n",
    "\t\t}\n",
    "\t}()\n",
    "\treturn c\n",
    "}\n",
    "\n",
    "main()\n"
   ]
  },
  {
   "cell_type": "code",
   "execution_count": 24,
   "metadata": {},
   "outputs": [
    {
     "name": "stdout",
     "output_type": "stream",
     "text": [
      "446\n",
      "888\n",
      "570\n",
      "203\n",
      "744\n",
      "944\n",
      "548\n",
      "566\n",
      "217\n",
      "442\n",
      "364\n",
      "772\n",
      "703\n",
      "428\n",
      "306\n",
      "656\n",
      "124\n",
      "573\n",
      "618\n",
      "341\n",
      "315\n",
      "313\n",
      "772\n",
      "852\n",
      "1032\n",
      "125\n",
      "327\n",
      "141\n",
      "880\n",
      "112\n",
      "238\n",
      "774\n",
      "455\n",
      "844\n",
      "593\n",
      "792\n",
      "125\n",
      "134\n",
      "696\n",
      "413\n",
      "911\n",
      "433\n",
      "370\n",
      "254\n",
      "874\n",
      "165\n",
      "674\n",
      "335\n",
      "845\n",
      "310\n",
      "665\n",
      "235\n",
      "898\n",
      "303\n",
      "425\n",
      "293\n",
      "825\n",
      "1003\n",
      "177\n",
      "719\n",
      "554\n",
      "462\n",
      "927\n",
      "191\n",
      "682\n",
      "445\n",
      "402\n",
      "66\n",
      "458\n",
      "545\n",
      "733\n",
      "402\n",
      "757\n",
      "817\n",
      "911\n",
      "1024\n",
      "292\n",
      "48\n",
      "619\n",
      "209\n",
      "881\n",
      "969\n",
      "139\n",
      "840\n",
      "781\n",
      "755\n",
      "288\n",
      "549\n",
      "721\n",
      "190\n",
      "834\n",
      "585\n",
      "896\n",
      "417\n",
      "498\n",
      "252\n",
      "517\n",
      "387\n",
      "984\n",
      "705\n",
      "about to exit\n"
     ]
    }
   ],
   "source": [
    "// concurrency (fan out, fan in)\n",
    "\n",
    "\n",
    "func main() {\n",
    "\tc1 := make(chan int)\n",
    "\tc2 := make(chan int)\n",
    "\n",
    "\tgo populate(c1)\n",
    "\tgo fanOutIn(c1, c2)\n",
    "\tfor v := range c2 {\n",
    "\t\tfmt.Println(v)\n",
    "\t}\n",
    "\n",
    "\tfmt.Println(\"about to exit\")\n",
    "}\n",
    "\n",
    "func populate(c chan int) {\n",
    "\tfor i := 0; i < 100; i++ {\n",
    "\t\tc <- i\n",
    "\t}\n",
    "\tclose(c)\n",
    "}\n",
    "\n",
    "func fanOutIn(c1, c2 chan int) {\n",
    "\tvar wg sync.WaitGroup\n",
    "\tfor v := range c1 {\n",
    "\t\twg.Add(1)\n",
    "\t\tgo func(v2 int) {\n",
    "\t\t\tc2 <- timeConsumingWork(v2)\n",
    "\t\t\twg.Done()\n",
    "\t\t}(v)\n",
    "\t}\n",
    "\twg.Wait()\n",
    "\tclose(c2)\n",
    "}\n",
    "\n",
    "func timeConsumingWork(n int) int {\n",
    "\ttime.Sleep(time.Microsecond * time.Duration(rand.Intn(500)))\n",
    "\treturn n + rand.Intn(1000)\n",
    "}\n",
    "\n",
    "main()"
   ]
  },
  {
   "cell_type": "code",
   "execution_count": 29,
   "metadata": {},
   "outputs": [
    {
     "name": "stdout",
     "output_type": "stream",
     "text": [
      "error check 1: <nil>\n",
      "num gortins 1: 9\n",
      "working 1\n",
      "working 2\n",
      "working 3\n",
      "working 4\n",
      "working 5\n",
      "working 6\n",
      "working 7\n",
      "working 8\n",
      "working 9\n",
      "error check 2: <nil>\n",
      "num gortins 2: 10\n",
      "about to cancel context\n",
      "cancelled context\n",
      "working 10\n",
      "error check 3: context canceled\n",
      "num gortins 3: 9\n"
     ]
    }
   ],
   "source": [
    "// concurrency (context)\n",
    "//// context package -- share context across API boundaries to all goroutines\n",
    "//// context -- request-scoped values, cancelation signals, deadlines\n",
    "\n",
    "\n",
    "func main() {\n",
    "\tctx, cancel := context.WithCancel(context.Background())\n",
    "\n",
    "\tfmt.Println(\"error check 1:\", ctx.Err())\n",
    "\tfmt.Println(\"num gortins 1:\", runtime.NumGoroutine())\n",
    "\n",
    "\tgo func() {\n",
    "\t\tn := 0\n",
    "\t\tfor {\n",
    "\t\t\tselect {\n",
    "\t\t\tcase <-ctx.Done():\n",
    "\t\t\t\treturn\n",
    "\t\t\tdefault:\n",
    "\t\t\t\tn++\n",
    "\t\t\t\ttime.Sleep(time.Millisecond * 200)\n",
    "\t\t\t\tfmt.Println(\"working\", n)\n",
    "\t\t\t}\n",
    "\t\t}\n",
    "\t}()\n",
    "\n",
    "\ttime.Sleep(time.Second * 2)\n",
    "\tfmt.Println(\"error check 2:\", ctx.Err())\n",
    "\tfmt.Println(\"num gortins 2:\", runtime.NumGoroutine())\n",
    "\n",
    "\tfmt.Println(\"about to cancel context\")\n",
    "\tcancel()\n",
    "\tfmt.Println(\"cancelled context\")\n",
    "\n",
    "\ttime.Sleep(time.Second * 2)\n",
    "\tfmt.Println(\"error check 3:\", ctx.Err())\n",
    "\tfmt.Println(\"num gortins 3:\", runtime.NumGoroutine())\n",
    "}\n",
    "\n",
    "main()"
   ]
  },
  {
   "cell_type": "code",
   "execution_count": 31,
   "metadata": {},
   "outputs": [
    {
     "name": "stdout",
     "output_type": "stream",
     "text": [
      "1\n",
      "2\n",
      "3\n",
      "4\n",
      "5\n"
     ]
    }
   ],
   "source": [
    "// concurrency (context) (2)\n",
    "\n",
    "func main() {\n",
    "\tctx, cancel := context.WithCancel(context.Background())\n",
    "\tdefer cancel() // cancel when we are finished\n",
    "\n",
    "\tfor n := range gen(ctx) {\n",
    "\t\tfmt.Println(n)\n",
    "\t\tif n == 5 {\n",
    "\t\t\tbreak\n",
    "\t\t}\n",
    "\t}\n",
    "}\n",
    "\n",
    "func gen(ctx context.Context) <-chan int {\n",
    "\tdst := make(chan int)\n",
    "\tn := 1\n",
    "\tgo func() {\n",
    "\t\tfor {\n",
    "\t\t\tselect {\n",
    "\t\t\tcase <-ctx.Done():\n",
    "\t\t\t\treturn // returning not to leak the goroutine\n",
    "\t\t\tcase dst <- n:\n",
    "\t\t\t\tn++\n",
    "\t\t\t}\n",
    "\t\t}\n",
    "\t}()\n",
    "\treturn dst\n",
    "}\n",
    "\n",
    "main()"
   ]
  },
  {
   "cell_type": "code",
   "execution_count": null,
   "metadata": {},
   "outputs": [],
   "source": []
  },
  {
   "cell_type": "code",
   "execution_count": null,
   "metadata": {},
   "outputs": [],
   "source": []
  },
  {
   "cell_type": "code",
   "execution_count": null,
   "metadata": {},
   "outputs": [],
   "source": []
  }
 ],
 "metadata": {
  "kernelspec": {
   "display_name": "Go",
   "language": "go",
   "name": "gophernotes"
  },
  "language_info": {
   "codemirror_mode": "",
   "file_extension": ".go",
   "mimetype": "",
   "name": "go",
   "nbconvert_exporter": "",
   "pygments_lexer": "",
   "version": "go1.13"
  }
 },
 "nbformat": 4,
 "nbformat_minor": 2
}
