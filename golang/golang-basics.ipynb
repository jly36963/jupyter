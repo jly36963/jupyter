{
 "cells": [
  {
   "cell_type": "code",
   "execution_count": 224,
   "metadata": {},
   "outputs": [],
   "source": [
    "// golang\n",
    "\n",
    "// imports\n",
    "import (\n",
    "    \"fmt\"\n",
    "    \"math\"\n",
    "    \"strings\"\n",
    "    \"sort\"\n",
    ")"
   ]
  },
  {
   "cell_type": "code",
   "execution_count": 2,
   "metadata": {},
   "outputs": [],
   "source": [
    "// workspace \n",
    "//// https://github.com/golang-standards/project-layout\n",
    "\n",
    "// root folder\n",
    "//// assets -- images, logos, etc\n",
    "//// bin -- compiled binaries\n",
    "//// build -- CI, AMI, Docker, etc\n",
    "//// cmd -- main applications for project\n",
    "//// configs -- configuration files\n",
    "//// deployments -- orchestration, docker-compose, kubernetes, terraform, ansible\n",
    "//// docs -- documentation\n",
    "//// examples -- example usage of applications/libraries\n",
    "//// init -- system init configs\n",
    "//// internal -- private application/library code\n",
    "//// pkg -- code that can be used by others\n",
    "//// vendor -- application dependencies\n",
    "//// scripts -- scripts\n",
    "    \n",
    "// don't use\n",
    "//// src -- deprectated\n"
   ]
  },
  {
   "cell_type": "code",
   "execution_count": 15,
   "metadata": {},
   "outputs": [],
   "source": [
    "// bash commands\n",
    "//// go build -- complie packages/dependencies\n",
    "////// go build; ./filename.go -- compile/run code\n",
    "//// go env -- show environment variables (workspace, etc)\n",
    "//// go fmt ./... -- recursively format files according to convention\n",
    "//// go get -d <url> -- download/install (different than \"go install\")\n",
    "//// go help <command> -- get help about a command\n",
    "//// go install <url> -- compile/install \n",
    "//// go list -- list packages\n",
    "//// go run <fn> -- compile/run code\n",
    "//// go version -- version details\n",
    "\n",
    "// GOPATH -- points to your go workspace\n",
    "// GOROOT -- points to your binary installation of Go"
   ]
  },
  {
   "cell_type": "code",
   "execution_count": null,
   "metadata": {},
   "outputs": [],
   "source": [
    "// modules\n",
    "//// go mod init <namespace> -- initialize new module\n",
    "//// go build -- compile\n",
    "//// go get -- changes the required version of a dep (or adds new dep)\n",
    "////// go get <package>@<version> -- specify version\n",
    "//// go list -m all -- print the current module's dependencies\n",
    "//// go mod tidy -- remove unused dependencies\n"
   ]
  },
  {
   "cell_type": "code",
   "execution_count": 20,
   "metadata": {},
   "outputs": [],
   "source": [
    "// hello world\n",
    "\n",
    "// entry point\n",
    "package main \n",
    "\n",
    "// imports\n",
    "// import \"fmt\"\n",
    "\n",
    "// main function\n",
    "func main() {\n",
    "    greet(\"Kakashi\")\n",
    "}\n",
    "\n",
    "func greet(name string) {\n",
    "    greeting := fmt.Sprintf(\"Hello %s\", name)\n",
    "    fmt.Println(greeting)\n",
    "}"
   ]
  },
  {
   "cell_type": "code",
   "execution_count": 214,
   "metadata": {},
   "outputs": [],
   "source": []
  },
  {
   "cell_type": "code",
   "execution_count": null,
   "metadata": {},
   "outputs": [],
   "source": [
    "// variadic parameters\n",
    "//// ...<type> -- variadic parameter\n",
    "//// ...interface{} -- variadic arguments of any type"
   ]
  },
  {
   "cell_type": "code",
   "execution_count": null,
   "metadata": {},
   "outputs": [],
   "source": [
    "// predeclared identifiers\n",
    "//// bool, byte, complex64, complex128, error, float32, float64, int, int8, int16, int32, int64\n",
    "//// rune, string, uint, uint8, uint32, uint64, \n",
    "\n",
    "// common types\n",
    "//// bool, error, float64, int, string\n",
    "\n",
    "// alias\n",
    "//// byte -- uint8\n",
    "//// rune -- int32\n",
    "\n",
    "// constants\n",
    "//// true false iota\n",
    "\n",
    "// zero value\n",
    "//// nil\n",
    "\n",
    "// functions\n",
    "//// append, cap, close, complex, copy, delete, imag, len, \n",
    "//// make, new, panic, print, println, real, recover\n",
    "\n",
    "// keywords\n",
    "//// break, case, chan, const, continue, default, defer, else, fallthrough, for\n",
    "//// func, go, goto, if, import, interface, map, package, range, return, select,\n",
    "//// struct, switch, type, var"
   ]
  },
  {
   "cell_type": "code",
   "execution_count": null,
   "metadata": {},
   "outputs": [],
   "source": [
    "// operators\n",
    "\n",
    "/*\n",
    "\n",
    "math\n",
    "+ - * / % \n",
    "\n",
    "assignment\n",
    "= :=\n",
    "-= += *= /+ %=\n",
    "&= ^= |=\n",
    "\n",
    "increment\n",
    "++ -- \n",
    "\n",
    "bitwise\n",
    ">> << & | ^ &^\n",
    "\n",
    "logical\n",
    "&& || !\n",
    "\n",
    "comparison\n",
    "== != <= >=\n",
    "\n",
    "*/"
   ]
  },
  {
   "cell_type": "code",
   "execution_count": 9,
   "metadata": {},
   "outputs": [],
   "source": [
    "// short variable declarations (declare and assign variable)\n",
    "//// works inside function body, not outside\n",
    "a := 6\n",
    "\n",
    "// var (declare and assign value)\n",
    "//// works inside/outside function body\n",
    "var a int = 6\n",
    "var a = 6\n",
    "\n",
    "// declare\n",
    "//// assigned \"zero value\" of associated type\n",
    "//// booleans (false), int (0), floats (0.0), strings (\"\"), \n",
    "//// pointers/functions/interfaces/slices/channels/maps (nil)\n",
    "var z int // assigned \"0\" value\n",
    "\n",
    "// assign value (variable already declared)\n",
    "a = 5\n"
   ]
  },
  {
   "cell_type": "code",
   "execution_count": 325,
   "metadata": {},
   "outputs": [
    {
     "data": {
      "text/plain": [
       "Hello"
      ]
     },
     "execution_count": 325,
     "metadata": {},
     "output_type": "execute_result"
    }
   ],
   "source": [
    "// const\n",
    "//// only character, string, boolean, numeric values\n",
    "//// no short variable declaration\n",
    "//// cannot re-assign\n",
    "\n",
    "// single\n",
    "const greeting = \"Hello\"\n",
    "// multiple\n",
    "const (\n",
    "    g1 = \"Hello\"\n",
    "    g2 = \"Hi!\"\n",
    "    g3 = \"Fuck off!\"\n",
    ")\n",
    "greeting"
   ]
  },
  {
   "cell_type": "code",
   "execution_count": 327,
   "metadata": {},
   "outputs": [
    {
     "name": "stdout",
     "output_type": "stream",
     "text": [
      "0 1 2 0 1 2\n"
     ]
    },
    {
     "data": {
      "text/plain": [
       "12 <nil>"
      ]
     },
     "execution_count": 327,
     "metadata": {},
     "output_type": "execute_result"
    }
   ],
   "source": [
    "// iota\n",
    "//// increment\n",
    "//// iota resets on 'const'\n",
    "\n",
    "const (\n",
    "    a = iota\n",
    "    b\n",
    "    c\n",
    ")\n",
    "const (\n",
    "    d = iota\n",
    "    e\n",
    "    f\n",
    ")\n",
    "fmt.Println(a,b,c,d,e,f)"
   ]
  },
  {
   "cell_type": "code",
   "execution_count": null,
   "metadata": {},
   "outputs": [],
   "source": [
    "// throwaway (blank identifier)\n",
    "//// compiler will throw error if unused variables (... declared but not used)\n",
    "//// use throwaway if multiple return values (and some are unused)\n",
    "n, _ := fmt.Println(\"Hello\")\n",
    "fmt.Println(n)"
   ]
  },
  {
   "cell_type": "code",
   "execution_count": 60,
   "metadata": {},
   "outputs": [
    {
     "name": "stdout",
     "output_type": "stream",
     "text": [
      "Hello!\n",
      "Hello!\n"
     ]
    },
    {
     "data": {
      "text/plain": [
       "7 <nil>"
      ]
     },
     "execution_count": 60,
     "metadata": {},
     "output_type": "execute_result"
    }
   ],
   "source": [
    "// strings (\" vs `)\n",
    "\n",
    "// raw string\n",
    "//// can be multline\n",
    "fmt.Println(`Hello!`)\n",
    "// interpreted string\n",
    "fmt.Println(\"Hello!\")"
   ]
  },
  {
   "cell_type": "code",
   "execution_count": 58,
   "metadata": {},
   "outputs": [
    {
     "name": "stdout",
     "output_type": "stream",
     "text": [
      "Hello Kakashi!\n"
     ]
    }
   ],
   "source": [
    "// string formatting\n",
    "func greet(name string) {\n",
    "    greeting := fmt.Sprintf(\"Hello %v!\", name);\n",
    "    fmt.Println(greeting);\n",
    "}\n",
    "greet(\"Kakashi\");\n",
    "\n",
    "// %s -- string\n",
    "// %q -- safely escaped, double-quoted string\n",
    "// %T -- type\n",
    "// %v -- value\n",
    "// %d -- integer (base 10)\n",
    "// %f -- float\n",
    "//// fmt.Sprintf(\"number: %.2f\", 2.20254)\n",
    "// %e -- scientific notation\n",
    "//// fmt.Sprintf(\"number: %.2e\", .00001245)\n",
    "\n"
   ]
  },
  {
   "cell_type": "code",
   "execution_count": 69,
   "metadata": {},
   "outputs": [
    {
     "name": "stdout",
     "output_type": "stream",
     "text": [
      "8\n"
     ]
    },
    {
     "data": {
      "text/plain": [
       "2 <nil>"
      ]
     },
     "execution_count": 69,
     "metadata": {},
     "output_type": "execute_result"
    }
   ],
   "source": [
    "// type conversion\n",
    "x_int := 5\n",
    "x_float := float64(x_int)\n",
    "x_uint := uint(x_int)\n",
    "fmt.Println(x_uint)"
   ]
  },
  {
   "cell_type": "code",
   "execution_count": 78,
   "metadata": {},
   "outputs": [
    {
     "name": "stdout",
     "output_type": "stream",
     "text": [
      "Hey Kakashi!\n"
     ]
    }
   ],
   "source": [
    "// if, else if, else\n",
    "name := \"Kakashi\"\n",
    "if (name == \"Kakashi\") { \n",
    "    fmt.Println(fmt.Sprintf(\"Hey %s!\", name)) \n",
    "} else if (name == \"Itachi\") {\n",
    "    fmt.Println(fmt.Sprintf(\"Hey %s! Can you teach me the clone jutsu?\", name))\n",
    "} else {\n",
    "    fmt.Println(\"Hello there!\")\n",
    "}"
   ]
  },
  {
   "cell_type": "code",
   "execution_count": 92,
   "metadata": {},
   "outputs": [
    {
     "name": "stdout",
     "output_type": "stream",
     "text": [
      "0\n",
      "1\n",
      "4\n",
      "9\n",
      "16\n",
      "36\n",
      "49\n",
      "64\n",
      "81\n"
     ]
    }
   ],
   "source": [
    "// for loop\n",
    "//// continue, break, (don't use) goto\n",
    "for i := 0; i <= 100; i++ {\n",
    "    if (i == 5) { continue }\n",
    "    if (i == 10) { break }\n",
    "    x := math.Pow(float64(i),2)\n",
    "    fmt.Println(x)\n",
    "}"
   ]
  },
  {
   "cell_type": "code",
   "execution_count": 96,
   "metadata": {},
   "outputs": [
    {
     "ename": "ERROR",
     "evalue": "repl.go:23:12: cannot type switch on non-interface type <int>: value",
     "output_type": "error",
     "traceback": [
      "repl.go:23:12: cannot type switch on non-interface type <int>: value"
     ]
    }
   ],
   "source": [
    "// switch\n",
    "switch day := 5; day{ \n",
    "   case 1: \n",
    "   fmt.Println(\"Monday\") \n",
    "   case 2: \n",
    "   fmt.Println(\"Tuesday\") \n",
    "   case 3: \n",
    "   fmt.Println(\"Wednesday\") \n",
    "   case 4: \n",
    "   fmt.Println(\"Thursday\") \n",
    "   case 5: \n",
    "   fmt.Println(\"Friday\") \n",
    "   case 6: \n",
    "   fmt.Println(\"Saturday\") \n",
    "   case 7: \n",
    "   fmt.Println(\"Sunday\") \n",
    "   default:  \n",
    "   fmt.Println(\"Invalid\") \n",
    "} "
   ]
  },
  {
   "cell_type": "code",
   "execution_count": null,
   "metadata": {
    "scrolled": true
   },
   "outputs": [],
   "source": []
  },
  {
   "cell_type": "code",
   "execution_count": 112,
   "metadata": {},
   "outputs": [
    {
     "name": "stdout",
     "output_type": "stream",
     "text": [
      "Kakashi Hatake\n",
      "Konohamaru Sarutobi\n",
      "Iruka Umino\n"
     ]
    }
   ],
   "source": []
  },
  {
   "cell_type": "code",
   "execution_count": 98,
   "metadata": {},
   "outputs": [
    {
     "data": {
      "text/plain": [
       "7"
      ]
     },
     "execution_count": 98,
     "metadata": {},
     "output_type": "execute_result"
    }
   ],
   "source": [
    "// function\n",
    "func add(a,b int) int {\n",
    "    return a + b\n",
    "}\n",
    "add(3,4)"
   ]
  },
  {
   "cell_type": "code",
   "execution_count": 115,
   "metadata": {},
   "outputs": [
    {
     "data": {
      "text/plain": [
       "7"
      ]
     },
     "execution_count": 115,
     "metadata": {},
     "output_type": "execute_result"
    }
   ],
   "source": [
    "// anon func\n",
    "add := func(a,b int) int {\n",
    "    return a + b\n",
    "}\n",
    "add(3,4)"
   ]
  },
  {
   "cell_type": "code",
   "execution_count": 105,
   "metadata": {},
   "outputs": [
    {
     "data": {
      "text/plain": [
       "15"
      ]
     },
     "execution_count": 105,
     "metadata": {},
     "output_type": "execute_result"
    }
   ],
   "source": [
    "// variadic function\n",
    "func sum(nums ...int) int {\n",
    "    total := 0\n",
    "    for _, num := range nums {\n",
    "        total += num\n",
    "    }\n",
    "    return total\n",
    "}\n",
    "// ints\n",
    "sum(1,2,3,4,5)\n",
    "\n",
    "// slice of ints\n",
    "nums := []int{1,2,3,4,5}\n",
    "sum(nums...)"
   ]
  },
  {
   "cell_type": "code",
   "execution_count": 139,
   "metadata": {},
   "outputs": [
    {
     "data": {
      "text/plain": [
       "Hello! Hello! Hello! Hello! "
      ]
     },
     "execution_count": 139,
     "metadata": {},
     "output_type": "execute_result"
    }
   ],
   "source": [
    "// funciton with different types\n",
    "multiplyString := func(a string, b int) string {\n",
    "    agg := \"\"\n",
    "    for i := 1; i <= b; i++ {\n",
    "        agg = fmt.Sprintf(\"%s%s \", agg, a)\n",
    "    }\n",
    "    return agg\n",
    "}\n",
    "multiplyString(\"Hello!\", 4)"
   ]
  },
  {
   "cell_type": "code",
   "execution_count": 140,
   "metadata": {},
   "outputs": [
    {
     "data": {
      "text/plain": [
       "7 12"
      ]
     },
     "execution_count": 140,
     "metadata": {},
     "output_type": "execute_result"
    }
   ],
   "source": [
    "// function with multiple returns\n",
    "addMultiply := func(a int, b int) (sum int, product int) {\n",
    "    sum = a + b\n",
    "    product = a * b\n",
    "    return\n",
    "}\n",
    "addMultiply(3,4)"
   ]
  },
  {
   "cell_type": "code",
   "execution_count": 150,
   "metadata": {},
   "outputs": [
    {
     "name": "stdout",
     "output_type": "stream",
     "text": [
      "Hello there, Kakashi!\n",
      "It's nice to see you!\n",
      "How have you been?\n"
     ]
    },
    {
     "data": {
      "text/plain": [
       ":D"
      ]
     },
     "execution_count": 150,
     "metadata": {},
     "output_type": "execute_result"
    }
   ],
   "source": [
    "// defer\n",
    "//// execute at the end of function\n",
    "//// great for managing open files (open, defer close, operate on contents)\n",
    "\n",
    "greet := func(name string) string {\n",
    "    defer fmt.Println(\"How have you been?\") // third\n",
    "    defer fmt.Println(\"It's nice to see you!\") // second\n",
    "    fmt.Println(fmt.Sprintf(\"Hello there, %s!\", name)) // first\n",
    "    return \":D\"\n",
    "}\n",
    "\n",
    "greet(\"Kakashi\")"
   ]
  },
  {
   "cell_type": "code",
   "execution_count": 281,
   "metadata": {},
   "outputs": [
    {
     "data": {
      "text/plain": [
       "Name: Kakashi Hatake, Age: 27, Awesome: true"
      ]
     },
     "execution_count": 281,
     "metadata": {},
     "output_type": "execute_result"
    }
   ],
   "source": [
    "// structs\n",
    "\n",
    "type jonin struct {\n",
    "    fn string\n",
    "    ln string\n",
    "    age int\n",
    "    awesome bool\n",
    "}\n",
    "\n",
    "// method\n",
    "//// func(j jonin) show() string \n",
    "func show(j jonin) string {\n",
    "    info := fmt.Sprintf(\n",
    "        `Name: %s %s, Age: %v, Awesome: %v`, \n",
    "        j.fn, j.ln, j.age, j.awesome,\n",
    "    )\n",
    "    // fmt.Println(info)\n",
    "    return info\n",
    "}\n",
    "\n",
    "// initialize values of struct\n",
    "kakashi := jonin {\n",
    "    fn: \"Kakashi\",\n",
    "    ln: \"Hatake\",\n",
    "    age: 27,\n",
    "    awesome: true,\n",
    "}\n",
    "\n",
    "// access fields of struct\n",
    "kakashi.fn\n",
    "\n",
    "// call method\n",
    "kakashi.show()\n",
    "\n"
   ]
  },
  {
   "cell_type": "code",
   "execution_count": 265,
   "metadata": {},
   "outputs": [
    {
     "data": {
      "text/plain": [
       "Kakashi Hatake"
      ]
     },
     "execution_count": 265,
     "metadata": {},
     "output_type": "execute_result"
    }
   ],
   "source": [
    "// nested struct\n",
    " \n",
    "// struct\n",
    "type Ninja struct { \n",
    "    name string \n",
    "    chakraNatures int\n",
    "} \n",
    "  \n",
    "// nested struct \n",
    "type Jonin struct { \n",
    "    name string \n",
    "    kekkeiGenkai bool \n",
    "    exp int\n",
    "    ninja Ninja \n",
    "} \n",
    "\n",
    "// initialize fields of nested struct\n",
    "kakashi := Jonin{ \n",
    "    name: \"Kaka Sensei\", \n",
    "    kekkeiGenkai: true,\n",
    "    exp: 5,\n",
    "    ninja: Ninja{\n",
    "        name: \"Kakashi Hatake\", \n",
    "        chakraNatures: 5, \n",
    "    }, \n",
    "} \n",
    "\n",
    "// accessing nested value\n",
    "kakashi.ninja.name"
   ]
  },
  {
   "cell_type": "code",
   "execution_count": 188,
   "metadata": {},
   "outputs": [
    {
     "name": "stdout",
     "output_type": "stream",
     "text": [
      "Kakashi\n",
      "Iruka\n",
      "Konohamaru\n"
     ]
    }
   ],
   "source": [
    "// array\n",
    "//// fixed length sequence of elements (same type)\n",
    "\n",
    "// shorthand\n",
    "jonin := [3]string{\"Kakashi\", \"Iruka\", \"Konohamaru\"}\n",
    "\n",
    "// normal\n",
    "var jonin[3]string\n",
    "jonin[0] = \"Kakashi\"\n",
    "jonin[1] = \"Iruka\"\n",
    "jonin[2] = \"Konohamaru\"\n",
    "\n",
    "// for each\n",
    "for _, j := range jonin {\n",
    "    fmt.Println(j)\n",
    "}\n"
   ]
  },
  {
   "cell_type": "code",
   "execution_count": 189,
   "metadata": {},
   "outputs": [],
   "source": [
    "// copy array\n",
    "\n",
    "// array\n",
    "jonin := [3]string{\"Kakashi\", \"Iruka\", \"Konohamaru\"}\n",
    "// copy by value (new instance)\n",
    "jonin1 := jonin\n",
    "// copy by reference (reference to old instance)\n",
    "jonin2 := &jonin"
   ]
  },
  {
   "cell_type": "code",
   "execution_count": 213,
   "metadata": {},
   "outputs": [
    {
     "name": "stdout",
     "output_type": "stream",
     "text": [
      "Kakashi\n",
      "Iruka\n",
      "Konohamaru\n"
     ]
    }
   ],
   "source": [
    "// array as argument\n",
    "//// must specify length. function is dependent on length.\n",
    "//// use slices\n",
    "\n",
    "// array\n",
    "jonin := [3]string{\"Kakashi\", \"Iruka\", \"Konohamaru\"}\n",
    "// function (must specify length) (could also use `len(jonin)`)\n",
    "printAll := func(arr [3]string) {\n",
    "    for _, item := range arr {\n",
    "        fmt.Println(item)\n",
    "    }\n",
    "}\n",
    "// execution\n",
    "printAll(jonin)"
   ]
  },
  {
   "cell_type": "code",
   "execution_count": 198,
   "metadata": {
    "scrolled": true
   },
   "outputs": [
    {
     "data": {
      "text/plain": [
       "5"
      ]
     },
     "execution_count": 198,
     "metadata": {},
     "output_type": "execute_result"
    }
   ],
   "source": [
    "// slice (composite literal)\n",
    "names := []string{\"Kakashi\", \"Itachi\", \"Hiruzen\", \"Iruka\", \"Konohamaru\"}\n",
    "len(names)"
   ]
  },
  {
   "cell_type": "code",
   "execution_count": 212,
   "metadata": {
    "scrolled": true
   },
   "outputs": [
    {
     "name": "stdout",
     "output_type": "stream",
     "text": [
      "[Kakashi Itachi Hiruzen Iruka Konohamaru] 5\n"
     ]
    },
    {
     "data": {
      "text/plain": [
       "44 <nil>"
      ]
     },
     "execution_count": 212,
     "metadata": {},
     "output_type": "execute_result"
    }
   ],
   "source": [
    "// copy slice\n",
    "\n",
    "// original\n",
    "names := []string{\"Kakashi\", \"Itachi\", \"Hiruzen\", \"Iruka\", \"Konohamaru\"}\n",
    "// empty copy\n",
    "names2 := make([]string, len(names))\n",
    "// copy (destination, source)\n",
    "copyReport := copy(names2, names)\n",
    "// print slice and details\n",
    "fmt.Println(names2, copyReport)"
   ]
  },
  {
   "cell_type": "code",
   "execution_count": 337,
   "metadata": {},
   "outputs": [
    {
     "data": {
      "text/plain": [
       "[[A B] [C D]]"
      ]
     },
     "execution_count": 337,
     "metadata": {},
     "output_type": "execute_result"
    }
   ],
   "source": [
    "// multidimensional slice\n",
    "slice1 := []string{\"A\", \"B\"}\n",
    "slice2 := []string{\"C\", \"D\"}\n",
    "mds1 := [][]string{slice1, slice2}\n",
    "mds1"
   ]
  },
  {
   "cell_type": "code",
   "execution_count": 195,
   "metadata": {},
   "outputs": [
    {
     "name": "stdout",
     "output_type": "stream",
     "text": [
      "Hey, Kakashi!\n",
      "Hey, Itachi!\n",
      "Hey, Hiruzen!\n",
      "Hey, Iruka!\n",
      "Hey, Konohamaru!\n"
     ]
    }
   ],
   "source": [
    "// slice loop\n",
    "//// for each, for ... range, enumerate\n",
    "names := []string{\"Kakashi\", \"Itachi\", \"Hiruzen\", \"Iruka\", \"Konohamaru\"}\n",
    "for _, name := range names {\n",
    "    fmt.Println(fmt.Sprintf(\"Hey, %s!\", name))\n",
    "}\n"
   ]
  },
  {
   "cell_type": "code",
   "execution_count": 334,
   "metadata": {},
   "outputs": [
    {
     "data": {
      "text/plain": [
       "[Kakashi Itachi Hiruzen Iruka Konohamaru Shisui Obito Yamato]"
      ]
     },
     "execution_count": 334,
     "metadata": {},
     "output_type": "execute_result"
    }
   ],
   "source": [
    "// append slice\n",
    "\n",
    "// slices\n",
    "names := []string{\"Kakashi\", \"Itachi\", \"Hiruzen\", \"Iruka\", \"Konohamaru\"}\n",
    "names2 := []string{\"Shisui\", \"Obito\"}\n",
    "// append (slice)\n",
    "names3 := append(names, names2...)\n",
    "// append (value)\n",
    "names4 := append(names3, \"Yamato\")\n",
    "names4"
   ]
  },
  {
   "cell_type": "code",
   "execution_count": null,
   "metadata": {},
   "outputs": [],
   "source": []
  },
  {
   "cell_type": "code",
   "execution_count": 197,
   "metadata": {},
   "outputs": [
    {
     "name": "stdout",
     "output_type": "stream",
     "text": [
      "Kakashi\n",
      "Itachi\n",
      "Hiruzen\n",
      "Iruka\n",
      "Konohamaru\n"
     ]
    }
   ],
   "source": [
    "// slice as argument\n",
    "names := []string{\"Kakashi\", \"Itachi\", \"Hiruzen\", \"Iruka\", \"Konohamaru\"}\n",
    "\n",
    "printAll := func(slice []string) {\n",
    "    for _, item := range slice {\n",
    "        fmt.Println(item)\n",
    "    }\n",
    "}\n",
    "\n",
    "printAll(names)"
   ]
  },
  {
   "cell_type": "code",
   "execution_count": 222,
   "metadata": {},
   "outputs": [
    {
     "data": {
      "text/plain": [
       "[Hiruzen Iruka Itachi Kakashi Konohamaru]"
      ]
     },
     "execution_count": 222,
     "metadata": {},
     "output_type": "execute_result"
    }
   ],
   "source": [
    "// sort slice\n",
    "// sort.Int, sort.Strings, sort\n",
    "names := []string{\"Kakashi\", \"Itachi\", \"Hiruzen\", \"Iruka\", \"Konohamaru\"}\n",
    "sort.Strings(names)\n",
    "names"
   ]
  },
  {
   "cell_type": "code",
   "execution_count": 230,
   "metadata": {},
   "outputs": [
    {
     "data": {
      "text/plain": [
       "Kakashi"
      ]
     },
     "execution_count": 230,
     "metadata": {},
     "output_type": "execute_result"
    }
   ],
   "source": [
    "// strings\n"
   ]
  },
  {
   "cell_type": "code",
   "execution_count": null,
   "metadata": {},
   "outputs": [],
   "source": [
    "// trim\n",
    "str1 := \"   Kakashi   \"\n",
    "str1 = strings.Trim(str1, \" \")\n",
    "str1 = strings.TrimSpace(str1)\n",
    "str1"
   ]
  },
  {
   "cell_type": "code",
   "execution_count": 233,
   "metadata": {},
   "outputs": [
    {
     "data": {
      "text/plain": [
       "Hey"
      ]
     },
     "execution_count": 233,
     "metadata": {},
     "output_type": "execute_result"
    }
   ],
   "source": [
    "// split\n",
    "str1 := \"Hey there Kakashi!\"\n",
    "slice1 := strings.Split(str1, \" \")\n",
    "slice1"
   ]
  },
  {
   "cell_type": "code",
   "execution_count": 243,
   "metadata": {},
   "outputs": [
    {
     "data": {
      "text/plain": [
       "10"
      ]
     },
     "execution_count": 243,
     "metadata": {},
     "output_type": "execute_result"
    }
   ],
   "source": [
    "// find\n",
    "str1 := \"Hey there Kakashi!\"\n",
    "found := strings.Contains(str1, \"Kakashi\")\n",
    "found // true\n",
    "index := strings.Index(str1, \"Kakashi\")\n",
    "index "
   ]
  },
  {
   "cell_type": "code",
   "execution_count": null,
   "metadata": {},
   "outputs": [],
   "source": []
  },
  {
   "cell_type": "code",
   "execution_count": null,
   "metadata": {},
   "outputs": [],
   "source": []
  },
  {
   "cell_type": "code",
   "execution_count": null,
   "metadata": {},
   "outputs": [],
   "source": []
  },
  {
   "cell_type": "code",
   "execution_count": 215,
   "metadata": {},
   "outputs": [
    {
     "name": "stdout",
     "output_type": "stream",
     "text": [
      "Kakashi Hatake\n",
      "Konohamaru Sarutobi\n",
      "Iruka Umino\n"
     ]
    }
   ],
   "source": [
    "// map loop\n",
    "//// for k,v in ...\n",
    "names := map[string]string{\n",
    "    \"Kakashi\": \"Hatake\",\n",
    "    \"Konohamaru\": \"Sarutobi\",\n",
    "    \"Iruka\": \"Umino\",\n",
    "}\n",
    "for k, v := range names {\n",
    "    fmt.Println(fmt.Sprintf(\"%s %s\", k,v))\n",
    "}"
   ]
  },
  {
   "cell_type": "code",
   "execution_count": 279,
   "metadata": {},
   "outputs": [
    {
     "ename": "ERROR",
     "evalue": "repl.go:14:9: undefined identifier: b",
     "output_type": "error",
     "traceback": [
      "repl.go:14:9: undefined identifier: b"
     ]
    }
   ],
   "source": [
    "// pointer\n",
    "//// var a_p *int = &a\n",
    "//// var a_p = &a\n",
    "\n",
    "// pointer\n",
    "a := 45\n",
    "a_p := &a\n",
    "fmt.Println(fmt.Sprintf(\"a_p: %v\", a_p)) // print pointer\n",
    "fmt.Println(fmt.Sprintf(\"*a_p: %v\", *a_p)) // print pointer value (dereferencing)\n",
    "// assign value using pointer\n",
    "*a_p = 56\n",
    "fmt.Println(fmt.Sprintf(\"a (changed): %v\", a))\n"
   ]
  },
  {
   "cell_type": "code",
   "execution_count": null,
   "metadata": {},
   "outputs": [],
   "source": []
  },
  {
   "cell_type": "code",
   "execution_count": 314,
   "metadata": {},
   "outputs": [
    {
     "name": "stdout",
     "output_type": "stream",
     "text": [
      "struct: rect\n",
      "a: 12.0\n",
      "p: 14.0\n",
      "struct: circle\n",
      "a: 78.5\n",
      "p: 31.4\n"
     ]
    }
   ],
   "source": [
    "// interface\n",
    "\n",
    "package main\n",
    "\n",
    "import (\n",
    "    \"fmt\"\n",
    "    \"math\"\n",
    ")\n",
    "\n",
    "// interface\n",
    "type geometry interface {\n",
    "    whichStruct() string\n",
    "    area() float64\n",
    "    perim() float64\n",
    "}\n",
    "// structs\n",
    "type rect struct {\n",
    "    width, height float64\n",
    "}\n",
    "type circle struct {\n",
    "    radius float64\n",
    "}\n",
    "// methods for struct (rect)\n",
    "func (r rect) whichStruct() string {\n",
    "    return \"rect\"\n",
    "}\n",
    "func (r rect) area() float64 {\n",
    "    return r.width * r.height\n",
    "}\n",
    "func (r rect) perim() float64 {\n",
    "    return 2*r.width + 2*r.height\n",
    "}\n",
    "// methods for struct (circle)\n",
    "func (c circle) whichStruct() string {\n",
    "    return \"circle\"\n",
    "}\n",
    "func (c circle) area() float64 {\n",
    "    return math.Pi * c.radius * c.radius\n",
    "}\n",
    "func (c circle) perim() float64 {\n",
    "    return 2 * math.Pi * c.radius\n",
    "}\n",
    "// interface method\n",
    "func measure(g geometry) {\n",
    "    // fmt.Println(g)\n",
    "    fmt.Println(fmt.Sprintf(\"struct: %v\", g.whichStruct()))\n",
    "    fmt.Println(fmt.Sprintf(\"a: %.1f\", g.area()))\n",
    "    fmt.Println(fmt.Sprintf(\"p: %.1f\", g.perim()))\n",
    "}\n",
    "\n",
    "// use interface method\n",
    "r := rect{width: 3, height: 4}\n",
    "c := circle{radius: 5}\n",
    "\n",
    "measure(r)\n",
    "measure(c)\n"
   ]
  },
  {
   "cell_type": "code",
   "execution_count": null,
   "metadata": {},
   "outputs": [],
   "source": [
    "// interface embedding\n",
    "    // https://www.geeksforgeeks.org/embedding-interfaces-in-golang/"
   ]
  },
  {
   "cell_type": "code",
   "execution_count": null,
   "metadata": {},
   "outputs": [],
   "source": []
  },
  {
   "cell_type": "code",
   "execution_count": null,
   "metadata": {},
   "outputs": [],
   "source": []
  },
  {
   "cell_type": "code",
   "execution_count": null,
   "metadata": {},
   "outputs": [],
   "source": []
  },
  {
   "cell_type": "code",
   "execution_count": null,
   "metadata": {},
   "outputs": [],
   "source": []
  },
  {
   "cell_type": "code",
   "execution_count": null,
   "metadata": {},
   "outputs": [],
   "source": []
  },
  {
   "cell_type": "code",
   "execution_count": null,
   "metadata": {},
   "outputs": [],
   "source": []
  }
 ],
 "metadata": {
  "kernelspec": {
   "display_name": "Go",
   "language": "go",
   "name": "gophernotes"
  },
  "language_info": {
   "codemirror_mode": "",
   "file_extension": ".go",
   "mimetype": "",
   "name": "go",
   "nbconvert_exporter": "",
   "pygments_lexer": "",
   "version": "go1.13"
  }
 },
 "nbformat": 4,
 "nbformat_minor": 2
}
