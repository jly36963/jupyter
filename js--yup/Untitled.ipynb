{
 "cells": [
  {
   "cell_type": "code",
   "execution_count": 1,
   "metadata": {
    "scrolled": true
   },
   "outputs": [],
   "source": [
    "// ------------\n",
    "// yup example\n",
    "// ------------\n",
    "\n",
    "// remember\n",
    "  // schema.isValid(obj) -- check object against schema\n",
    "  // yup.default(value) -- set default value for property\n",
    "  // yup.nullable() -- allow for null values\n",
    "  // yup.required() -- must be provided\n",
    "  // yup.defined() -- any except undefined (including null)\n",
    "  // yup.when()\n",
    "\n",
    "// import\n",
    "const yup = require('yup');\n"
   ]
  },
  {
   "cell_type": "code",
   "execution_count": 2,
   "metadata": {},
   "outputs": [],
   "source": [
    "// schema\n",
    "\n",
    "// phone number regex\n",
    "const phoneRegExp = /^((\\\\+[1-9]{1,4}[ \\\\-]*)|(\\\\([0-9]{2,3}\\\\)[ \\\\-]*)|([0-9]{2,4})[ \\\\-]*)*?[0-9]{3,4}?[ \\\\-]*[0-9]{3,4}?$/\n",
    "\n",
    "// schema\n",
    "let userSchema = yup.object().shape({\n",
    "  name: yup.string().required('Please provide a name'),\n",
    "  age: yup\n",
    "    .number()\n",
    "    .required()\n",
    "    .positive()\n",
    "    .integer(),\n",
    "  email: yup.string().email(),\n",
    "  phoneNumber: yup\n",
    "    .string()\n",
    "    .matches(\n",
    "      phoneRegExp, // regex\n",
    "      'Phone number is not valid' // error message on fail\n",
    "    ),\n",
    "  // phoneNumber ? (phoneType is required) : (phoneType is optional/nullable)\n",
    "  phoneType: yup.string()\n",
    "    .when('phoneNumber', {\n",
    "      is: (val) => !!val,\n",
    "      then: yup.string().required('Please enter phone type.'),\n",
    "      otherwise: yup.string().nullable().default(null)\n",
    "    }),\n",
    "  website: yup.string().url(),\n",
    "  createdOn: yup.date().default(() => new Date()),\n",
    "});"
   ]
  },
  {
   "cell_type": "code",
   "execution_count": 3,
   "metadata": {},
   "outputs": [],
   "source": [
    "// objects to validate\n",
    "\n",
    "const kakashi1 = {\n",
    "  name: \"Kakashi\",\n",
    "  age: 27,\n",
    "};\n",
    "\n",
    "const kakashi2 = {\n",
    "  name: \"Kakashi\",\n",
    "  age: 27,\n",
    "  phoneNumber: '456-456-4565',\n",
    "  phoneType: 'home'\n",
    "}"
   ]
  },
  {
   "cell_type": "code",
   "execution_count": 4,
   "metadata": {},
   "outputs": [],
   "source": [
    "// check validity\n",
    "  // function to validate object against schema\n",
    "  // ASYNCHRONOUS\n",
    "\n",
    "const yupValidate = async (obj) => {\n",
    "    const passesValidation = await userSchema.isValid(obj)\n",
    "    return console.log(passesValidation) || passesValidation;\n",
    "}"
   ]
  },
  {
   "cell_type": "code",
   "execution_count": 5,
   "metadata": {},
   "outputs": [
    {
     "name": "stdout",
     "output_type": "stream",
     "text": [
      "true\n",
      "true\n"
     ]
    },
    {
     "data": {
      "text/plain": [
       "true"
      ]
     },
     "execution_count": 5,
     "metadata": {},
     "output_type": "execute_result"
    }
   ],
   "source": [
    "yupValidate(kakashi1)\n",
    "yupValidate(kakashi2)"
   ]
  }
 ],
 "metadata": {
  "kernelspec": {
   "display_name": "Javascript (Node.js)",
   "language": "javascript",
   "name": "javascript"
  },
  "language_info": {
   "file_extension": ".js",
   "mimetype": "application/javascript",
   "name": "javascript",
   "version": "13.13.0"
  }
 },
 "nbformat": 4,
 "nbformat_minor": 2
}
