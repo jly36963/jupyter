{
 "cells": [
  {
   "cell_type": "code",
   "execution_count": 1,
   "metadata": {},
   "outputs": [],
   "source": [
    "// knex"
   ]
  },
  {
   "cell_type": "code",
   "execution_count": 2,
   "metadata": {
    "scrolled": true
   },
   "outputs": [],
   "source": [
    "// imports\n",
    "const moment = require('moment')"
   ]
  },
  {
   "cell_type": "code",
   "execution_count": 1,
   "metadata": {},
   "outputs": [],
   "source": [
    "// import and initialize\n",
    "\n",
    "const knex = require('knex')({\n",
    "  client: 'pg',\n",
    "  connection: {\n",
    "    host: '127.0.0.1',\n",
    "    user: 'postgres',\n",
    "    password: 'postgres',\n",
    "    database: 'db1'\n",
    "  },\n",
    "  migrations: {\n",
    "    tableName: 'migrations'\n",
    "  }\n",
    "});\n",
    "\n",
    "// *** ONLY INITIALIZE ONCE ***\n",
    "// export connection and import in other modules\n",
    "\n",
    "// module.exports = knex;"
   ]
  },
  {
   "cell_type": "code",
   "execution_count": 4,
   "metadata": {},
   "outputs": [],
   "source": [
    "// create table\n",
    "\n",
    "(async (knex) => {\n",
    "  await knex.schema.createTable('people', (table) => {\n",
    "    table.increments(); // id (primary key)\n",
    "    table.string('first_name'); // first name (string)\n",
    "    table.string('last_name'); // first name (string)\n",
    "    table.timestamps();\n",
    "  })\n",
    "})(knex)"
   ]
  },
  {
   "cell_type": "code",
   "execution_count": 5,
   "metadata": {},
   "outputs": [
    {
     "name": "stdout",
     "output_type": "stream",
     "text": [
      "[ 1 ]\n"
     ]
    }
   ],
   "source": [
    "// insert record\n",
    "\n",
    "// 1\n",
    "(async (knex) => {\n",
    "  const personId = await knex('people')\n",
    "    .insert({\n",
    "      first_name: 'Kakashi',\n",
    "      last_name: 'Hatake',\n",
    "      created_at: moment(),\n",
    "      updated_at: moment(),\n",
    "    })\n",
    "    .returning('id')\n",
    "  console.log(personId)\n",
    "})(knex)"
   ]
  },
  {
   "cell_type": "code",
   "execution_count": 6,
   "metadata": {},
   "outputs": [
    {
     "name": "stdout",
     "output_type": "stream",
     "text": [
      "[ 2 ]\n"
     ]
    }
   ],
   "source": [
    "// insert record \n",
    "\n",
    "// 2\n",
    "(async (knex) => {\n",
    "  const personId = await knex('people')\n",
    "    .insert({\n",
    "      first_name: 'Tenzo',\n",
    "      last_name: 'Yamato',\n",
    "      created_at: moment(),\n",
    "      updated_at: moment(),\n",
    "    })\n",
    "    .returning('id')\n",
    "  console.log(personId)\n",
    "})(knex)"
   ]
  },
  {
   "cell_type": "code",
   "execution_count": 7,
   "metadata": {},
   "outputs": [
    {
     "name": "stdout",
     "output_type": "stream",
     "text": [
      "[ 1 ]\n"
     ]
    }
   ],
   "source": [
    "// update\n",
    "\n",
    "// version 1\n",
    "  // skipped values must be specified ({ skippedKey: undefined })\n",
    "\n",
    "(async (knex) => {\n",
    "  const personId = await knex('people')\n",
    "    .where({\n",
    "      id: 1\n",
    "    })\n",
    "    .update({\n",
    "      first_name: 'Tenzo',\n",
    "      last_name: 'Yamato',\n",
    "      created_at: undefined, // don't change this value\n",
    "      updated_at: moment(),\n",
    "    })\n",
    "    .returning('id')\n",
    "  console.log(personId)\n",
    "})(knex)"
   ]
  },
  {
   "cell_type": "code",
   "execution_count": 8,
   "metadata": {},
   "outputs": [
    {
     "name": "stdout",
     "output_type": "stream",
     "text": [
      "{\n",
      "  id: 2,\n",
      "  first_name: 'Tenzo',\n",
      "  last_name: 'Yamato',\n",
      "  created_at: 2020-04-15T18:48:19.145Z,\n",
      "  updated_at: 2020-04-15T18:48:19.145Z\n",
      "}\n",
      "[ 2 ]\n"
     ]
    }
   ],
   "source": [
    "// update\n",
    "\n",
    "// version 2\n",
    "  // get object, update properties, use as input for update command\n",
    "\n",
    "(async (knex) => {\n",
    "  // get\n",
    "  const person = await knex('people')\n",
    "    .where({ id: 2 })\n",
    "    .first();\n",
    "  console.log(person);\n",
    "  // update properties on user object\n",
    "  person.first_name = 'Kakashi'\n",
    "  person.last_name = 'Hatake'\n",
    "  person.updated_at = moment()\n",
    "  // update (using updated user object)\n",
    "  const personId = await knex('people')\n",
    "    .where({ id: 2 })\n",
    "    .update(person)\n",
    "    .returning('id')\n",
    "  console.log(personId);\n",
    "})(knex)"
   ]
  },
  {
   "cell_type": "code",
   "execution_count": 9,
   "metadata": {},
   "outputs": [
    {
     "name": "stdout",
     "output_type": "stream",
     "text": [
      "[]\n"
     ]
    }
   ],
   "source": [
    "// delete\n",
    "\n",
    "// return empty array if no match\n",
    "\n",
    "(async (knex) => {\n",
    "  const personId = await knex('people')\n",
    "    .where({ id: 3 })\n",
    "    .returning('id')\n",
    "    .del()\n",
    "  console.log(personId);\n",
    "})(knex)"
   ]
  },
  {
   "cell_type": "code",
   "execution_count": 15,
   "metadata": {},
   "outputs": [
    {
     "name": "stdout",
     "output_type": "stream",
     "text": [
      "result [\n",
      "  { first_name: 'Kakashi', last_name: 'Hatake' },\n",
      "  { first_name: 'Tenzo', last_name: 'Yamato' }\n",
      "]\n"
     ]
    }
   ],
   "source": [
    "// ----------\n",
    "// select\n",
    "// ----------\n",
    "\n",
    "(async (knex) => {\n",
    "  const result = await knex\n",
    "    .select([\"first_name\", \"last_name\"]) // default to '*' if no argument provided\n",
    "    .from('people')\n",
    "    .whereIn('first_name', [\n",
    "      'Kakashi', \n",
    "      'Tenzo'\n",
    "    ])\n",
    "    .groupBy('first_name')\n",
    "    .groupBy('last_name')\n",
    "    .having(knex.raw('count(*) >= 1'))\n",
    "  console.log('result', result);\n",
    "})(knex)\n",
    "\n",
    "// SELECT first_name, last_name FROM people\n",
    "// WHERE first_name IN ('Kakashi', 'Tenzo')\n",
    "// GROUP BY first_name, last_name\n",
    "// HAVING COUNT(*) >= 1;"
   ]
  },
  {
   "cell_type": "code",
   "execution_count": 21,
   "metadata": {},
   "outputs": [
    {
     "name": "stdout",
     "output_type": "stream",
     "text": [
      "[\n",
      "  {\n",
      "    id: 2,\n",
      "    first_name: 'Kakashi',\n",
      "    last_name: 'Hatake',\n",
      "    created_at: 2020-04-15T18:48:19.145Z,\n",
      "    updated_at: 2020-04-15T18:48:19.194Z\n",
      "  }\n",
      "]\n"
     ]
    }
   ],
   "source": [
    "// select (raw)\n",
    "\n",
    "(async (knex) => {\n",
    "  const query = `\n",
    "  SELECT * FROM people\n",
    "  WHERE first_name='Kakashi';\n",
    "  `\n",
    "  const result = await knex.raw(query);\n",
    "  const { rows } = result;\n",
    "  console.log(rows);\n",
    "})(knex)"
   ]
  },
  {
   "cell_type": "code",
   "execution_count": 3,
   "metadata": {},
   "outputs": [
    {
     "name": "stdout",
     "output_type": "stream",
     "text": [
      "[ { first_name: 'Kakashi' }, { first_name: 'Tenzo' } ]\n"
     ]
    }
   ],
   "source": [
    "// distinct\n",
    "\n",
    "(async(knex) => {\n",
    "  const distinctFirstNames = await knex('people')\n",
    "    .distinct('first_name');\n",
    "  console.log(distinctFirstNames)\n",
    "})(knex)\n",
    "\n",
    "// SELECT DISTINCT 'first_name', 'last_name' FROM 'customers'"
   ]
  },
  {
   "cell_type": "code",
   "execution_count": 8,
   "metadata": {},
   "outputs": [
    {
     "name": "stdout",
     "output_type": "stream",
     "text": [
      "[\n",
      "  { first_name: 'Kakashi', people_count: '1' },\n",
      "  { first_name: 'Tenzo', people_count: '1' }\n",
      "]\n"
     ]
    }
   ],
   "source": [
    "// groupby\n",
    "\n",
    "(async (knex) => {\n",
    "  const groups = await knex('people')\n",
    "    .select('first_name', knex.raw('count(*) as people_count'))\n",
    "    .groupBy('first_name')\n",
    "  console.log(groups)\n",
    "})(knex)"
   ]
  },
  {
   "cell_type": "code",
   "execution_count": 18,
   "metadata": {},
   "outputs": [
    {
     "name": "stdout",
     "output_type": "stream",
     "text": [
      "{\n",
      "  max: [ { max: 2 } ],\n",
      "  min: [ { min: 1 } ],\n",
      "  sum: [ { sum: '3' } ],\n",
      "  avg: [ { avg: '1.5000000000000000' } ]\n",
      "}\n"
     ]
    }
   ],
   "source": [
    "// min, max, sum, avg\n",
    "(async (knex) => {\n",
    "  const max = await knex('people')\n",
    "    .max('id')\n",
    "  const min = await knex('people')\n",
    "    .min('id')\n",
    "  const sum = await knex('people')\n",
    "    .sum('id')\n",
    "  const avg = await knex('people')\n",
    "    .avg('id')\n",
    "  const stats = {\n",
    "    max,\n",
    "    min,\n",
    "    sum,\n",
    "    avg\n",
    "  };\n",
    "  console.log(stats)\n",
    "})(knex)"
   ]
  },
  {
   "cell_type": "code",
   "execution_count": 20,
   "metadata": {},
   "outputs": [
    {
     "name": "stdout",
     "output_type": "stream",
     "text": [
      "[\n",
      "  { first_name: 'Kakashi', last_name: 'Hatake' },\n",
      "  { first_name: 'Tenzo', last_name: 'Yamato' }\n",
      "]\n"
     ]
    }
   ],
   "source": [
    "// union\n",
    "\n",
    "(async (knex) => {\n",
    "  const results = await knex('people')\n",
    "    .select('first_name', 'last_name')\n",
    "    .where({ first_name: 'Kakashi' })\n",
    "    .union([\n",
    "      knex('people')\n",
    "        .select('first_name', 'last_name')\n",
    "        .where({ first_name: 'Tenzo' })\n",
    "    ])\n",
    "  console.log(results)\n",
    "})(knex)"
   ]
  },
  {
   "cell_type": "code",
   "execution_count": null,
   "metadata": {},
   "outputs": [],
   "source": [
    "// join\n",
    "\n"
   ]
  },
  {
   "cell_type": "code",
   "execution_count": 21,
   "metadata": {},
   "outputs": [
    {
     "name": "stdout",
     "output_type": "stream",
     "text": [
      "[\n",
      "  { first_name: 'Kakashi', last_name: 'Hatake' },\n",
      "  { first_name: 'Tenzo', last_name: 'Yamato' }\n",
      "]\n"
     ]
    }
   ],
   "source": [
    "// orderBy\n",
    "\n",
    "(async (knex) => {\n",
    "  results = await knex('people')\n",
    "    .select('first_name', 'last_name')\n",
    "    .orderBy([\n",
    "      { column: 'first_name', order: 'asc' }, // primary criteria\n",
    "      { column: 'last_name', order: 'desc' } // secondary criteria\n",
    "    ])\n",
    "  console.log(results)\n",
    "})(knex)"
   ]
  },
  {
   "cell_type": "code",
   "execution_count": null,
   "metadata": {},
   "outputs": [],
   "source": []
  },
  {
   "cell_type": "code",
   "execution_count": null,
   "metadata": {},
   "outputs": [],
   "source": []
  }
 ],
 "metadata": {
  "kernelspec": {
   "display_name": "Javascript (Node.js)",
   "language": "javascript",
   "name": "javascript"
  },
  "language_info": {
   "file_extension": ".js",
   "mimetype": "application/javascript",
   "name": "javascript",
   "version": "13.12.0"
  }
 },
 "nbformat": 4,
 "nbformat_minor": 2
}
