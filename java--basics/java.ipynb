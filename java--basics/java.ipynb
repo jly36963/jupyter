{
 "cells": [
  {
   "cell_type": "code",
   "execution_count": null,
   "metadata": {},
   "outputs": [],
   "source": [
    "// java"
   ]
  },
  {
   "cell_type": "code",
   "execution_count": null,
   "metadata": {},
   "outputs": [],
   "source": []
  },
  {
   "cell_type": "code",
   "execution_count": 1,
   "metadata": {},
   "outputs": [],
   "source": [
    "// hello world 2\n",
    "\n",
    "public class Printer {\n",
    "    public static void main(String[] args) {\n",
    "        System.out.println(\"Hello, Java!\");\n",
    "    }\n",
    "}"
   ]
  },
  {
   "cell_type": "code",
   "execution_count": 2,
   "metadata": {},
   "outputs": [
    {
     "name": "stdout",
     "output_type": "stream",
     "text": [
      "Hello, Java\n"
     ]
    }
   ],
   "source": [
    "System.out.println(\"Hello, Java\");"
   ]
  },
  {
   "cell_type": "code",
   "execution_count": 9,
   "metadata": {},
   "outputs": [
    {
     "name": "stdout",
     "output_type": "stream",
     "text": [
      "2.23606797749979\n"
     ]
    }
   ],
   "source": [
    "// math\n",
    "int x = 5;\n",
    "double x1 = Math.sqrt(x);\n",
    "System.out.println(x1);"
   ]
  },
  {
   "cell_type": "code",
   "execution_count": null,
   "metadata": {},
   "outputs": [],
   "source": []
  },
  {
   "cell_type": "code",
   "execution_count": 12,
   "metadata": {},
   "outputs": [
    {
     "name": "stdout",
     "output_type": "stream",
     "text": [
      "x is 0.\n"
     ]
    }
   ],
   "source": [
    "// if\n",
    "int x = 0;\n",
    "\n",
    "if (x < 0) {\n",
    "    System.out.println(\"x is negative.\");\n",
    "} else if (x > 0) {\n",
    "    System.out.println(\"x is positive.\");\n",
    "} else if (x == 0) {\n",
    "    System.out.println(\"x is 0.\");\n",
    "} else {\n",
    "    System.out.println(\"wtf.\");\n",
    "}\n"
   ]
  },
  {
   "cell_type": "code",
   "execution_count": 14,
   "metadata": {},
   "outputs": [
    {
     "name": "stdout",
     "output_type": "stream",
     "text": [
      "x is odd\n"
     ]
    }
   ],
   "source": [
    "// ternary operator\n",
    "int x = 5;\n",
    "String result = (x % 2 == 0) ? \"x is even.\" : \"x is odd\";\n",
    "System.out.println(result);"
   ]
  },
  {
   "cell_type": "code",
   "execution_count": 16,
   "metadata": {},
   "outputs": [
    {
     "name": "stdout",
     "output_type": "stream",
     "text": [
      "Let's go get some food.\n"
     ]
    }
   ],
   "source": [
    "// switch\n",
    "String hungry = \"yes\";\n",
    "\n",
    "switch (hungry) {\n",
    "    case \"yes\":\n",
    "        System.out.println(\"Let's go get some food.\");\n",
    "        break;\n",
    "    case \"no\":\n",
    "        System.out.println(\"Maybe later...\");\n",
    "        break;\n",
    "    default:\n",
    "        System.out.println(\"I don't understand your response.\");\n",
    "}"
   ]
  },
  {
   "cell_type": "code",
   "execution_count": 31,
   "metadata": {
    "scrolled": true
   },
   "outputs": [
    {
     "name": "stdout",
     "output_type": "stream",
     "text": [
      "Hey there, Kakashi!\n"
     ]
    },
    {
     "data": {
      "text/plain": [
       "8"
      ]
     },
     "execution_count": 31,
     "metadata": {},
     "output_type": "execute_result"
    }
   ],
   "source": [
    "\n",
    "// -----------\n",
    "// methods\n",
    "// -----------\n",
    "\n",
    "public class Hello {\n",
    "  // method (no params)\n",
    "  static void sayHello() {\n",
    "    System.out.println(\"Hello!\");\n",
    "  }\n",
    "  // method (withparams)\n",
    "  static void greet(String fname) {\n",
    "    System.out.println(\"Hey there, \" + fname + \"!\");\n",
    "  }\n",
    "  // return\n",
    "  static int addNums(int x, int y) {\n",
    "      return x + y;\n",
    "  }\n",
    "  // main\n",
    "  public static void main(String[] args) {\n",
    "    sayHello();\n",
    "    greet(\"Kakashi\");\n",
    "    int x = 3;\n",
    "    int y = 5;\n",
    "    int z = addNums(x, y);\n",
    "    System.out.println(z);\n",
    "  }\n",
    "}\n",
    "\n",
    "// call function in jupyter notebooks\n",
    "Hello.greet(\"Kakashi\");\n",
    "Hello.addNums(5, 3);"
   ]
  },
  {
   "cell_type": "code",
   "execution_count": 34,
   "metadata": {},
   "outputs": [],
   "source": [
    "// -----------\n",
    "// classes and objects (class instances)\n",
    "// -----------\n",
    "\n",
    "// static methods don't need an object\n",
    "// public methods need an object\n",
    "\n",
    "// example (final)\n",
    "public class MyClass {\n",
    "  int x = 10; // to make unchangeable, `final int x = 10`\n",
    "\n",
    "  public static void main(String[] args) {\n",
    "    MyClass myObj = new MyClass();\n",
    "    myObj.x = 25; // x is now 25\n",
    "    System.out.println(myObj.x);\n",
    "  }\n",
    "}\n",
    "\n",
    "// example (constructor)\n",
    "public class Car {\n",
    "  // attributes\n",
    "  int modelYear;\n",
    "  String modelName;\n",
    "  // constructor\n",
    "  public Car(int year, String name) {\n",
    "    modelYear = year;\n",
    "    modelName = name;\n",
    "  }\n",
    "  // main\n",
    "  public static void main(String[] args) {\n",
    "    Car myCar = new Car(1969, \"Mustang\"); // class instantiation (using constructor)\n",
    "    System.out.println(myCar.modelYear + \" \" + myCar.modelName);\n",
    "  }\n",
    "}\n",
    "\n",
    "// example (encapsulation) (like javascript closures)\n",
    "public class Jonin {\n",
    "    // attributes (private)\n",
    "    private String name;\n",
    "    private int age;\n",
    "    // constructor\n",
    "    public Jonin(String n, int a) {\n",
    "        name = n;\n",
    "        age = a;\n",
    "    }\n",
    "    // getter\n",
    "    public String getName() {\n",
    "        return name;\n",
    "    }\n",
    "    public int getAge() {\n",
    "        return age;\n",
    "    }\n",
    "    // setter\n",
    "    public void setName(String newName) {\n",
    "        this.name = newName;\n",
    "    }\n",
    "    public void setAge(int newAge) {\n",
    "        this.age = newAge;\n",
    "    }\n",
    "}"
   ]
  },
  {
   "cell_type": "code",
   "execution_count": 36,
   "metadata": {},
   "outputs": [],
   "source": [
    "// -----------\n",
    "// arraylist (java.util.ArrayList)\n",
    "// -----------\n",
    "\n",
    "import java.util.ArrayList;\n",
    "import java.util.Collections;\n",
    "\n",
    "public class MyClass {\n",
    "  public static void main(String[] args) {\n",
    "    ArrayList<String> cars = new ArrayList<String>();\n",
    "    cars.add(\"Volvo\"); // add\n",
    "    cars.add(\"BMW\");\n",
    "    cars.add(\"Ford\");\n",
    "    cars.add(\"Mazda\");\n",
    "    cars.get(0); // get\n",
    "    cars.set(0, \"Opel\"); // set\n",
    "    cars.remove(0); // remove\n",
    "    cars.size(); // size\n",
    "    Collections.sort(cars); // sort\n",
    "    cars.clear(); // clear\n",
    "    // for each\n",
    "    for (String car : cars) {\n",
    "        System.out.println(car);\n",
    "    }\n",
    "    // for loop\n",
    "    for (int i =0; i < cars.size(); i++) {\n",
    "        System.out.println(cars.get(i));\n",
    "    }\n",
    "  }\n",
    "} "
   ]
  },
  {
   "cell_type": "code",
   "execution_count": 35,
   "metadata": {},
   "outputs": [],
   "source": [
    "// -----------\n",
    "// hashmap\n",
    "// -----------\n",
    "\n",
    "// Import the HashMap class\n",
    "import java.util.HashMap;\n",
    "\n",
    "public class MyClass {\n",
    "  public static void main(String[] args) {\n",
    "\n",
    "    // Create a HashMap object called capitalCities\n",
    "    HashMap<String, String> hm1 = new HashMap<String, String>();\n",
    "\n",
    "    // Add keys and values (Country, City)\n",
    "    hm1.put(\"England\", \"London\"); // put\n",
    "    hm1.put(\"Germany\", \"Berlin\");\n",
    "    hm1.put(\"Norway\", \"Oslo\");\n",
    "    hm1.put(\"USA\", \"Washington DC\");\n",
    "    hm1.get(\"England\"); // get\n",
    "    hm1.remove(\"England\"); // remove\n",
    "    hm1.size(); // size\n",
    "    hm1.clear(); // clear\n",
    "    System.out.println(hm1);\n",
    "    // foreach (keys)\n",
    "    for (String i : hm1.keySet()) {\n",
    "        System.out.println(i);\n",
    "    }\n",
    "    // foreach (values)\n",
    "    for (String i : hm1.values()) {\n",
    "        System.out.println(i);\n",
    "    }\n",
    "    // foreach (k/v)\n",
    "    for (Map.Entry<String, String> entry : hm1.entrySet()) {\n",
    "        System.out.println(entry.getKey() + \"/\" + entry.getValue());\n",
    "    }\n",
    "  }\n",
    "} "
   ]
  }
 ],
 "metadata": {
  "kernelspec": {
   "display_name": "Java",
   "language": "java",
   "name": "java"
  },
  "language_info": {
   "codemirror_mode": "java",
   "file_extension": ".jshell",
   "mimetype": "text/x-java-source",
   "name": "Java",
   "pygments_lexer": "java",
   "version": "11.0.1-internal+0-adhoc..src"
  }
 },
 "nbformat": 4,
 "nbformat_minor": 2
}
