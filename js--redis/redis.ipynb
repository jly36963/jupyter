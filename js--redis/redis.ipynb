{
 "cells": [
  {
   "cell_type": "code",
   "execution_count": 1,
   "metadata": {},
   "outputs": [
    {
     "data": {
      "text/plain": [
       "'\\nnpm i --save moment redis\\n'"
      ]
     },
     "execution_count": 1,
     "metadata": {},
     "output_type": "execute_result"
    }
   ],
   "source": [
    "// ------------\n",
    "// redis\n",
    "// ------------\n",
    "\n",
    "// install\n",
    "`\n",
    "npm i --save moment redis\n",
    "`"
   ]
  },
  {
   "cell_type": "code",
   "execution_count": 2,
   "metadata": {},
   "outputs": [],
   "source": [
    "// import\n",
    "const redis = require('redis');\n",
    "const { promisify } = require('util'); // promisify get/set methods"
   ]
  },
  {
   "cell_type": "code",
   "execution_count": 3,
   "metadata": {},
   "outputs": [],
   "source": [
    "// ------------\n",
    "// connect\n",
    "// ------------\n",
    "\n",
    "// config\n",
    "const config = {\n",
    "  port: 6379, // default port\n",
    "  host: '127.0.0.1', // default host\n",
    "}\n",
    "// create client\n",
    "const client = redis.createClient(config);\n",
    "// promisify client\n",
    "const getAsync = promisify(client.get).bind(client);\n",
    "const setAsync = promisify(client.set).bind(client);"
   ]
  },
  {
   "cell_type": "code",
   "execution_count": 4,
   "metadata": {},
   "outputs": [
    {
     "data": {
      "text/plain": [
       "'hello'"
      ]
     },
     "execution_count": 4,
     "metadata": {},
     "output_type": "execute_result"
    }
   ],
   "source": [
    "// ------------\n",
    "// log\n",
    "// ------------\n",
    "\n",
    "// on connect\n",
    "client.on('connect', () => {\n",
    "  console.log(`Connected on ${host}:${port}`)\n",
    "})\n",
    "\n",
    "// on error\n",
    "client.on('error', (err) => {\n",
    "  console.log(\"error\", err);\n",
    "})\n",
    "\n",
    "'hello'"
   ]
  },
  {
   "cell_type": "code",
   "execution_count": 5,
   "metadata": {},
   "outputs": [
    {
     "data": {
      "text/plain": [
       "true"
      ]
     },
     "execution_count": 5,
     "metadata": {},
     "output_type": "execute_result"
    },
    {
     "name": "stdout",
     "output_type": "stream",
     "text": [
      "Reply: OK\n",
      "Reply: Kakashi\n"
     ]
    }
   ],
   "source": [
    "// ------------\n",
    "// callbacks\n",
    "// ------------\n",
    "\n",
    "// set\n",
    "client.set(\n",
    "  'name', // key\n",
    "  'Kakashi', // value\n",
    "  redis.print // callback\n",
    ");\n",
    "\n",
    "// get\n",
    "client.get(\n",
    "  'name', // key\n",
    "  redis.print // callback\n",
    ");"
   ]
  },
  {
   "cell_type": "code",
   "execution_count": 6,
   "metadata": {},
   "outputs": [
    {
     "name": "stdout",
     "output_type": "stream",
     "text": [
      "OK\n",
      "Yamato\n"
     ]
    },
    {
     "data": {
      "text/plain": [
       "'Yamato'"
      ]
     },
     "execution_count": 6,
     "metadata": {},
     "output_type": "execute_result"
    }
   ],
   "source": [
    "// ------------\n",
    "// promises (async / await)\n",
    "// ------------\n",
    "\n",
    "// set\n",
    "const redisSet = async (k, v) => {\n",
    "  const redisResponse = await setAsync(k, v);\n",
    "  console.log(redisResponse); // OK\n",
    "  return redisResponse;\n",
    "};\n",
    "\n",
    "redisSet('name', 'Yamato')\n",
    "\n",
    "// get\n",
    "const redisGet = async (k) => {\n",
    "  const redisResponse = await getAsync(k);\n",
    "  console.log(redisResponse);\n",
    "  return redisResponse;\n",
    "};\n",
    "\n",
    "redisGet('name');"
   ]
  },
  {
   "cell_type": "code",
   "execution_count": null,
   "metadata": {},
   "outputs": [],
   "source": []
  },
  {
   "cell_type": "code",
   "execution_count": null,
   "metadata": {},
   "outputs": [],
   "source": []
  },
  {
   "cell_type": "code",
   "execution_count": null,
   "metadata": {},
   "outputs": [],
   "source": []
  },
  {
   "cell_type": "code",
   "execution_count": null,
   "metadata": {},
   "outputs": [],
   "source": []
  },
  {
   "cell_type": "code",
   "execution_count": null,
   "metadata": {},
   "outputs": [],
   "source": []
  },
  {
   "cell_type": "code",
   "execution_count": null,
   "metadata": {},
   "outputs": [],
   "source": []
  },
  {
   "cell_type": "code",
   "execution_count": null,
   "metadata": {},
   "outputs": [],
   "source": []
  },
  {
   "cell_type": "code",
   "execution_count": null,
   "metadata": {},
   "outputs": [],
   "source": []
  },
  {
   "cell_type": "code",
   "execution_count": null,
   "metadata": {},
   "outputs": [],
   "source": []
  },
  {
   "cell_type": "code",
   "execution_count": null,
   "metadata": {},
   "outputs": [],
   "source": []
  },
  {
   "cell_type": "code",
   "execution_count": null,
   "metadata": {},
   "outputs": [],
   "source": []
  }
 ],
 "metadata": {
  "kernelspec": {
   "display_name": "Javascript (Node.js)",
   "language": "javascript",
   "name": "javascript"
  },
  "language_info": {
   "file_extension": ".js",
   "mimetype": "application/javascript",
   "name": "javascript",
   "version": "13.13.0"
  }
 },
 "nbformat": 4,
 "nbformat_minor": 2
}
